{
 "cells": [
  {
   "cell_type": "code",
   "execution_count": 1,
   "metadata": {},
   "outputs": [],
   "source": [
    "species = 'lumbricus_rubellus' # either 'lumbricus_rubellus' or 'lumbricus_terrestris'"
   ]
  },
  {
   "cell_type": "code",
   "execution_count": 2,
   "metadata": {},
   "outputs": [],
   "source": [
    "import cobra\n",
    "from functools import reduce\n",
    "import os\n",
    "import warnings\n",
    "from collections import defaultdict, Counter\n",
    "from cobra.core.dictlist import DictList\n",
    "cobra.Configuration.solver = 'glpk'\n",
    "warnings.simplefilter(\"ignore\", category=UserWarning)\n",
    "\n",
    "def get_biocyc_id(met: cobra.Metabolite):\n",
    "    biocyc_id = met.annotation.get('biocyc')\n",
    "    if biocyc_id:\n",
    "        biocyc_id = biocyc_id[biocyc_id.index(':')+1:]\n",
    "    return biocyc_id\n",
    "\n",
    "# function to collect all compartment instances of the metabolites, but only for metabolites that have an annotation with a given key\n",
    "def annotation_map(items: cobra.DictList, key: str) -> defaultdict:\n",
    "    anno_map = defaultdict(list)\n",
    "    for it in items:\n",
    "        a = it.annotation.get(key)\n",
    "        if a and isinstance(a, str):\n",
    "            anno_map[a].append(it.id)\n",
    "    return anno_map\n",
    "\n",
    "def replace_metabolite(reac: cobra.Reaction, old: cobra.Metabolite, new: cobra.Metabolite):\n",
    "    coeff = reac.metabolites[old]\n",
    "    reac.add_metabolites({old: -coeff, new: coeff})\n",
    "\n",
    "def move_metabolite_compartments(model, source, target):\n",
    "    obsolete_mets = []\n",
    "    for m in model.metabolites:\n",
    "        if m.id.endswith('_' + source):\n",
    "            new = m.id[:-len(source)] + target\n",
    "            print(m.id, '->', new)\n",
    "            if new not in model.metabolites:\n",
    "                m.id = new\n",
    "                m.compartment = target\n",
    "            else:\n",
    "                for r in m.reactions:\n",
    "                    replace_metabolite(r, m, new)\n",
    "                obsolete_mets.append(m)\n",
    "    model.remove_metabolites(obsolete_mets)\n",
    "\n",
    "def metabolite_id_for_compartment(met: cobra.Metabolite, compartment: str) -> str:\n",
    "    if met.id.endswith('_'+met.compartment): # this is the regular case\n",
    "        return(met.id[:-len(m.compartment)] + compartment)\n",
    "    else:\n",
    "        idx = met.id.rfind('_')\n",
    "        if idx < 0:\n",
    "            raise ValueError\n",
    "        else:\n",
    "            return(met.id[:idx+1] + compartment)\n",
    "\n",
    "# this function is copied from cnapy.core so that a complete installation of cnapy won't be necessary\n",
    "def replace_ids(dict_list: DictList, annotation_key: str, unambiguous_only: bool = False,\n",
    "                unique_only: bool = True, candidates_separator: str =\"\") -> None:\n",
    "    # can be used to replace IDs of reactions or metabolites with ones that are taken from the anotation\n",
    "    # use model.compartments.keys() as compartment_ids if the metabolites have compartment suffixes\n",
    "    # does not rename exchange reactions\n",
    "    all_candidates = [None] * len(dict_list)\n",
    "    if unique_only:\n",
    "        candidates_count: Counter = Counter()\n",
    "    for i, entry in enumerate(dict_list):\n",
    "        candidates = entry.annotation.get(annotation_key, [])\n",
    "        if not isinstance(candidates, list):\n",
    "            if len(candidates_separator) > 0:\n",
    "                candidates = candidates.split(candidates_separator)\n",
    "            else:\n",
    "                candidates = [candidates]\n",
    "        if len(candidates) > 0 and hasattr(entry, 'compartment'):\n",
    "            candidates = [c+\"_\"+entry.compartment for c in candidates]\n",
    "        if unique_only:\n",
    "            candidates_count.update(candidates)\n",
    "        all_candidates[i] = candidates\n",
    "\n",
    "    for entry, candidates in zip(dict_list, all_candidates):\n",
    "        if unique_only:\n",
    "            candidates = [c for c in candidates if candidates_count[c] == 1]\n",
    "        if unambiguous_only and len(candidates) > 1:\n",
    "            continue\n",
    "        old_id = entry.id\n",
    "        for new_id in candidates:\n",
    "            if new_id == old_id:\n",
    "                print(old_id, \"remains unchanged\")\n",
    "                break\n",
    "            try:\n",
    "                entry.id = new_id\n",
    "                entry.annotation['original ID'] = old_id\n",
    "                break\n",
    "            except ValueError: # new_id already in use\n",
    "                pass\n",
    "        if len(candidates) > 0 and new_id != old_id and old_id == entry.id:\n",
    "            print(\"Could not find a new ID for\", entry.id, \"in\", candidates)"
   ]
  },
  {
   "cell_type": "code",
   "execution_count": 3,
   "metadata": {},
   "outputs": [],
   "source": [
    "icel = cobra.io.read_sbml_model(\"wormflux_iCEL1314/iCEL1314.xml.gz\")"
   ]
  },
  {
   "cell_type": "code",
   "execution_count": 4,
   "metadata": {},
   "outputs": [
    {
     "name": "stdout",
     "output_type": "stream",
     "text": [
      "9.27869407879553\n"
     ]
    },
    {
     "data": {
      "text/plain": [
       "0.9653119288525618"
      ]
     },
     "execution_count": 4,
     "metadata": {},
     "output_type": "execute_result"
    }
   ],
   "source": [
    "model = cobra.io.read_sbml_model(os.path.join(species, \"MetaFlux/SBML_export_augmented.sbml\"))\n",
    "print(model.slim_optimize())\n",
    "# prevent free ATP generation (check via ATPASE_RXN)\n",
    "model.reactions.RXN_10862.lower_bound = 0\n",
    "model.reactions.RXN_14218.lower_bound = 0\n",
    "model.slim_optimize()"
   ]
  },
  {
   "cell_type": "code",
   "execution_count": 5,
   "metadata": {},
   "outputs": [],
   "source": [
    "# remove CPD-16459 (H2PO4) which is only involved in reaction H2PO4 = HPO4 + H+\n",
    "# otherwise, this metabolite would interfere with the correct mapping of phospate \n",
    "# because it is just a different protonation state\n",
    "model.remove_metabolites([model.metabolites.CPD_16459_c], destructive=True)"
   ]
  },
  {
   "cell_type": "markdown",
   "metadata": {},
   "source": [
    "validate the current BiGG mapping (for uniqe IDs only) between model and iCEL1314"
   ]
  },
  {
   "cell_type": "code",
   "execution_count": 6,
   "metadata": {},
   "outputs": [],
   "source": [
    "# update some annotations\n",
    "icel.metabolites.get_by_id('g6p-A_c').annotation['bigg.metabolite'] = 'g6p_A'\n",
    "icel.metabolites.get_by_id('g6p-B_c').annotation['bigg.metabolite'] = 'g6p_B'"
   ]
  },
  {
   "cell_type": "code",
   "execution_count": 7,
   "metadata": {},
   "outputs": [],
   "source": [
    "icel_bigg_compounds = annotation_map(icel.metabolites, 'bigg.metabolite')"
   ]
  },
  {
   "cell_type": "code",
   "execution_count": 8,
   "metadata": {},
   "outputs": [],
   "source": [
    "# add ETF (basically an equivalent of FAD) annotations\n",
    "# in the earthworm model, FAD is only a metabolite in its synthesis pathway while ETF are the electron carriers\n",
    "model.metabolites.ETF_Reduced_c.annotation['bigg.metabolite'] = 'etfrd'\n",
    "model.metabolites.get_by_id('ETF_Reduced_c').annotation['bigg.metabolite'] = 'etfrd'\n",
    "model.metabolites.ETF_Oxidized_c.annotation['bigg.metabolite'] = 'etfox'\n",
    "model.metabolites.get_by_id('ETF_Oxidized_c').annotation['bigg.metabolite'] = 'etfox'"
   ]
  },
  {
   "cell_type": "code",
   "execution_count": 9,
   "metadata": {},
   "outputs": [
    {
     "name": "stdout",
     "output_type": "stream",
     "text": [
      "3_HYDROXY_ANTHRANILATE_c 3hanthrn 3hanthrn_c -1\n",
      "3_HYDROXY_ANTHRANILATE_c 3hanthrn 3hanthrn_e -1\n",
      "3_SULFINOALANINE_c 3sala 3sala_m 1\n",
      "3_SULFINOALANINE_c 3sala 3sala_c 1\n",
      "5_PHOSPHORIBOSYL_5_AMINOIMIDAZOLE_c air air_c 1\n",
      "ALA_tRNAs_c trnaala trnaala_c -3 C28H34N11O21P3Uj ROH\n",
      "ALA_tRNAs_c trnaala trnaala_m -3 C28H34N11O21P3Uj ROH\n",
      "ASP_tRNAs_c trnaasp trnaasp_c -3 C28H34N11O21P3Ug ROH\n",
      "ASP_tRNAs_c trnaasp trnaasp_m -3 C28H34N11O21P3Ug ROH\n",
      "CO3_c hco3 hco3_e -1\n",
      "CO3_c hco3 hco3_c -1\n",
      "CO3_c hco3 hco3_m -1\n",
      "CPD_13612_c sphgn sphgn_ce_c C18H40NO2 C19H42NO2\n",
      "CPD_13612_c sphgn sphgn_ce_e C18H40NO2 C19H42NO2\n",
      "CPD_3743_c tchola tchola_c -1\n",
      "CPD_3743_c tchola tchola_e -1\n",
      "CPD_649_c sph1p sph1p_ce_c C18H39NO5P C19H41NO5P\n",
      "CPD_649_c sph1p sph1p_ce_e C18H39NO5P C19H41NO5P\n",
      "CPD_678_c seln seln_c 1\n",
      "CPD_846_c h2s h2s_m -1\n",
      "CPD_846_c h2s h2s_c -1\n",
      "DEHYDROSPHINGANINE_c 3dsphgn 3dsphgn_ce_c C18H38NO2 C19H40NO2\n",
      "ETF_Oxidized_c etfox etfox_m -1 C13H10N4O2Wn R\n",
      "ETF_Reduced_c etfrd etfrd_m C13H13N4O2Wn RH2\n",
      "FAD_c fad fad_e -1\n",
      "FAD_c fad fad_c -1\n",
      "FAD_c fad fad_m -1\n",
      "FMN_c fmn fmn_e -1\n",
      "FMN_c fmn fmn_c -1\n",
      "FMN_c fmn fmn_m -1\n",
      "H2CO3_c hco3 hco3_e 1\n",
      "H2CO3_c hco3 hco3_c 1\n",
      "H2CO3_c hco3 hco3_m 1\n",
      "HSO3_c so3 so3_m 1\n",
      "HSO3_c so3 so3_e 1\n",
      "HSO3_c so3 so3_c 1\n",
      "HYPOTAURINE_c hyptaur hyptaur_c 1\n",
      "N_FORMIMINO_L_GLUTAMATE_c forglu forglu_c 1\n",
      "N_FORMIMINO_L_GLUTAMATE_c forglu forglu_e 1\n",
      "RIBOFLAVIN_c ribflv ribflv_e -1\n",
      "RIBOFLAVIN_c ribflv ribflv_c -1\n",
      "RIBOFLAVIN_c ribflv ribflv_m -1\n",
      "S2O3_c tsul tsul_c 1\n",
      "S2O3_c tsul tsul_m 1\n",
      "S2O3_c tsul tsul_e 1\n",
      "TRP_tRNAs_c trnatrp trnatrp_c -3 C28H34N11O21P3Vp ROH\n",
      "TRP_tRNAs_c trnatrp trnatrp_m -3 C28H34N11O21P3Vp ROH\n",
      "TYR_tRNAs_c trnatyr trnatyr_m -3 C28H34N11O21P3Wi ROH\n",
      "TYR_tRNAs_c trnatyr trnatyr_c -3 C28H34N11O21P3Wi ROH\n"
     ]
    }
   ],
   "source": [
    "# this block sets up the mapping from base BioCyc ID (without compartment identifier) \n",
    "# to all iCEL1314 metabolites (with compartment variants) and shows charge and formula differences\n",
    "metabolite_compartments = defaultdict(set)\n",
    "biocyc2icel = defaultdict(set) # maping form BioCyc ID to iCEL1314 metabolites\n",
    "for m in model.metabolites:\n",
    "    biocyc_id = get_biocyc_id(m)\n",
    "    bigg_id = m.annotation.get('bigg.metabolite', None)\n",
    "    if bigg_id and isinstance(bigg_id, str):\n",
    "        bigg_id = bigg_id.replace('__', '-') # BioCyc uses e.g. glc__D, iCEL1314 glc-D\n",
    "        for icel_met in icel.metabolites.get_by_any(icel_bigg_compounds.get(bigg_id, [])):\n",
    "            if m.charge != icel_met.charge:\n",
    "                d = m.charge - icel_met.charge\n",
    "                el = defaultdict(int)\n",
    "                el.update(icel_met.elements)\n",
    "                el['H'] += d\n",
    "                if el['H'] == 0:\n",
    "                    del el['H']\n",
    "                if el == m.elements: # charge difference because of protonation difference\n",
    "                    print(m.id, bigg_id, icel_met.id, d)\n",
    "                else:\n",
    "                    print(m.id, bigg_id, icel_met.id, d, m.formula, icel_met.formula)\n",
    "            elif m.elements != icel_met.elements:\n",
    "                print(m.id, bigg_id, icel_met.id, m.formula, icel_met.formula)\n",
    "            metabolite_compartments[biocyc_id].add(icel_met.compartment)\n",
    "            biocyc2icel[biocyc_id].add(icel_met)"
   ]
  },
  {
   "cell_type": "code",
   "execution_count": 10,
   "metadata": {},
   "outputs": [
    {
     "data": {
      "text/plain": [
       "{<Metabolite glc-D-A_c at 0x2a3c2c0e880>,\n",
       " <Metabolite glc-D-B_c at 0x2a3c2b90670>,\n",
       " <Metabolite glc-D_c at 0x2a3b2240e50>,\n",
       " <Metabolite glc-D_e at 0x2a3c2b90940>}"
      ]
     },
     "execution_count": 10,
     "metadata": {},
     "output_type": "execute_result"
    }
   ],
   "source": [
    "biocyc2icel['Glucopyranose']"
   ]
  },
  {
   "cell_type": "code",
   "execution_count": 11,
   "metadata": {},
   "outputs": [],
   "source": [
    "biocyc2icel['Glucopyranose'] = set(icel.metabolites.get_by_any(['glc-D_e', 'glc-D_e'])) # do not map to the alpha/beta instances"
   ]
  },
  {
   "cell_type": "code",
   "execution_count": 12,
   "metadata": {},
   "outputs": [
    {
     "name": "stdout",
     "output_type": "stream",
     "text": [
      "LRU:1-PHOSPHATIDYL-1D-MYO-INOSITOL-34-BISPH C11554 pail34p_c C11H14O19RRP3 C46.1308H77.1556O19.0P3.0\n",
      "LRU:1-PHOSPHATIDYL-1D-MYO-INOSITOL-35-BISPH C11556 pail35p_c C11H14O19RRP3 C46.1308H77.1556O19.0P3.0\n",
      "LRU:1-PHOSPHATIDYL-1D-MYO-INOSITOL-5-PHOSPHA C11557 pail5p_c C11H15O16RRP2 C46.1308H78.1556O16.0P2.0\n",
      "LRU:2-Lysophosphatidylcholines C04230 lpchol_e C9H19NO7RP C26.5654H50.5778N1.0O7.0P1.0\n",
      "LRU:2-Lysophosphatidylcholines C04230 lpchol_c C9H19NO7RP C26.5654H50.5778N1.0O7.0P1.0\n",
      "3_HYDROXY_ANTHRANILATE_c C00632 3hanthrn_c -1\n",
      "3_HYDROXY_ANTHRANILATE_c C00632 3hanthrn_e -1\n",
      "3_SULFINOALANINE_c C00606 3sala_m 1\n",
      "3_SULFINOALANINE_c C00606 3sala_c 1\n",
      "5_PHOSPHORIBOSYL_5_AMINOIMIDAZOLE_c C03373 air_c 1\n",
      "LRU:ACYL-COA C00040 Rtotalcoa_c C22H31N7O17RP3S C39.5654H62.5778N7.0O17.0P3.0S1.0\n",
      "ALA_tRNAs_c C01635 trnaala_c C28H34N11O21P3Uj ROH\n",
      "ALA_tRNAs_c C01635 trnaala_m C28H34N11O21P3Uj ROH\n",
      "AMMONIA_c C00014 nh4_e -1\n",
      "AMMONIA_c C00014 nh4_c -1\n",
      "AMMONIA_c C00014 nh4_m -1\n",
      "ASP_tRNAs_c C01638 trnaasp_c C28H34N11O21P3Ug ROH\n",
      "ASP_tRNAs_c C01638 trnaasp_m C28H34N11O21P3Ug ROH\n",
      "LRU:CARDIOLIPIN C05980 clpn_c C13H16O17RRRRP2 C83.2616H142.3112O17.0P2.0\n",
      "LRU:CDPDIACYLGLYCEROL C00269 cdpdag_c C14H17N3O15RRP2 C49.1308H80.1556N3.0O15.0P2.0\n",
      "LRU:CDPDIACYLGLYCEROL C00269 cdpdag_m C14H17N3O15RRP2 C49.1308H80.1556N3.0O15.0P2.0\n",
      "LRU:CPD-1108 C01277 pail4p_c C11H15O16RRP2 C46.1308H78.1556O16.0P2.0\n",
      "LRU:CPD-177 C04549 pail3p_c C11H15O16RRP2 C46.1308H78.1556O16.0P2.0\n",
      "CPD_3743_c C05122 tchola_c -1\n",
      "CPD_3743_c C05122 tchola_e -1\n",
      "CPD_4_c C05924 molybd_c 1\n",
      "LRU:CPD-452 C01288 acgpail_c C19H29NO18RRP C54.1308H92.1556N1.0O18.0P1.0\n",
      "CPD_678_c C01528 seln_c 1\n",
      "LRU:DIACYLGLYCEROL C00641 dag_pl_c C5H6O5RR C40.1308H69.1556O5.0\n",
      "LRU:DOLICHOL C00381 dolichol_c C29H50OR C110H180O\n",
      "FAD_c C00016 fad_e -1\n",
      "FAD_c C00016 fad_c -1\n",
      "FAD_c C00016 fad_m -1\n",
      "FMN_c C00061 fmn_e -1\n",
      "FMN_c C00061 fmn_c -1\n",
      "FMN_c C00061 fmn_m -1\n",
      "GLYCOCHOLIC_ACID_c C01921 gchola_c -1\n",
      "GLYCOCHOLIC_ACID_c C01921 gchola_e -1\n",
      "HYPOTAURINE_c C00519 hyptaur_c 1\n",
      "LRU:Histone-L-lysine C02415 Nlys_c C6H13N2OWc2 XC6H13N2O\n",
      "LRU:Histone-L-lysine C02415 Nlys_e C6H13N2OWc2 XC6H13N2O\n",
      "LRU:L-1-PHOSPHATIDYL-ETHANOLAMINE C00350 pe_e C7H12NO8RRP C42.1308H75.1556N1.0O8.0P1.0\n",
      "LRU:L-1-PHOSPHATIDYL-ETHANOLAMINE C00350 pe_m C7H12NO8RRP C42.1308H75.1556N1.0O8.0P1.0\n",
      "LRU:L-1-PHOSPHATIDYL-ETHANOLAMINE C00350 pe_c C7H12NO8RRP C42.1308H75.1556N1.0O8.0P1.0\n",
      "LRU:L-1-PHOSPHATIDYL-GLYCEROL C00344 pglyc_e C8H12O10RRP C43.1308H75.1556O10.0P1.0\n",
      "LRU:L-1-PHOSPHATIDYL-GLYCEROL C00344 pglyc_c C8H12O10RRP C43.1308H75.1556O10.0P1.0\n",
      "LRU:L-1-PHOSPHATIDYL-GLYCEROL-P C03892 pgp_c C8H11O13RRP2 C43.1308H74.1556O13.0P2.0\n",
      "LRU:L-1-PHOSPHATIDYL-SERINE C02737 ps_e C8H11NO10RRP C43.1308H74.1556N1.0O10.0P1.0\n",
      "LRU:L-1-PHOSPHATIDYL-SERINE C02737 ps_m C8H11NO10RRP C43.1308H74.1556N1.0O10.0P1.0\n",
      "LRU:L-1-PHOSPHATIDYL-SERINE C02737 ps_c C8H11NO10RRP C43.1308H74.1556N1.0O10.0P1.0\n",
      "LRU:L-1-phosphatidyl-inositols C01194 pail_e C11H16O13RRP C46.1308H79.1556O13.0P1.0\n",
      "LRU:L-1-phosphatidyl-inositols C01194 pail_c C11H16O13RRP C46.1308H79.1556O13.0P1.0\n",
      "LRU:L-PHOSPHATIDATE C00416 pa_pl_c C5H5O8RRP C40.1308H68.1556O8.0P1.0\n",
      "LRU:Long-chain-alcohols C00339 alkylR1oh_c C13H27OR C18.0H38.0O1.0\n",
      "N_FORMIMINO_L_GLUTAMATE_c C00439 forglu_c 1\n",
      "N_FORMIMINO_L_GLUTAMATE_c C00439 forglu_e 1\n",
      "LRU:PHOSPHATIDYL-MYO-INOSITOL-45-BISPHOSPHA C04637 pail45p_c C11H14O19RRP3 C46.1308H77.1556O19.0P3.0\n",
      "LRU:PHOSPHATIDYLCHOLINE C00157 pchol_m C10H18NO8RRP C45.1308H81.1556N1.0O8.0P1.0\n",
      "LRU:PHOSPHATIDYLCHOLINE C00157 pchol_e C10H18NO8RRP C45.1308H81.1556N1.0O8.0P1.0\n",
      "LRU:PHOSPHATIDYLCHOLINE C00157 pchol_c C10H18NO8RRP C45.1308H81.1556N1.0O8.0P1.0\n",
      "LRU:PHOSPHATIDYLINOSITOL-345-TRIPHOSPHATE C05981 pail345p_c C11H13O22RRP4 C46.1308H76.1556O22.0P4.0\n",
      "LRU:Protein-L-lysine C02188 peplys_e C6H13N2OWo2 XC6H13N2O\n",
      "LRU:Protein-L-lysine C02188 peplys_c C6H13N2OWo2 XC6H13N2O\n",
      "RIBOFLAVIN_c C00255 ribflv_e -1\n",
      "RIBOFLAVIN_c C00255 ribflv_c -1\n",
      "RIBOFLAVIN_c C00255 ribflv_m -1\n",
      "LRU:Red-Thioredoxin C00342 trdrd_m C10H14N4O4RRS2Wh2 XH2\n",
      "LRU:Red-Thioredoxin C00342 trdrd_c C10H14N4O4RRS2Wh2 XH2\n",
      "S2O3_c C00320 tsul_c 1\n",
      "S2O3_c C00320 tsul_m 1\n",
      "S2O3_c C00320 tsul_e 1\n",
      "TRP_tRNAs_c C01652 trnatrp_c C28H34N11O21P3Vp ROH\n",
      "TRP_tRNAs_c C01652 trnatrp_m C28H34N11O21P3Vp ROH\n",
      "TYR_tRNAs_c C00787 trnatyr_m C28H34N11O21P3Wi ROH\n",
      "TYR_tRNAs_c C00787 trnatyr_c C28H34N11O21P3Wi ROH\n"
     ]
    }
   ],
   "source": [
    "# use KEGG mappings to find additional relations between earthworm model and iCEL1314\n",
    "icel_kegg_compounds = annotation_map(icel.metabolites, 'kegg.compound')\n",
    "for m in model.metabolites:\n",
    "    biocyc_id = m.annotation.get('biocyc')\n",
    "    if biocyc_id:\n",
    "        biocyc_id = biocyc_id[biocyc_id.index(':')+1:]\n",
    "    else:\n",
    "        continue\n",
    "    kegg_id = m.annotation.get('kegg.compound', None)\n",
    "    if kegg_id and isinstance(kegg_id, str):\n",
    "        for icel_met in icel.metabolites.get_by_any(icel_kegg_compounds.get(kegg_id, [])):\n",
    "            if m.charge != icel_met.charge:\n",
    "                d = m.charge - icel_met.charge\n",
    "                el = defaultdict(int)\n",
    "                el.update(icel_met.elements)\n",
    "                el['H'] += d\n",
    "                if el['H'] == 0:\n",
    "                    del el['H']\n",
    "                if el == m.elements: # charge difference because of protonation difference\n",
    "                    print(m.id, kegg_id, icel_met.id, d)\n",
    "                else:\n",
    "                    print(m.id, kegg_id, icel_met.id, m.formula, icel_met.formula)\n",
    "            elif m.elements != icel_met.elements:\n",
    "                print(m.annotation.get('biocyc', m.id), kegg_id, icel_met.id, m.formula, icel_met.formula)\n",
    "            biocyc2icel[biocyc_id].add(icel_met)\n",
    "            metabolite_compartments[biocyc_id].add(icel_met.compartment)\n",
    "            biocyc2icel[biocyc_id].add(icel_met)"
   ]
  },
  {
   "cell_type": "code",
   "execution_count": 13,
   "metadata": {},
   "outputs": [
    {
     "data": {
      "text/plain": [
       "454"
      ]
     },
     "execution_count": 13,
     "metadata": {},
     "output_type": "execute_result"
    }
   ],
   "source": [
    "len(biocyc2icel)"
   ]
  },
  {
   "cell_type": "markdown",
   "metadata": {},
   "source": [
    "check that the glucose mappings are correct"
   ]
  },
  {
   "cell_type": "code",
   "execution_count": 14,
   "metadata": {},
   "outputs": [
    {
     "name": "stdout",
     "output_type": "stream",
     "text": [
      "{<Metabolite glc-D_e at 0x2a3c2b90940>, <Metabolite glc-D_c at 0x2a3b2240e50>}\n",
      "{<Metabolite glc-D-A_c at 0x2a3c2c0e880>}\n",
      "{<Metabolite glc-D-B_c at 0x2a3c2b90670>}\n"
     ]
    },
    {
     "data": {
      "text/plain": [
       "{<Metabolite g6p-B_c at 0x2a3c2cba220>}"
      ]
     },
     "execution_count": 14,
     "metadata": {},
     "output_type": "execute_result"
    }
   ],
   "source": [
    "print(biocyc2icel['Glucopyranose'])\n",
    "print(biocyc2icel['ALPHA-GLUCOSE'])\n",
    "print(biocyc2icel['GLC'])\n",
    "biocyc2icel['GLC-6-P'] # should be beta-glucose"
   ]
  },
  {
   "cell_type": "code",
   "execution_count": 15,
   "metadata": {},
   "outputs": [
    {
     "data": {
      "text/plain": [
       "33"
      ]
     },
     "execution_count": 15,
     "metadata": {},
     "output_type": "execute_result"
    }
   ],
   "source": [
    "# metabolites only in mitochondrion according to iCEL1314\n",
    "only_mitochondrial_metabolites = [k for k,v in biocyc2icel.items() if not any(m.compartment == 'c' for m in v) and any(m.compartment == 'm' for m in v)]\n",
    "len(only_mitochondrial_metabolites)"
   ]
  },
  {
   "cell_type": "code",
   "execution_count": 16,
   "metadata": {},
   "outputs": [],
   "source": [
    "only_mitochondrial_metabolites = set(only_mitochondrial_metabolites)\n",
    "only_mitochondrial_metabolites.update(\n",
    "    [m.id for m in model.metabolites if m.compartment == 'm' and metabolite_id_for_compartment(m, 'c') not in model.metabolites])"
   ]
  },
  {
   "cell_type": "code",
   "execution_count": 17,
   "metadata": {},
   "outputs": [
    {
     "data": {
      "text/plain": [
       "568"
      ]
     },
     "execution_count": 17,
     "metadata": {},
     "output_type": "execute_result"
    }
   ],
   "source": [
    "fully_mapped_reactions = [r for r in model.reactions if all(get_biocyc_id(m) in biocyc2icel for m in r.metabolites)]\n",
    "len(fully_mapped_reactions)"
   ]
  },
  {
   "cell_type": "code",
   "execution_count": 18,
   "metadata": {},
   "outputs": [
    {
     "data": {
      "text/plain": [
       "183"
      ]
     },
     "execution_count": 18,
     "metadata": {},
     "output_type": "execute_result"
    }
   ],
   "source": [
    "mitochondrial = [r for r in fully_mapped_reactions if not r.boundary and all('m' in metabolite_compartments[get_biocyc_id(m)] for m in r.metabolites)]\n",
    "len(mitochondrial) # acutally possibly mitochondrial only, a corresponding mitochondrial reaction should also be in iCEL1314"
   ]
  },
  {
   "cell_type": "code",
   "execution_count": 19,
   "metadata": {},
   "outputs": [
    {
     "name": "stdout",
     "output_type": "stream",
     "text": [
      "204 421\n"
     ]
    }
   ],
   "source": [
    "biocyc2icel_mit = dict()\n",
    "biocyc2icel_cyt = dict()\n",
    "for ml, mi in biocyc2icel.items():\n",
    "    mi_mit = [m for m in mi if m.compartment == 'm']\n",
    "    if len(mi_mit):\n",
    "        biocyc2icel_mit[ml] = mi_mit[0]\n",
    "    mi_cyt = [m for m in mi if m.compartment == 'c']\n",
    "    if len(mi_cyt):\n",
    "        biocyc2icel_cyt[ml] = mi_cyt[0]\n",
    "print(len(biocyc2icel_mit), len(biocyc2icel_cyt))"
   ]
  },
  {
   "cell_type": "code",
   "execution_count": 20,
   "metadata": {},
   "outputs": [
    {
     "name": "stdout",
     "output_type": "stream",
     "text": [
      "Beta oxidation of fa17c9 (peroxisomal) Beta oxidation of fa17c9 (mitochondrial) {'o2', 'h2o2'} {'fadh2', 'fad'}\n",
      "Beta oxidation of fa17p0iso (peroxisomal) Beta oxidation of fa17p0iso (mitochondrial) {'o2', 'h2o2'} {'fadh2', 'fad'}\n",
      "Beta oxidation of stcoa (peroxisomal) Beta oxidation of stcoa (mitochondrial) {'o2', 'h2o2'} {'fadh2', 'fad'}\n",
      "Beta oxidation of intermediary fatty acid C14:2 (peroxisomal) Beta oxidation of intermediary fatty acid C14:2 (mitochondrial) {'o2', 'h2o2'} {'fadh2', 'fad'}\n",
      "Beta oxidation of eicosapentanoic acid (peroxisomal) Beta oxidation of eicosapentanoic acid (mitochondrial) {'o2', 'h2o2'} {'fadh2', 'fad'}\n",
      "Beta oxidation of fa19c11 (peroxisomal) Beta oxidation of fa19c11 (mitochondrial) {'o2', 'h2o2'} {'fadh2', 'fad'}\n",
      "Beta oxidation of oleic acid (peroxisomal) Beta oxidation of oleic acid (mitochondrial) {'o2', 'h2o2'} {'fadh2', 'fad'}\n",
      "Beta oxidation of linoleic acid (peroxisomal) Beta oxidation of linoleic acid (mitochondrial) {'o2', 'h2o2'} {'fadh2', 'fad'}\n",
      "Beta oxidation of palmitoleic acid (peroxisomal) Beta oxidation of palmitoleic acid (mitochondrial) {'o2', 'h2o2'} {'fadh2', 'fad'}\n",
      "Beta oxidation of intermediary fatty acid C16:3 (peroxisomal) Beta oxidation of intermediary fatty acid C16:3 (mitochondrial) {'o2', 'h2o2'} {'fadh2', 'fad'}\n",
      "Beta oxidation of fa15p0iso (peroxisomal) Beta oxidation of fa15p0iso (mitochondrial) {'o2', 'h2o2'} {'fadh2', 'fad'}\n",
      "Beta oxidation of arachidonic acid (peroxisomal) Beta oxidation of arachidonic acid (mitochondrial) {'o2', 'h2o2'} {'fadh2', 'fad'}\n",
      "Beta oxidation of eicosatrieonic acid (peroxisomal) Beta oxidation of eicosatrieonic acid (mitochondrial) {'o2', 'h2o2'} {'fadh2', 'fad'}\n",
      "Beta oxidation of intermediary fatty acid C16:4 (peroxisomal) Beta oxidation of intermediary fatty acid C16:4 (mitochondrial) {'o2', 'h2o2'} {'fadh2', 'fad'}\n",
      "Beta oxidation of eicosatetraeonic acid (peroxisomal) Beta oxidation of eicosatetraeonic acid (mitochondrial) {'o2', 'h2o2'} {'fadh2', 'fad'}\n",
      "Beta oxidation of vaccenic acid (peroxisomal) Beta oxidation of vaccenic acid (mitochondrial) {'o2', 'h2o2'} {'fadh2', 'fad'}\n"
     ]
    }
   ],
   "source": [
    "# show differences of reactions that occur both in the cytosol and in the mitochondrion of iCEL1314\n",
    "icel_cyto_and_mito_rxns = {r.id[2:] for r in icel.reactions if r.id.startswith('RM') and ('RC' + r.id[2:]) in icel.reactions}\n",
    "for r in icel_cyto_and_mito_rxns:\n",
    "    rc = icel.reactions.get_by_id('RC' + r)\n",
    "    rm = icel.reactions.get_by_id('RM' + r)\n",
    "    mc = {m.id[:-2] for m in rc.metabolites}\n",
    "    mm = {m.id[:-2] for m in rm.metabolites}\n",
    "    if mc != mm:\n",
    "        print(rc.name, rm.name, mc - mm, mm - mc)"
   ]
  },
  {
   "cell_type": "markdown",
   "metadata": {},
   "source": [
    "differences occur only in cytosolic (or rather peroximsomal) and mitochondrial electron acceptors of beta-oxidation"
   ]
  },
  {
   "cell_type": "code",
   "execution_count": 21,
   "metadata": {},
   "outputs": [
    {
     "name": "stdout",
     "output_type": "stream",
     "text": [
      "* BUTYRYL_COA_DEHYDROGENASE_RXN BUTYRYL_COA_c + ETF_Oxidized_c + PROTON_c <=> CROTONYL_COA_c + ETF_Reduced_c RM01175 btcoa_m + etfox_m <=> b2coa_m + etfrd_m\n",
      "* BRANCHED_CHAINAMINOTRANSFERLEU_RXN 2_KETOGLUTARATE_c + LEU_c <=> 2K_4CH3_PENTANOATE_c + GLT_c RM01090 akg_m + leu-L_m <=> 4mop_m + glu-L_m\n",
      "* BRANCHED_CHAINAMINOTRANSFERILEU_RXN 2_KETOGLUTARATE_c + ILE_c <=> 2_KETO_3_METHYL_VALERATE_c + GLT_c RM02199 akg_m + ile-L_m <=> 3mop_m + glu-L_m\n",
      "FADSYN_RXN ATP_c + FMN_c + PROTON_c <=> FAD_c + PPI_c RM00161 atp_m + fmn_m + h_m --> fad_m + ppi_m\n",
      "* 2_METHYLACYL_COA_DEHYDROGENASE_RXN 2_METHYL_BUTYRYL_COA_c + ETF_Oxidized_c + PROTON_c <=> CPD_1083_c + ETF_Reduced_c RM03172 2mbcoa_m + etfox_m <=> 2mb2coa_m + etfrd_m\n",
      "4_HYDROXYGLUTAMATE_AMINOTRANSFERASE_RXN 2_KETOGLUTARATE_c + L_ERYTHRO_4_HYDROXY_GLUTAMATE_c <=> D_4_HYDROXY_2_KETO_GLUTARATE_c + GLT_c RM05052 akg_m + e4hglu_m --> 4h2oglt_m + glu-L_m\n",
      "* RXN_9958_MALONATE_S_ALD/CO_A/NADP//ACETYL_COA/CARBON_DIOXIDE/NADPH.58. CO_A_c + MALONATE_S_ALD_c + NADP_c <=> ACETYL_COA_c + CARBON_DIOXIDE_c + NADPH_c RM00706 coa_m + msa_m + nadp_m --> accoa_m + co2_m + nadph_m\n",
      "* RXN_13698 GLT_c + PYRUVATE_c <=> 2_KETOGLUTARATE_c + L_ALPHA_ALANINE_c RM00258 akg_m + ala-L_m <=> glu-L_m + pyr_m\n",
      "* SUCCINATE_SEMIALDEHYDE_DEHYDROGENASE_RXN NAD_c + SUCC_S_ALD_c + WATER_c --> NADH_c + 2.0 PROTON_c + SUC_c RM00713 h2o_m + nad_m + sucsal_m --> 2.0 h_m + nadh_m + succ_m\n",
      "* GLUTAMATE_DEHYDROGENASE_NADP+_RXN_GLT/NADP/WATER//2_KETOGLUTARATE/AMMONIUM/NADPH/PROTON.54. GLT_c + NADP_c + WATER_c <=> 2_KETOGLUTARATE_c + AMMONIUM_c + NADPH_c + PROTON_c RM00248 glu-L_m + h2o_m + nadp_m <=> akg_m + h_m + nadph_m + nh4_m\n",
      "ADENYL_KIN_RXN[CCO_CYTOSOL]_ATP/AMP//ADP.26. AMP_c + ATP_c <=> 2.0 ADP_c RM00127 amp_m + atp_m <=> 2.0 adp_m\n",
      "* GABATRANSAM_RXN 2_KETOGLUTARATE_c + 4_AMINO_BUTYRATE_c --> GLT_c + SUCC_S_ALD_c RM01648 4abut_m + akg_m <=> glu-L_m + sucsal_m\n",
      "* RXN_14472 L_4_HYDROXYGLUTAMATE_SEMIALDEHYDE_c + NAD_c + WATER_c --> L_ERYTHRO_4_HYDROXY_GLUTAMATE_c + NADH_c + 2.0 PROTON_c RM05051 4hglusa_m + h2o_m + nad_m --> e4hglu_m + 2.0 h_m + nadh_m\n",
      "FUMHYDR_RXN[CCO_CYTOSOL]_MAL//FUM/WATER.28. MAL_c <=> FUM_c + WATER_c RM01082 mal-L_m <=> fum_m + h2o_m\n",
      "* RXN_11737 2_KETOGLUTARATE_c + L_CYSTEATE_c <=> CPD_380_c + GLT_c RM02433 Lcyst_m + akg_m <=> 3spyr_m + glu-L_m\n",
      "4OH2OXOGLUTARALDOL_RXN D_4_HYDROXY_2_KETO_GLUTARATE_c <=> GLYOX_c + PYRUVATE_c RM00471 4h2oglt_m <=> glx_m + pyr_m\n",
      "* ORNITHINE_GLU_AMINOTRANSFERASE_RXN 2_KETOGLUTARATE_c + L_ORNITHINE_c <=> GLT_c + L_GLUTAMATE_GAMMA_SEMIALDEHYDE_c RM00667 akg_m + orn_m <=> glu-L_m + glu5sa_m\n",
      "1.1.1.8_RXN DIHYDROXY_ACETONE_PHOSPHATE_c + NADH_c + PROTON_c --> GLYCEROL_3P_c + NAD_c RM00842 dhap_m + h_m + nadh_m <=> glyc3p_m + nad_m\n",
      "* METHYLCROTONYL_COA_CARBOXYLASE_RXN 3_METHYL_CROTONYL_COA_c + ATP_c + HCO3_c --> ADP_c + PROTON_c + Pi_c + TRANS_3_METHYL_GLUTACONYL_COA_c RM04138 3mb2coa_m + atp_m + hco3_m --> 3mgcoa_m + adp_m + h_m + pi_m\n",
      "* RXN_14116 L_GLUTAMATE_GAMMA_SEMIALDEHYDE_c + NAD_c + WATER_c --> GLT_c + NADH_c + 2.0 PROTON_c RM00245 glu5sa_m + h2o_m + nad_m --> glu-L_m + 2.0 h_m + nadh_m\n",
      "* 3_HYDROXYISOBUTYRYL_COA_HYDROLASE_RXN CPD_12173_c + WATER_c --> CO_A_c + CPD_12175_c + PROTON_c RM05064 3hibutcoa_m + h2o_m --> 3hmp_m + coa_m + h_m\n",
      "RXN_13697 2_KETOGLUTARATE_c + L_ASPARTATE_c <=> GLT_c + OXALACETIC_ACID_c RM00355 akg_m + asp-L_m <=> glu-L_m + oaa_m\n",
      "* ISOCITRATE_DEHYDROGENASE_NAD+_RXN[CCO_CYTOSOL]_THREO_DS_ISO_CITRATE/NAD//2_KETOGLUTARATE/CARBON_DIOXIDE/NADH.75. NAD_c + THREO_DS_ISO_CITRATE_c --> 2_KETOGLUTARATE_c + CARBON_DIOXIDE_c + NADH_c RM00709 icit_m + nad_m --> akg_m + co2_m + nadh_m\n",
      "* GLUTAMATE_DEHYDROGENASE_RXN GLT_c + NAD_c + WATER_c <=> 2_KETOGLUTARATE_c + AMMONIUM_c + NADH_c + PROTON_c RM00243 glu-L_m + h2o_m + nad_m <=> akg_m + h_m + nadh_m + nh4_m\n",
      "CYTIKIN_RXN ATP_c + CYTIDINE_c --> ADP_c + CMP_c + PROTON_c RM00513 atp_m + cytd_m --> adp_m + cmp_m + h_m\n",
      "* TIGLYLCOA_HYDROXY_RXN 2_METHYL_3_HYDROXY_BUTYRYL_COA_c <=> CPD_1083_c + WATER_c RM04204 2mb2coa_m + h2o_m <=> 3hmbcoa_m\n",
      "* AKBLIG_RXN ACETYL_COA_c + GLY_c <=> AMINO_OXOBUT_c + CO_A_c RM00371 accoa_m + gly_m <=> 2aobut_m + coa_m\n",
      "SUPEROX_DISMUT_RXN 2.0 PROTON_c + 2.0 SUPER_OXIDE_c --> HYDROGEN_PEROXIDE_c + OXYGEN_MOLECULE_c RM00275 2.0 h_m + 2.0 o2s_m --> h2o2_m + o2_m\n",
      "* PYRROLINECARBREDUCT_RXN_PRO/NAD//L_DELTA1_PYRROLINE_5_CARBOXYLATE/NADH/PROTON.54. L_DELTA1_PYRROLINE_5_CARBOXYLATE_c + NADH_c + 2.0 PROTON_c --> NAD_c + PRO_c RM01248 1pyr5c_m + 2.0 h_m + nadh_m --> nad_m + pro-L_m\n",
      "* RXN_14194 CPD0_2117_c + NADPH_c + PROTON_c --> NADP_c + PALMITYL_COA_c RM01278 h_m + hdd2coa_m + nadph_m --> nadp_m + pmtcoa_m\n",
      "* SPONTPRO_RXN L_DELTA1_PYRROLINE_5_CARBOXYLATE_c + PROTON_c + WATER_c <=> L_GLUTAMATE_GAMMA_SEMIALDEHYDE_c RMC0015 glu5sa_m <=> 1pyr5c_m + h2o_m + h_m\n",
      "* RXN_6383 3_HYDROXY_PROPIONYL_COA_c <=> ACRYLYL_COA_c + WATER_c RM03045 h2o_m + prpncoa_m <=> 3hpcoa_m\n",
      "* METHYLACYLYLCOA_HYDROXY_RXN CPD_12173_c <=> METHACRYLYL_COA_c + WATER_c RM04224 2mp2coa_m + h2o_m <=> 3hibutcoa_m\n",
      "* RXN_14471 PROTON_c + PYRROLINE_HYDROXY_CARBOXYLATE_c + WATER_c <=> L_4_HYDROXYGLUTAMATE_SEMIALDEHYDE_c RMC0016 1p3h5c_m + h2o_m + h_m <=> 4hglusa_m\n",
      "* RXN_14262 ETF_Oxidized_c + LAUROYLCOA_CPD_c + PROTON_c --> CPD_7222_c + ETF_Reduced_c RM03857 ddcacoa_m + etfox_m <=> dd2coa_m + etfrd_m\n",
      "THIOESTER_RXN_PROPIONYL_COA/WATER//PROPIONATE/CO_A/PROTON.44. PROPIONYL_COA_c + WATER_c --> CO_A_c + PROPIONATE_c + PROTON_c RM00383 h2o_m + ppcoa_m --> coa_m + h_m + ppa_m\n",
      "* RXNI_2 3_KETOBUTYRATE_c + SUC_COA_c <=> ACETOACETYL_COA_c + SUC_c RM00410 acac_m + succoa_m <=> aacoa_m + succ_m\n",
      "* METHYLMALONYL_COA_EPIM_RXN D_METHYL_MALONYL_COA_c --> METHYL_MALONYL_COA_c RM02765 mmcoa-R_m <=> mmcoa-S_m\n",
      "* PYRUVATE_CARBOXYLASE_RXN ATP_c + HCO3_c + PYRUVATE_c --> ADP_c + OXALACETIC_ACID_c + PROTON_c + Pi_c RM00344 atp_m + hco3_m + pyr_m --> adp_m + h_m + oaa_m + pi_m\n",
      "* CITSYN_RXN[CCO_CYTOSOL]_ACETYL_COA/OXALACETIC_ACID/WATER//CIT/CO_A/PROTON.63. ACETYL_COA_c + OXALACETIC_ACID_c + WATER_c --> CIT_c + CO_A_c + PROTON_c RM00351 accoa_m + h2o_m + oaa_m --> cit_m + coa_m + h_m\n",
      "* RXN_2902 CO_A_c + MALONATE_S_ALD_c + NAD_c --> ACETYL_COA_c + CARBON_DIOXIDE_c + NADH_c RM00705 coa_m + msa_m + nad_m --> accoa_m + co2_m + nadh_m\n",
      "CARNITINE_O_PALMITOYLTRANSFERASE_RXN[CCO_MIT_IM_SPC]_PALMITYL_COA/CARNITINE//CPD_419/CO_A.53. CARNITINE_i + PALMITYL_COA_i <=> CO_A_i + CPD_419_i RM01923 coa_m + pmtcrn_m --> crn_m + pmtcoa_m\n",
      "GLUTATHIONE_REDUCT_NADPH_RXN NADPH_c + OXIDIZED_GLUTATHIONE_c + PROTON_c --> 2.0 GLUTATHIONE_c + NADP_c RM00115 gthox_m + h_m + nadph_m --> 2.0 gthrd_m + nadp_m\n",
      "* RXN_6384 3_HYDROXY_PROPIONYL_COA_c + WATER_c --> 3_HYDROXY_PROPIONATE_c + CO_A_c + PROTON_c RM03158 3hpcoa_m + h2o_m --> 3hpp_m + coa_m + h_m\n",
      "PHOSPHASERDECARB_RXN L_1_PHOSPHATIDYL_SERINE_c + PROTON_c <=> CARBON_DIOXIDE_c + L_1_PHOSPHATIDYL_ETHANOLAMINE_c RM02055 h_m + ps_m --> co2_m + pe_m\n",
      "ALANINE__GLYOXYLATE_AMINOTRANSFERASE_RXN GLYOX_c + L_ALPHA_ALANINE_c <=> GLY_c + PYRUVATE_c RM00369 ala-L_m + glx_m <=> gly_m + pyr_m\n",
      "* 2_KETO_ADIPATE_DEHYDROG_RXN 2K_ADIPATE_c + CO_A_c + NAD_c --> CARBON_DIOXIDE_c + GLUTARYL_COA_c + NADH_c RMC0014 2oxoadp_m + coa_m + nad_m --> co2_m + glutcoa_m + nadh_m\n",
      "CARNITINE_O_PALMITOYLTRANSFERASE_RXN[CCO_CYTOSOL]_PALMITYL_COA/CARNITINE//CPD_419/CO_A.50. CARNITINE_c + PALMITYL_COA_c <=> CO_A_c + CPD_419_c RM01923 coa_m + pmtcrn_m --> crn_m + pmtcoa_m\n",
      "* MEPROPCOA_FAD_RXN ETF_Oxidized_c + ISOBUTYRYL_COA_c + PROTON_c --> ETF_Reduced_c + METHACRYLYL_COA_c RM02661 etfox_m + ibcoa_m <=> 2mp2coa_m + etfrd_m\n",
      "CARNITINE_O_ACETYLTRANSFERASE_RXN ACETYL_COA_c + CARNITINE_c <=> CO_A_c + O_ACETYLCARNITINE_c RM02396 acrn_m + coa_m --> accoa_m + crn_m\n",
      "* RXN_11667 S_3_HYDROXYBUTANOYL_COA_c <=> CROTONYL_COA_c + WATER_c RM03026 3hbcoa_m <=> b2coa_m + h2o_m\n",
      "* SUCCCOASYN_RXN[CCO_CYTOSOL]_SUC/CO_A/ATP//SUC_COA/ADP/Pi.42. ATP_c + CO_A_c + SUC_c <=> ADP_c + Pi_c + SUC_COA_c RM00405 atp_m + coa_m + succ_m <=> adp_m + pi_m + succoa_m\n",
      "* GLUTKIN_RXN ATP_c + GLT_c --> ADP_c + L_GLUTAMATE_5_P_c RM00239 atp_m + glu-L_m --> adp_m + glu5p_m\n",
      "* ACYLCOADEHYDROG_RXN_PALMITYL_COA/ETF_Oxidized/PROTON//CPD0_2117/ETF_Reduced.56. ETF_Oxidized_c + PALMITYL_COA_c + PROTON_c --> CPD0_2117_c + ETF_Reduced_c RM01282 etfox_m + pmtcoa_m <=> etfrd_m + hdd2coa_m\n",
      "TYROSINE_AMINOTRANSFERASE_RXN 2_KETOGLUTARATE_c + TYR_c <=> GLT_c + P_HYDROXY_PHENYLPYRUVATE_c RM00734 akg_m + tyr-L_m <=> 34hpp_m + glu-L_m\n",
      "MALATE_DEH_RXN[CCO_CYTOSOL]_MAL/NAD//OXALACETIC_ACID/NADH/PROTON.50. MAL_c + NAD_c <=> NADH_c + OXALACETIC_ACID_c + PROTON_c RM00342 mal-L_m + nad_m <=> h_m + nadh_m + oaa_m\n",
      "* BRANCHED_CHAINAMINOTRANSFERVAL_RXN 2_KETOGLUTARATE_c + VAL_c <=> 2_KETO_ISOVALERATE_c + GLT_c RM01214 akg_m + val-L_m <=> 3mob_m + glu-L_m\n",
      "* METHYLMALONYL_COA_MUT_RXN METHYL_MALONYL_COA_c --> SUC_COA_c RM00833 mmcoa-R_m <=> succoa_m\n",
      "* DEPHOSPHOCOAKIN_RXN ATP_c + DEPHOSPHO_COA_c --> ADP_c + CO_A_c + PROTON_c RM00130 atp_m + dpcoa_m --> adp_m + coa_m + h_m\n",
      "ASPAMINOTRANS_RXN 2_KETOGLUTARATE_c + L_ASPARTATE_c <=> GLT_c + OXALACETIC_ACID_c RM00355 akg_m + asp-L_m <=> glu-L_m + oaa_m\n",
      "* 2.6.1.22_RXN 2_KETOGLUTARATE_c + CPD_466_c <=> CH3_MALONATE_S_ALD_c + GLT_c RM04188 2mop_m + glu-L_m <=> 3aib_m + akg_m\n",
      "* PROPCOASYN_RXN ETF_Oxidized_c + PROPIONYL_COA_c + PROTON_c --> ACRYLYL_COA_c + ETF_Reduced_c RM04432 etfox_m + ppcoa_m <=> etfrd_m + prpncoa_m\n",
      "* 3_HYDROXYPROPIONATE_DEHYDROGENASE_RXN 3_HYDROXY_PROPIONATE_c + NAD_c <=> MALONATE_S_ALD_c + NADH_c + PROTON_c RM01608 3hpp_m + nad_m <=> h_m + msa_m + nadh_m\n",
      "* PYRROLINECARBREDUCT_RXN_PRO/NADP//L_DELTA1_PYRROLINE_5_CARBOXYLATE/NADPH/PROTON.56. L_DELTA1_PYRROLINE_5_CARBOXYLATE_c + NADPH_c + 2.0 PROTON_c --> NADP_c + PRO_c RM01251 1pyr5c_m + 2.0 h_m + nadph_m --> nadp_m + pro-L_m\n",
      "* 1.1.1.178_RXN 2_METHYL_3_HYDROXY_BUTYRYL_COA_c + NAD_c <=> 2_METHYL_ACETO_ACETYL_COA_c + NADH_c + PROTON_c RM04203 3hmbcoa_m + nad_m <=> 2maacoa_m + h_m + nadh_m\n",
      "RXN66_3 ACETALD_c + NAD_c + WATER_c --> ACET_c + NADH_c + 2.0 PROTON_c RM00710 acald_m + h2o_m + nad_m --> ac_m + 2.0 h_m + nadh_m\n",
      "SERINE__PYRUVATE_AMINOTRANSFERASE_RXN PYRUVATE_c + SER_c <=> L_ALPHA_ALANINE_c + OH_PYR_c RM00585 pyr_m + ser-L_m <=> ala-L_m + hpyr_m\n",
      "* METHYLACETOACETYLCOATHIOL_RXN ACETYL_COA_c + PROPIONYL_COA_c <=> 2_METHYL_ACETO_ACETYL_COA_c + CO_A_c RM00927 2maacoa_m + coa_m <=> accoa_m + ppcoa_m\n",
      "* RXN_14278 ETF_Oxidized_c + HEXANOYL_COA_c + PROTON_c --> CPD0_2121_c + ETF_Reduced_c RM04751 etfox_m + hxcoa_m <=> etfrd_m + hx2coa_m\n",
      "* 2.6.1.40_RXN CPD_471_c + PYRUVATE_c <=> CH3_MALONATE_S_ALD_c + L_ALPHA_ALANINE_c RM02050 3aib-D_m + pyr_m <=> 2mop_m + ala-L_m\n",
      "GLUTDECARBOX_RXN GLT_c + PROTON_c --> 4_AMINO_BUTYRATE_c + CARBON_DIOXIDE_c RM00261 glu-L_m + h_m --> 4abut_m + co2_m\n",
      "* RXN_7790 2_OXOBUTANOATE_c + CO_A_c + NAD_c --> CARBON_DIOXIDE_c + NADH_c + PROPIONYL_COA_c RMC0133 2obut_m + coa_m + nad_m --> co2_m + nadh_m + ppcoa_m\n",
      "RIBOFLAVINKIN_RXN ATP_c + RIBOFLAVIN_c --> ADP_c + FMN_c + PROTON_c RM00549 atp_m + ribflv_m --> adp_m + fmn_m + h_m\n",
      "RXN0_5462 GTP_c + WATER_c --> GDP_c + PROTON_c + Pi_c RM00335 gtp_m + h2o_m --> gdp_m + h_m + pi_m\n",
      "* 3_HYDROXYISOBUTYRATE_DEHYDROGENASE_RXN CPD_12175_c + NAD_c --> CH3_MALONATE_S_ALD_c + NADH_c + PROTON_c RM05066 3hmp_m + nad_m <=> 2mop_m + h_m + nadh_m\n",
      "* 2_AMINOADIPATE_AMINOTRANSFERASE_RXN 2_KETOGLUTARATE_c + CPD_468_c <=> 2K_ADIPATE_c + GLT_c RM01939 L2aadp_m + akg_m <=> 2oxoadp_m + glu-L_m\n",
      "* SUCCINATE__COA_LIGASE_GDP_FORMING_RXN[CCO_CYTOSOL]_SUC/GTP/CO_A//SUC_COA/GDP/Pi.42. CO_A_c + GTP_c + SUC_c <=> GDP_c + Pi_c + SUC_COA_c RM00432 coa_m + gtp_m + succ_m <=> gdp_m + pi_m + succoa_m\n",
      "* RXN_13615 CPD_10267_c + ETF_Oxidized_c + PROTON_c --> ETF_Reduced_c + T2_DECENOYL_COA_c RM04754 dcacoa_m + etfox_m <=> dc2coa_m + etfrd_m\n",
      "* GLUTSEMIALDEHYDROG_RXN L_GLUTAMATE_5_P_c + NADPH_c + PROTON_c --> L_GLUTAMATE_GAMMA_SEMIALDEHYDE_c + NADP_c + Pi_c RM03313 glu5p_m + h_m + nadph_m --> glu5sa_m + nadp_m + pi_m\n",
      "INORGPYROPHOSPHAT_RXN PPI_c + WATER_c --> PROTON_c + 2.0 Pi_c RM00004 h2o_m + ppi_m --> h_m + 2.0 pi_m\n",
      "* PANTEPADENYLYLTRAN_RXN ATP_c + PANTETHEINE_P_c + PROTON_c --> DEPHOSPHO_COA_c + PPI_c RM03035 atp_m + h_m + pan4p_m <=> dpcoa_m + ppi_m\n",
      "ASPDECARBOX_RXN L_ASPARTATE_c + PROTON_c <=> B_ALANINE_c + CARBON_DIOXIDE_c RM00489 asp-L_m + h_m --> ala-B_m + co2_m\n",
      "* METHYLGLUTACONYL_COA_HYDRATASE_RXN TRANS_3_METHYL_GLUTACONYL_COA_c + WATER_c --> 3_HYDROXY_3_METHYL_GLUTARYL_COA_c RM02085 3mgcoa_m + h2o_m <=> hmgcoa_m\n",
      "* METHYLMALONYL_COA_DECARBOXYLASE_RXN D_METHYL_MALONYL_COA_c + PROTON_c --> CARBON_DIOXIDE_c + PROPIONYL_COA_c RM05373 h_m + mmcoa-S_m --> co2_m + ppcoa_m\n",
      "RXN0_5224 HCO3_c + PROTON_c <=> CARBON_DIOXIDE_c + WATER_c RM10092 co2_m + h2o_m <=> h_m + hco3_m\n",
      "* THREODEHYD_RXN NAD_c + THR_c --> AMINO_OXOBUT_c + NADH_c + PROTON_c RM01465 nad_m + thr-L_m <=> 2aobut_m + h_m + nadh_m\n",
      "* ALANINE_AMINOTRANSFERASE_RXN 2_KETOGLUTARATE_c + L_ALPHA_ALANINE_c <=> GLT_c + PYRUVATE_c RM00258 akg_m + ala-L_m <=> glu-L_m + pyr_m\n",
      "* HYDROXYMETHYLGLUTARYL_COA_LYASE_RXN 3_HYDROXY_3_METHYL_GLUTARYL_COA_c --> 3_KETOBUTYRATE_c + ACETYL_COA_c RM01360 hmgcoa_m --> acac_m + accoa_m\n",
      "* RXN0_2301 ETF_Oxidized_c + ISOVALERYL_COA_c + PROTON_c --> 3_METHYL_CROTONYL_COA_c + ETF_Reduced_c RM04096 etfox_m + ivcoa_m --> 3mb2coa_m + etfrd_m\n",
      "THREONINE_ALDOLASE_RXN THR_c <=> ACETALD_c + GLY_c RM00751 thr-L_m <=> acald_m + gly_m\n",
      "RXN_11662 NAD_c + S_3_HYDROXYBUTANOYL_COA_c <=> ACETOACETYL_COA_c + NADH_c + PROTON_c RM01975 aacoa_m + h_m + nadh_m <=> 3hbcoa_m + nad_m\n",
      "* PROPIONYL_COA_CARBOXY_RXN ATP_c + HCO3_c + PROPIONYL_COA_c <=> ADP_c + D_METHYL_MALONYL_COA_c + PROTON_c + Pi_c RM01859 atp_m + hco3_m + ppcoa_m --> adp_m + h_m + mmcoa-S_m + pi_m\n",
      "109 63\n"
     ]
    }
   ],
   "source": [
    "# it is only checked that a reaction in iCEL1314 exists that has the same metabolites,\n",
    "# except for protons, no stoichiometry check\n",
    "# BioCyc metabolite and compartment information is ignored here\n",
    "mito_rxns = set() # model reactions that have an instance in the mitochondrion according to iCEL1314 ('set' in case there are isozymes in iCEL1314)\n",
    "only_mito_rxns = set()\n",
    "model_rxn2icel_rxn = defaultdict(list)\n",
    "for r in model.reactions:\n",
    "    if not r.boundary:\n",
    "        if '[CCO_MIT_LUM]' in r.id:\n",
    "            mito_rxns.add(r.id)\n",
    "            if r.id.replace('[CCO_MIT_LUM]', '[CCO_CYTOSOL]') not in model.reactions:\n",
    "                only_mito_rxns.add(r.id)\n",
    "        elif all(get_biocyc_id(m) in biocyc2icel_mit for m in r.metabolites):\n",
    "            # collect all mitochondrial reactions in iCEL1314 which share at least one metabolite (excluding protons) with model reaction r\n",
    "            rxns = [{ri for ri in biocyc2icel_mit[get_biocyc_id(m)].reactions if ri.id.startswith(\"RM\")} for m in r.metabolites if m.name != 'H+']\n",
    "            if len(rxns):\n",
    "                rxns = reduce(set.intersection, rxns) # reduce to mitochondrial iCEL1314 reactions that share all metabolites\n",
    "                for ri in rxns:\n",
    "                    mi = list(ri.metabolites)\n",
    "                    for ml in r.metabolites:\n",
    "                        if ml.name != 'H+' and biocyc2icel_mit[get_biocyc_id(ml)] in mi:\n",
    "                            mi.remove(biocyc2icel_mit[get_biocyc_id(ml)])\n",
    "                    if len(mi) == 0 or (len(mi) == 1 and mi[0].name == 'H+'): # identified mitochondrial iCEL1314 reaction with the same metabolites (excluding protons)\n",
    "                        mito_rxns.add(r.id)\n",
    "                        model_rxn2icel_rxn[r].append(ri.id)\n",
    "                        if ('RC' + ri.id[2:]) not in icel.reactions:\n",
    "                            only_mito_rxns.add(r.id)\n",
    "                            print(\"* \", end=\"\")\n",
    "                        print(r.id, r.build_reaction_string(), ri.id, ri.build_reaction_string())\n",
    "print(len(mito_rxns), len(only_mito_rxns))                    "
   ]
  },
  {
   "cell_type": "code",
   "execution_count": 22,
   "metadata": {},
   "outputs": [
    {
     "data": {
      "text/plain": [
       "[<Reaction RXN66_1[CCO_CYTOSOL]_ETOH/HYDROGEN_PEROXIDE//ACETALD/WATER.51. at 0x2a3c51dd820>,\n",
       " <Reaction ACONITATEHYDR_RXN[CCO_CYTOSOL]_CIS_ACONITATE/WATER//THREO_DS_ISO_CITRATE.55. at 0x2a3c51ddeb0>,\n",
       " <Reaction ADENYL_KIN_RXN[CCO_CYTOSOL]_ATP/AMP//ADP.26. at 0x2a3c5390e20>,\n",
       " <Reaction FUMHYDR_RXN[CCO_CYTOSOL]_MAL//FUM/WATER.28. at 0x2a3c53cbe80>,\n",
       " <Reaction RXN_13451[CCO_CYTOSOL]_CPD_22003/ETF_Oxidized/PROTON//CPD_22006/ETF_Reduced.66. at 0x2a3c54cd430>,\n",
       " <Reaction ISOCITRATE_DEHYDROGENASE_NAD+_RXN[CCO_CYTOSOL]_THREO_DS_ISO_CITRATE/NAD//2_KETOGLUTARATE/CARBON_DIOXIDE/NADH.75. at 0x2a3c54d9340>,\n",
       " <Reaction RXN_13451[CCO_CYTOSOL]_CPD_22020/ETF_Oxidized/PROTON//CPD_22023/ETF_Reduced.66. at 0x2a3c55c5ca0>,\n",
       " <Reaction ACONITATEDEHYDR_RXN[CCO_CYTOSOL]_CIT//CIS_ACONITATE/WATER.38. at 0x2a3c55ad130>,\n",
       " <Reaction CITSYN_RXN[CCO_CYTOSOL]_ACETYL_COA/OXALACETIC_ACID/WATER//CIT/CO_A/PROTON.63. at 0x2a3c56a2f10>,\n",
       " <Reaction CARNITINE_O_PALMITOYLTRANSFERASE_RXN[CCO_CYTOSOL]_PALMITYL_COA/CARNITINE//CPD_419/CO_A.50. at 0x2a3c5790c70>,\n",
       " <Reaction CATAL_RXN[CCO_CYTOSOL]_HYDROGEN_PEROXIDE//WATER/OXYGEN_MOLECULE.54. at 0x2a3c5815a90>,\n",
       " <Reaction SUCCCOASYN_RXN[CCO_CYTOSOL]_SUC/CO_A/ATP//SUC_COA/ADP/Pi.42. at 0x2a3c5870100>,\n",
       " <Reaction RXN_13037[CCO_CYTOSOL]_Octanoyl_ACPs/Gcv_H//Octanoylated_Gcv_H/ACP/PROTON.64. at 0x2a3c58ec7f0>,\n",
       " <Reaction MALATE_DEH_RXN[CCO_CYTOSOL]_MAL/NAD//OXALACETIC_ACID/NADH/PROTON.50. at 0x2a3c594f790>,\n",
       " <Reaction RXN_13451[CCO_CYTOSOL]_CPD_10280/ETF_Oxidized/PROTON//CPD_14282/ETF_Reduced.66. at 0x2a3c5289160>,\n",
       " <Reaction RXN_13451[CCO_CYTOSOL]_CPD_22011/ETF_Oxidized/PROTON//CPD_22014/ETF_Reduced.66. at 0x2a3c5266b20>,\n",
       " <Reaction RXN_13451[CCO_CYTOSOL]_CPD_22015/ETF_Oxidized/PROTON//CPD_22018/ETF_Reduced.66. at 0x2a3c5c06b20>,\n",
       " <Reaction SUCCINATE__COA_LIGASE_GDP_FORMING_RXN[CCO_CYTOSOL]_SUC/GTP/CO_A//SUC_COA/GDP/Pi.42. at 0x2a3c5c54250>,\n",
       " <Reaction ORNCARBAMTRANSFER_RXN[CCO_CYTOSOL]_L_ORNITHINE/CARBAMOYL_P//L_CITRULLINE/Pi/PROTON.61. at 0x2a3c5cee9a0>,\n",
       " <Reaction RXN_13451[CCO_CYTOSOL]_CPD1G_277/ETF_Oxidized/PROTON//CPD_14283/ETF_Reduced.66. at 0x2a3c5dd2b20>,\n",
       " <Reaction RXN_13451[CCO_CYTOSOL]_CPD_22007/ETF_Oxidized/PROTON//CPD_22010/ETF_Reduced.66. at 0x2a3c5e73df0>]"
      ]
     },
     "execution_count": 22,
     "metadata": {},
     "output_type": "execute_result"
    }
   ],
   "source": [
    "model.reactions.query(lambda x: '[CCO_CYTOSOL]' in x, attribute='id')"
   ]
  },
  {
   "cell_type": "code",
   "execution_count": 23,
   "metadata": {},
   "outputs": [
    {
     "data": {
      "text/plain": [
       "[<Reaction ORNCARBAMTRANSFER_RXN[CCO_MIT_LUM]_L_ORNITHINE/CARBAMOYL_P//L_CITRULLINE/Pi/PROTON.61. at 0x2a3c51ea880>,\n",
       " <Reaction SUCCCOASYN_RXN[CCO_MIT_LUM]_SUC/CO_A/ATP//SUC_COA/ADP/Pi.42. at 0x2a3c5231460>,\n",
       " <Reaction RXN_13451[CCO_MIT_LUM]_CPD_22020/ETF_Oxidized/PROTON//CPD_22023/ETF_Reduced.66. at 0x2a3c533c340>,\n",
       " <Reaction MALATE_DEH_RXN[CCO_MIT_LUM]_MAL/NAD//OXALACETIC_ACID/NADH/PROTON.50. at 0x2a3c536cd00>,\n",
       " <Reaction ACONITATEHYDR_RXN[CCO_MIT_LUM]_CIS_ACONITATE/WATER//THREO_DS_ISO_CITRATE.55. at 0x2a3c5478c10>,\n",
       " <Reaction CARNITINE_O_PALMITOYLTRANSFERASE_RXN[CCO_MIT_LUM]_PALMITYL_COA/CARNITINE//CPD_419/CO_A.50. at 0x2a3c5556100>,\n",
       " <Reaction RXN_13451[CCO_MIT_LUM]_CPD1G_277/ETF_Oxidized/PROTON//CPD_14283/ETF_Reduced.66. at 0x2a3c5636e20>,\n",
       " <Reaction RXN_13451[CCO_MIT_LUM]_CPD_22011/ETF_Oxidized/PROTON//CPD_22014/ETF_Reduced.66. at 0x2a3c57089d0>,\n",
       " <Reaction SUCCINATE__COA_LIGASE_GDP_FORMING_RXN[CCO_MIT_LUM]_SUC/GTP/CO_A//SUC_COA/GDP/Pi.42. at 0x2a3c5751ac0>,\n",
       " <Reaction RXN_13037[CCO_MIT_LUM]_Octanoyl_ACPs/Gcv_H//Octanoylated_Gcv_H/ACP/PROTON.64. at 0x2a3c5815d00>,\n",
       " <Reaction RXN_13451[CCO_MIT_LUM]_CPD_22007/ETF_Oxidized/PROTON//CPD_22010/ETF_Reduced.66. at 0x2a3c5a53250>,\n",
       " <Reaction ACONITATEDEHYDR_RXN[CCO_MIT_LUM]_CIT//CIS_ACONITATE/WATER.38. at 0x2a3c5b09e20>,\n",
       " <Reaction FUMHYDR_RXN[CCO_MIT_LUM]_MAL//FUM/WATER.28. at 0x2a3c5b3dd60>,\n",
       " <Reaction ADENYL_KIN_RXN[CCO_MIT_LUM]_ATP/AMP//ADP.26. at 0x2a3c5b62ee0>,\n",
       " <Reaction RXN_13451[CCO_MIT_LUM]_CPD_10280/ETF_Oxidized/PROTON//CPD_14282/ETF_Reduced.66. at 0x2a3c5b90f40>,\n",
       " <Reaction RXN_13451[CCO_MIT_LUM]_CPD_22015/ETF_Oxidized/PROTON//CPD_22018/ETF_Reduced.66. at 0x2a3c5bfbd60>,\n",
       " <Reaction RXN_13451[CCO_MIT_LUM]_CPD_22003/ETF_Oxidized/PROTON//CPD_22006/ETF_Reduced.66. at 0x2a3c5dc4820>]"
      ]
     },
     "execution_count": 23,
     "metadata": {},
     "output_type": "execute_result"
    }
   ],
   "source": [
    "model.reactions.query(lambda x: '[CCO_MIT_LUM]' in x, attribute='id')"
   ]
  },
  {
   "cell_type": "code",
   "execution_count": 24,
   "metadata": {},
   "outputs": [],
   "source": [
    "for r in model.reactions:\n",
    "    if not r.boundary and all(get_biocyc_id(m) in biocyc2icel_cyt for m in r.metabolites):\n",
    "        rxns = [{ri for ri in biocyc2icel_cyt[get_biocyc_id(m)].reactions if ri.id.startswith(\"RC\")} for m in r.metabolites if m.name != 'H+']\n",
    "        if len(rxns):\n",
    "            rxns = reduce(set.intersection, rxns)\n",
    "            for ri in rxns:\n",
    "                mi = list(ri.metabolites)\n",
    "                for ml in r.metabolites:\n",
    "                    if ml.name != 'H+' and biocyc2icel_cyt[get_biocyc_id(ml)] in mi:\n",
    "                        mi.remove(biocyc2icel_cyt[get_biocyc_id(ml)])\n",
    "                if len(mi) == 0 or (len(mi) == 1 and mi[0].name == 'H+'):\n",
    "                    model_rxn2icel_rxn[r].append(ri.id)"
   ]
  },
  {
   "cell_type": "markdown",
   "metadata": {},
   "source": [
    "ATPSYN_RXN is not contained in mito_rxns"
   ]
  },
  {
   "cell_type": "code",
   "execution_count": 25,
   "metadata": {},
   "outputs": [
    {
     "data": {
      "text/plain": [
       "182"
      ]
     },
     "execution_count": 25,
     "metadata": {},
     "output_type": "execute_result"
    }
   ],
   "source": [
    "mapped_icel_mets = reduce(set.union, biocyc2icel.values())\n",
    "cyt_mit_trans = []\n",
    "for r in icel.reactions:\n",
    "    if r.id.startswith(\"TCM\"):\n",
    "        if all(m in mapped_icel_mets for m in r.metabolites):\n",
    "            cyt_mit_trans.append(r)\n",
    "            #print(r.build_reaction_string())\n",
    "len(cyt_mit_trans)"
   ]
  },
  {
   "cell_type": "code",
   "execution_count": 26,
   "metadata": {},
   "outputs": [
    {
     "data": {
      "text/plain": [
       "{'c': 'CCO-CYTOSOL',\n",
       " 'm': 'CCO-MIT-LUM',\n",
       " 'i': 'CCO-MIT-IM-SPC',\n",
       " 'T': 'T',\n",
       " 'CCO__45__MIT__45__IMEM': 'CCO-MIT-IMEM',\n",
       " 'CCO__45__IN': 'CCO-IN',\n",
       " 'CCO__45__OUT': 'CCO-OUT',\n",
       " 'e': 'CCO-EXTRACELLULAR'}"
      ]
     },
     "execution_count": 26,
     "metadata": {},
     "output_type": "execute_result"
    }
   ],
   "source": [
    "model.compartments"
   ]
  },
  {
   "cell_type": "code",
   "execution_count": 27,
   "metadata": {},
   "outputs": [],
   "source": [
    "additional_mito_rxns = [r for r in model.reactions.list_attr('id') if 'CCO_MIT_LUM' in r]"
   ]
  },
  {
   "cell_type": "code",
   "execution_count": 28,
   "metadata": {},
   "outputs": [],
   "source": [
    "# TODO: are these only mitochondrial?\n",
    "additional_mito_rxns += [\n",
    "    '2OXOGLUTDECARB_RXN', 'RXN0_1147', 'RXN_7716', # 2-oxoglutarate dehydrogenase is split into three subreactions\n",
    "    'SUCCINATE_DEHYDROGENASE_UBIQUINONE_RXN_SUC/UBIQUINONE_8//FUM/CPD_9956.31.', # missing because of incomplete quinone mapping\n",
    "    'RXN_20154', 'RXN_20155' # subreactions of acetyl-CoA-acetyltransferase\n",
    "]\n",
    "# move beta-oxidation (reactions of pathway FAO-PWY) of regular fatty acids\n",
    "# into mitochondrion (peroxisome, if present, is probably used for (very-)long chain FA)\n",
    "for r in model.reactions:\n",
    "    if 'FAO-PWY' in r.annotation.get('biocyc.pathway', []):\n",
    "        additional_mito_rxns.append(r.id)\n",
    "        only_mito_rxns.add(r.id)"
   ]
  },
  {
   "cell_type": "markdown",
   "metadata": {},
   "source": [
    "iCEL1314 has lumped palmitate synthesis in cytsol (RCC0020) and beta-oxidation also in the cytosol. There are some FA-related reactions in the mitochondrion. ACP metabolites are not in this model."
   ]
  },
  {
   "cell_type": "code",
   "execution_count": 29,
   "metadata": {},
   "outputs": [],
   "source": [
    "# make decarboxylases irreversible (most already are)\n",
    "if species == 'lumbricus_rubellus':\n",
    "    for r in model.reactions.get_by_any([\n",
    "        'ASPDECARBOX_RXN', 'PHOSPHASERDECARB_RXN', 'SULFINOALANINE_DECARBOXYLASE_RXN']):\n",
    "        r.lower_bound = 0"
   ]
  },
  {
   "cell_type": "code",
   "execution_count": 30,
   "metadata": {},
   "outputs": [],
   "source": [
    "# make some reactions from respiration irreversible in their physiological direction\n",
    "for r in model.reactions.get_by_any([\n",
    "    'RXN_15829_CPD_9956/Oxidized_CycA1_cytochromes/PROTON//UBIQUINONE_8/Reduced_CycA1_cytochromes/PROTON.90.', 'NADH_DEHYDROG_A_RXN_NADH/UBIQUINONE_8/PROTON//NAD/CPD_9956/PROTON.46.']):\n",
    "    r.lower_bound = 0"
   ]
  },
  {
   "cell_type": "code",
   "execution_count": 31,
   "metadata": {},
   "outputs": [],
   "source": [
    "# properly name exchange reactions (with BiGG ID where possible)\n",
    "for r in model.boundary:\n",
    "    m = list(r.metabolites.keys())[0]\n",
    "    r.id = 'EX_' + m.annotation.get('bigg.metabolite', m.id) + '_' + m.compartment"
   ]
  },
  {
   "cell_type": "markdown",
   "metadata": {},
   "source": [
    "Pyruvate is transported into the mitochondrion and PDC produces Acetyl-CoA there. A malate/aspartate shuttle transports NADH from the cytosol to the mitochondrion lumen.\n",
    "\n",
    "In iCEL1314, respiration and ATP synthase exchange protons between mitochondrion and cytosol, not the intermembrane space. 46 ATP per glucose are being produced which is too high."
   ]
  },
  {
   "cell_type": "code",
   "execution_count": 32,
   "metadata": {},
   "outputs": [],
   "source": [
    "for m in model.metabolites:\n",
    "    biocyc_id = get_biocyc_id(m)\n",
    "    if biocyc_id in biocyc2icel and any(mi.compartment == 'm' for mi in biocyc2icel[biocyc_id]): # always copy to prevent reactions with mixed metabolites\n",
    "        mm = m.copy()\n",
    "        mm.id = metabolite_id_for_compartment(mm, 'm')\n",
    "        mm.compartment = 'm'\n",
    "        model.add_metabolites([mm])"
   ]
  },
  {
   "cell_type": "code",
   "execution_count": 33,
   "metadata": {},
   "outputs": [],
   "source": [
    "# add additional mitochondrial metabolites where necessary\n",
    "for m in reduce(set.union, (set(r.metabolites) for r in model.reactions.get_by_any(additional_mito_rxns))):\n",
    "    mm_id = metabolite_id_for_compartment(m, 'm')\n",
    "    if mm_id not in model.metabolites:\n",
    "        mm = m.copy()\n",
    "        mm.id = mm_id\n",
    "        mm.compartment = 'm'\n",
    "        model.add_metabolites([mm])"
   ]
  },
  {
   "cell_type": "code",
   "execution_count": 34,
   "metadata": {},
   "outputs": [],
   "source": [
    "icel2model = dict() # mapping of metabolite ID stems\n",
    "for m in model.metabolites:\n",
    "    biocyc_id = get_biocyc_id(m)\n",
    "    if biocyc_id in biocyc2icel:\n",
    "        stem = {mi.id[:mi.id.rfind('_')] for mi in biocyc2icel[biocyc_id]}\n",
    "        if len(stem) != 1:\n",
    "            print(biocyc_id, stem)\n",
    "        for s in stem:\n",
    "            icel2model[s] = m.id[:m.id.rfind('_')]"
   ]
  },
  {
   "cell_type": "code",
   "execution_count": 35,
   "metadata": {},
   "outputs": [],
   "source": [
    "for r in cyt_mit_trans:\n",
    "    rl = cobra.Reaction(r.id, name=r.name)\n",
    "    rl.bounds = r.bounds\n",
    "    model.add_reactions([rl])\n",
    "    rl.add_metabolites({icel2model[m.id[:m.id.rfind('_')]]+'_'+m.compartment: c for m,c in r.metabolites.items()})\n",
    "    mb = rl.check_mass_balance()\n",
    "    if len(mb):\n",
    "        print(rl.id, mb, rl.build_reaction_string())"
   ]
  },
  {
   "cell_type": "code",
   "execution_count": 36,
   "metadata": {},
   "outputs": [],
   "source": [
    "for r in model.reactions.get_by_any(list(mito_rxns.union(additional_mito_rxns))):\n",
    "    if any(m.id.endswith(\"_CCO-OUT\") for m in r.metabolites):\n",
    "        print(r.id, r.build_reaction_string())\n",
    "        continue\n",
    "    rm = r.copy() # for now make copies in all cases\n",
    "    rm.id = rm.id + '_m'\n",
    "    model.add_reactions([rm])\n",
    "    for m in list(rm.metabolites.keys()): # make a list copy because rm.metabolites changes in this loop\n",
    "        replace_metabolite(rm, m, model.metabolites.get_by_id(metabolite_id_for_compartment(m, 'm')))"
   ]
  },
  {
   "cell_type": "code",
   "execution_count": 37,
   "metadata": {},
   "outputs": [],
   "source": [
    "model.reactions.EX_co2_c.bounds = (-1, 1000)"
   ]
  },
  {
   "cell_type": "code",
   "execution_count": 38,
   "metadata": {},
   "outputs": [
    {
     "name": "stdout",
     "output_type": "stream",
     "text": [
      "ACP_c remains unchanged\n",
      "ACP_m remains unchanged\n"
     ]
    }
   ],
   "source": [
    "replace_ids(model.metabolites, 'bigg.metabolite', unique_only=True)"
   ]
  },
  {
   "attachments": {},
   "cell_type": "markdown",
   "metadata": {},
   "source": [
    "ATP hydrolysis in the cytosol produces one proton while ATP synthesis in the mitochondrion takes up one proton. To ensure this is equibrilated the phospate transport between these compartments is modified (cf. Edmund RS Kunji, Alan J Robinson, Coupling of proton and substrate translocation in the transport cycle of mitochondrial carriers, Current Opinion in Structural Biology, 2010).\n",
    "\n",
    "In BiGG the typical eukaryotic mitochondrial phosphate transport is also a proton symport."
   ]
  },
  {
   "cell_type": "code",
   "execution_count": 149,
   "metadata": {},
   "outputs": [],
   "source": [
    "model.reactions.TCM1292.id = 'PIt2m'\n",
    "model.reactions.PIt2m.name = \"Phosphate transporter mitochondrial\"\n",
    "model.reactions.PIt2m.build_reaction_from_string(\"pi_c + h_c <=> pi_m + h_m\")\n",
    "model.reactions.PIt2m.annotation.clear()"
   ]
  },
  {
   "cell_type": "code",
   "execution_count": 150,
   "metadata": {},
   "outputs": [],
   "source": [
    "model.remove_reactions(only_mito_rxns, remove_orphans=True)"
   ]
  },
  {
   "cell_type": "code",
   "execution_count": 151,
   "metadata": {},
   "outputs": [],
   "source": [
    "# there is only mitochondrial NAD-dependent pyruvate dehydrogenase (RM00209) in the iCEL1314 model\n",
    "model.reactions.get_by_id('PYRUVATE_DEHYDROGENASE_NADP+_RXN').id = 'PDHm'\n",
    "model.reactions.PDHm.name = 'Pyruvate dehydrogenase'\n",
    "model.reactions.PDHm.build_reaction_from_string(\"coa_m + nad_m + pyr_m --> accoa_m + co2_m + nadh_m\")\n",
    "model.reactions.PDHm.annotation.clear()\n",
    "model.reactions.PDHm.annotation['kegg.reaction'] = 'R00209'"
   ]
  },
  {
   "cell_type": "code",
   "execution_count": 152,
   "metadata": {},
   "outputs": [],
   "source": [
    "# in BiGG the typical eukaryotic pyruvate mitochondrial transport is via proton symport.\n",
    "# without the proton symport the model uses weird ways to equilibrate the proton imbalance.\n",
    "model.reactions.TCM1280.id = 'PYRt2m' \n",
    "model.reactions.PYRt2m.name = \"Pyruvate mitochondrial transport via proton symport\"\n",
    "model.reactions.PYRt2m.build_reaction_from_string(\"pyr_c + h_c <=> pyr_m + h_m\")\n",
    "model.reactions.PYRt2m.annotation.clear()"
   ]
  },
  {
   "cell_type": "code",
   "execution_count": 153,
   "metadata": {},
   "outputs": [],
   "source": [
    "# remove obsolete metabolites of obsolete compartments and associated reactions\n",
    "obsolete = []\n",
    "for m in model.metabolites:\n",
    "    if m.compartment in ['T', 'CCO__45__IN', 'CCO__45__OUT']:\n",
    "        obsolete.append(m)\n",
    "model.remove_metabolites(obsolete, destructive=True)"
   ]
  },
  {
   "cell_type": "code",
   "execution_count": 154,
   "metadata": {},
   "outputs": [
    {
     "name": "stdout",
     "output_type": "stream",
     "text": [
      "RXN_14812_FRUCTOSE_6P//FRUCTOSE_6P.25.:  <=> \n"
     ]
    }
   ],
   "source": [
    "# reactions without metabolites\n",
    "for r in model.reactions:\n",
    "    if len(r.metabolites) == 0:\n",
    "        print(r)"
   ]
  },
  {
   "cell_type": "code",
   "execution_count": 155,
   "metadata": {},
   "outputs": [],
   "source": [
    "model.remove_reactions(['RXN_14812_FRUCTOSE_6P//FRUCTOSE_6P.25.'])"
   ]
  },
  {
   "cell_type": "code",
   "execution_count": 156,
   "metadata": {},
   "outputs": [
    {
     "name": "stdout",
     "output_type": "stream",
     "text": [
      "RXN_14187: dcdp_c + h2o_c --> dcmp_c + h_c + pi_c []\n",
      "GLYOXYLATE_REDUCTASE_NADP+_RXN: glx_c + h_c + nadph_c --> glyclt_c + nadp_c []\n",
      "RXN_18356: 3sala_c + h2o_c + nad_c --> Lcyst_c + h_c + nadh_c []\n",
      "DEOXYGUANOSINE_KINASE_RXN: atp_c + dgsn_c --> adp_c + dgmp_c + h_c []\n",
      "NUCLEOSIDE_TRIPHOSPHATASE_RXN_ITP/WATER//IDP/Pi/PROTON.25.: h2o_c + itp_c --> h_c + idp_c + pi_c []\n",
      "OXALODECARB_RXN: h_c + oaa_c --> co2_c + pyr_c []\n",
      "ATPSYN_RXN[CCO_EXTRACELLULAR_CCO_CYTOSOL]_ATP/WATER/PROTON//ADP/Pi/PROTON.63.: adp_c + 4.0 h_e + pi_c --> atp_c + h2o_c + 3.0 h_c ['RCC0005', 'TCE1132']\n",
      "RXN_7904_STEARIC_ACID/CO_A/ATP//STEAROYL_COA/AMP/PPI.44.: atp_c + coa_c + ocdca_c --> amp_c + ppi_c + stcoa_c []\n",
      "DCTP_PYROPHOSPHATASE_RXN: dctp_c + h2o_c --> dcmp_c + h_c + ppi_c []\n",
      "RXN_14217: dgtp_c + h2o_c --> dgdp_c + h_c + pi_c []\n",
      "RXN_14214: datp_c + h2o_c --> dadp_c + h_c + pi_c []\n",
      "GLYC3PDEHYDROGBIOSYN_RXN_GLYCEROL_3P/NADP//DIHYDROXY_ACETONE_PHOSPHATE/NADPH/PROTON.59.: dhap_c + h_c + nadph_c --> glyc3p_c + nadp_c []\n",
      "2.7.4.10_RXN_ITP/AMP//IDP/ADP.17.: amp_c + itp_c <=> adp_c + idp_c []\n",
      "2.7.4.10_RXN_DUTP/AMP//DUDP/ADP.19.: amp_c + dutp_c <=> adp_c + dudp_c []\n",
      "TRIOKINASE_RXN: atp_c + glyald_c <=> adp_c + g3p_c + h_c []\n",
      "ACETALD_DEHYDROG_RXN: acald_c + coa_c + nad_c --> accoa_c + h_c + nadh_c []\n",
      "GLYCOLATE_REDUCTASE_RXN: glyclt_c + nad_c <=> glx_c + h_c + nadh_c []\n",
      "RXN_8443: atp_c + nicrns_c --> adp_c + h_c + nicrnt_c []\n",
      "RXN_12198: cdp_c + h2o_c --> cmp_c + h_c + pi_c []\n",
      "RXN66_1[CCO_CYTOSOL]_ETOH/HYDROGEN_PEROXIDE//ACETALD/WATER.51.: etoh_c + h2o2_c --> acald_c + 2.0 h2o_c []\n",
      "TRANS_2_ENOYL_COA_REDUCTASE_NAD+_RXN_CPD_10267/NAD//T2_DECENOYL_COA/NADH/PROTON.43.: dc2coa_c + h_c + nadh_c --> dcacoa_c + nad_c []\n",
      "2.7.4.10_RXN_CTP/AMP//CDP/ADP.17.: amp_c + ctp_c <=> adp_c + cdp_c []\n",
      "RXN_12196: h2o_c + utp_c --> h_c + pi_c + udp_c []\n",
      "RXN_14117: gdp_c + h_c + pep_c --> gtp_c + pyr_c []\n",
      "3.1.3.74_RXN: h2o_c + pydx5p_c --> pi_c + pydx_c []\n",
      "RXN_14220: dudp_c + h2o_c <=> dump_c + h_c + pi_c []\n",
      "RXN_7948: ethamp_c + h2o_c --> etha_c + pi_c []\n",
      "ATPSYN_RXN[CCO_MIT_IMEM]_ATP/WATER/PROTON//ADP/Pi/PROTON.46.: adp_m + 4.0 h_i + pi_m --> atp_m + h2o_m + 3.0 h_m ['RMC0004', 'RMC0005']\n",
      "RXN_9673: atp_c + coa_c + lnlc_c --> amp_c + lnlccoa_c + ppi_c []\n",
      "RXN_19024: gthrd_c --> 5oxpro_c + cgly_c []\n",
      "CYTIDINEKIN_RXN: cytd_c + gtp_c --> cmp_c + gdp_c + h_c []\n",
      "NICOTINATEPRIBOSYLTRANS_RXN: atp_c + h2o_c + nac_c + prpp_c --> adp_c + nicrnt_c + pi_c + ppi_c []\n",
      "RXN_12481: itp_c + oaa_c <=> co2_c + idp_c + pep_c []\n",
      "RXN_14207: dgdp_c + h_c + pep_c --> dgtp_c + pyr_c []\n",
      "PYRIDOXINE_4_DEHYDROGENASE_RXN: nadp_c + pydxn_c <=> h_c + nadph_c + pydx_c []\n",
      "RXN_9614: cdpchol_c + h2o_c --> cholp_c + cmp_c + 2.0 h_c []\n",
      "RXN_12545: adp_c + gam_c --> amp_c + gam6p_c + h_c []\n",
      "2.4.2.12_RXN: h_c + ncam_c + prpp_c --> nmn_c + ppi_c []\n",
      "RXN_14216: dctp_c + h2o_c --> dcdp_c + h_c + pi_c []\n",
      "2.7.4.10_RXN_DCTP/AMP//DCDP/ADP.19.: amp_c + dctp_c <=> adp_c + dcdp_c []\n",
      "2.7.4.10_RXN_DATP/AMP//DADP/ADP.19.: amp_c + datp_c <=> adp_c + dadp_c []\n",
      "RXN_14181: h2o_c + pdx5p_c --> pi_c + pydxn_c []\n",
      "PROPIONATE_COA_TRANSFERASE_RXN: accoa_c + ppa_c --> ac_c + ppcoa_c []\n",
      "RXN_14218: dgdp_c + h2o_c --> dgmp_c + h_c + pi_c []\n",
      "RXN_14046: h2o_c + pyam5p_c --> pi_c + pydam_c []\n",
      "RXN_5647: cholp_c + h2o_c --> chol_c + pi_c []\n",
      "TRANS_2_ENOYL_COA_REDUCTASE_NAD+_RXN_LAUROYLCOA_CPD/NAD//CPD_7222/NADH/PROTON.41.: dd2coa_c + h_c + nadh_c --> ddcacoa_c + nad_c []\n",
      "RXN_10862: adp_c + h2o_c --> amp_c + h_c + pi_c []\n",
      "RXN_12195: ctp_c + h2o_c --> cdp_c + h_c + pi_c []\n",
      "TRANS_2_ENOYL_COA_REDUCTASE_NAD+_RXN_STEAROYL_COA/NAD//CPD_10262/NADH/PROTON.40.: h_c + nadh_c + od2coa_c --> nad_c + stcoa_c []\n",
      "URKI_RXN: gtp_c + uri_c --> gdp_c + h_c + ump_c []\n",
      "RXN_14213: dtdp_c + h2o_c <=> dtmp_c + h_c + pi_c []\n",
      "NAD_KIN_RXN: atp_c + nad_c --> adp_c + h_c + nadp_c []\n",
      "RXN_14219: dutp_c + h2o_c --> dudp_c + h_c + pi_c []\n",
      "THYMIDINE_TRIPHOSPHATASE_RXN: dttp_c + h2o_c --> dtdp_c + h_c + pi_c []\n",
      "TRANS_2_ENOYL_COA_REDUCTASE_NAD+_RXN_PALMITYL_COA/NAD//CPD0_2117/NADH/PROTON.40.: h_c + hdd2coa_c + nadh_c --> nad_c + pmtcoa_c []\n",
      "ATPASE_RXN: atp_c + h2o_c --> adp_c + h_c + pi_c ['RCC0005', 'TCE1132']\n",
      "RXN_14215: dadp_c + h2o_c --> damp_c + h_c + pi_c []\n",
      "RXN_10745_NADH/PROTON/OXYGEN_MOLECULE//HYDROGEN_PEROXIDE/NAD.51.: h_c + nadh_c + o2_c --> h2o2_c + nad_c []\n",
      "RXN0_383: ctp_c + h2o_c --> cmp_c + h_c + ppi_c []\n",
      "RXN_10811: coa_c + h2o_c --> 2.0 h_c + pan4p_c + pap_c []\n",
      "RIBOSYLNICOTINAMIDE_KINASE_RXN: atp_c + rnam_c --> adp_c + h_c + nmn_c []\n",
      "TCM0105: dgdp_m + dtdp_c --> dgdp_c + dtdp_m ['TCM0172', 'TCM0105']\n",
      "TCM0101: dadp_c + dudp_m --> dadp_m + dudp_c ['TCM0175', 'TCM0101']\n",
      "TCM0172: dgdp_c + dtdp_m --> dgdp_m + dtdp_c ['TCM0172', 'TCM0105']\n",
      "TCM0171: dadp_c + dgdp_m --> dadp_m + dgdp_c ['TCM0171', 'TCM0066']\n",
      "TCM0175: dadp_m + dudp_c --> dadp_c + dudp_m ['TCM0175', 'TCM0101']\n",
      "TCM0163: dcdp_m + dtdp_c --> dcdp_c + dtdp_m ['TCM0163', 'TCM0128']\n",
      "TCM0156: dtdp_m + dudp_c --> dtdp_c + dudp_m ['TCM0208', 'TCM0156']\n",
      "TCM5058: 2obut_m --> 2obut_c ['TCM5058', 'TCM5059']\n",
      "TCM0066: dadp_m + dgdp_c --> dadp_c + dgdp_m ['TCM0171', 'TCM0066']\n",
      "TCM0208: dtdp_c + dudp_m --> dtdp_m + dudp_c ['TCM0208', 'TCM0156']\n",
      "TCM0076: dgdp_m + dudp_c --> dgdp_c + dudp_m ['TCM0114', 'TCM0076']\n",
      "TCM0083: dcdp_c + dgdp_m --> dcdp_m + dgdp_c ['TCM0099', 'TCM0083']\n",
      "TCM0081: dadp_c + dtdp_m --> dadp_m + dtdp_c ['TCM0081', 'TCM0206']\n",
      "TCM0099: dcdp_m + dgdp_c --> dcdp_c + dgdp_m ['TCM0099', 'TCM0083']\n",
      "TCM0222: dadp_c + dcdp_m --> dadp_m + dcdp_c ['TCM0121', 'TCM0222']\n",
      "TCM5059: 2obut_c --> 2obut_m ['TCM5058', 'TCM5059']\n",
      "TCM0125: dcdp_m + dudp_c --> dcdp_c + dudp_m ['TCM0110', 'TCM0125']\n",
      "TCM0121: dadp_m + dcdp_c --> dadp_c + dcdp_m ['TCM0121', 'TCM0222']\n",
      "TCM0128: dcdp_c + dtdp_m --> dcdp_m + dtdp_c ['TCM0163', 'TCM0128']\n",
      "TCM0206: dadp_m + dtdp_c --> dadp_c + dtdp_m ['TCM0081', 'TCM0206']\n",
      "TCM0110: dcdp_c + dudp_m --> dcdp_m + dudp_c ['TCM0110', 'TCM0125']\n",
      "TCM0114: dgdp_c + dudp_m --> dgdp_m + dudp_c ['TCM0114', 'TCM0076']\n"
     ]
    }
   ],
   "source": [
    "for r in model.reactions:\n",
    "    if not r.boundary and all('bigg.metabolite' in m.annotation for m in r.metabolites) and all(m.id in icel.metabolites for m in r.metabolites if m.name != 'H+'):\n",
    "        rxns = reduce(set.intersection, (set(icel.metabolites.get_by_id(m.id).reactions) for m in r.metabolites if m.name != 'H+'))\n",
    "        model_mets = {m.id for m in r.metabolites if m.name != 'H+'}\n",
    "        candidates = []\n",
    "        for ri in rxns:\n",
    "            if model_mets == {m.id for m in ri.metabolites if m.name != 'H+'}:\n",
    "                candidates.append(ri.id)\n",
    "        if len(candidates) != 1:\n",
    "            print(r, candidates)\n",
    "        r.annotation['iCEL1314.reaction'] = candidates\n",
    "        if r.id == 'BUTYRYL_COA_DEHYDROGENASE_RXN_m':\n",
    "            break"
   ]
  },
  {
   "cell_type": "code",
   "execution_count": 157,
   "metadata": {},
   "outputs": [],
   "source": [
    "# remove ATP synthase in outer membrane\n",
    "model.remove_reactions(['ATPSYN_RXN[CCO_EXTRACELLULAR_CCO_CYTOSOL]_ATP/WATER/PROTON//ADP/Pi/PROTON.63.'])"
   ]
  },
  {
   "cell_type": "code",
   "execution_count": 158,
   "metadata": {},
   "outputs": [],
   "source": [
    "# prevent unrealistic solutions that lead to a P/O ratio of 3\n",
    "model.reactions.get_by_id('FORMYLTETRAHYDROFOLATE_DEHYDROGENASE_RXN').lower_bound = 0"
   ]
  },
  {
   "cell_type": "markdown",
   "metadata": {},
   "source": [
    "Some metabolites like ubiquinone are more specific in LRU compared to iCEL1314 and therefore not mapped, for these an 'iCEL1314.metabolite' annotation could be introduced."
   ]
  },
  {
   "cell_type": "markdown",
   "metadata": {},
   "source": [
    "PDH is not a complex in the earthworm models because BioCyc models the three steps of the PDH complex separately as distinct reactions."
   ]
  },
  {
   "cell_type": "code",
   "execution_count": 159,
   "metadata": {},
   "outputs": [
    {
     "name": "stdout",
     "output_type": "stream",
     "text": [
      "BIOMASS_EQUATION {'charge': 0.8254660530000137, 'C': -6.6968572335000545, 'H': -11.093942165000044, 'N': -2.1429917300000056, 'O': -5.013521882000248, 'P': -0.6358068730000141, 'S': -0.078938609} 1e-05 CPD1G_277_c + 1e-05 CPD_22020_c + 0.070647635 ala__L_c + 0.011312218 amet_c + 0.040727146 arg__L_c + 0.033155132 asn__L_c + 0.033155132 asp__L_c + 20.03057 atp_c + 0.011312218 coa_c + 0.026018102 ctp_c + 0.012571015 cys__L_c + 0.010855213 datp_c + 0.01120361 dctp_c + 0.01120361 dgtp_c + 0.010855213 dttp_c + 0.011312218 fad_c + 0.036169235 gln__L_c + 0.036169235 glu__L_c + 0.084174335 gly_c + 0.03500503 gtp_c + 20.0 h2o_c + 1e-05 hdca_c + 0.013085618 his__L_c + 0.039918486 ile__L_c + 0.061972897 leu__L_c + 0.047122926 lys__L_c + 0.021098722 met__L_c + 0.011312218 nad_c + 0.011312218 nadp_c + 1e-05 ocdca_c + 0.025509601 phe__L_c + 0.030435089 pro__L_c + 0.011312218 pydx5p_c + 0.011312218 ribflv_c + 0.029626427 ser__L_c + 0.011312218 so4_c + 0.011312218 thmpp_c + 0.034845974 thr__L_c + 0.0077925585 trp__L_c + 0.018966794 tyr__L_c + 0.027185235 utp_c + 0.05815014 val__L_c --> 20.0 adp_c + 20.0 h_c + 20.0 pi_c\n",
      "RXN_12549 {'Up': 1.0} Retinol_Binding_Proteins_c + retinol_c <=> RPB_Retinol_c\n",
      "RXN_12556 {'Vt': -1.0} 11C_Retinal_RALBPs_c --> Retinaldehyde_binding_proteins_c + retinal_11_cis_c\n",
      "RXN_12555 {'Vt': 1.0} CPD_882_c + Retinaldehyde_binding_proteins_c --> 11C_Retinol_RALBPs_c\n",
      "SUCCINATE_DEHYDROGENASE_UBIQUINONE_RXN_SUC/UBIQUINONE_8//FUM/CPD_9956.31._m {'H': -2.0} q8_m + 2.0 succ_m --> 2.0 fum_m + q8h2_m\n"
     ]
    }
   ],
   "source": [
    "for r in model.reactions:\n",
    "    if not r.boundary:\n",
    "        mb = r.check_mass_balance()\n",
    "        if len(mb):\n",
    "            print(r.id, mb, r.build_reaction_string())"
   ]
  },
  {
   "cell_type": "code",
   "execution_count": 160,
   "metadata": {},
   "outputs": [],
   "source": [
    "model.remove_reactions([m for m in model.metabolites if len(m.reactions) == 0])"
   ]
  },
  {
   "cell_type": "code",
   "execution_count": 161,
   "metadata": {},
   "outputs": [
    {
     "data": {
      "text/plain": [
       "1819"
      ]
     },
     "execution_count": 161,
     "metadata": {},
     "output_type": "execute_result"
    }
   ],
   "source": [
    "len(model.reactions)"
   ]
  },
  {
   "cell_type": "code",
   "execution_count": 162,
   "metadata": {},
   "outputs": [
    {
     "name": "stdout",
     "output_type": "stream",
     "text": [
      "RXN2PN3_45 CPD_26676_c --> lgt__S_c\n",
      "RXN_15124 2amac_c --> CPD_16015_c\n",
      "RXN_12752 CPD0_2472_c --> CPD_653_c\n",
      "D_PPENTOMUT_RXN 2dr1p_c --> 2dr5p_c\n",
      "MYO_INOSITOL_1_PHOSPHATE_SYNTHASE_RXN D_glucopyranose_6_phosphate_c --> mi3p__D_c\n",
      "RXN_14501 CPD_15373_c --> CPD_12601_c\n",
      "UDP_N_ACETYLGLUCOSAMINE_4_EPIMERASE_RXN uacgam_c --> CPD_14795_c\n",
      "ALDOSE1EPIM_RXN gal_bD_c --> gal_c\n",
      "MYO_INOSITOL_1_PHOSPHATE_SYNTHASE_RXN_ALPHA_GLC_6_P//1_L_MYO_INOSITOL_1_P.36. g6p_A_c --> mi3p__D_c\n",
      "PHOSMANMUT_RXN man6p_c --> man1p_c\n",
      "RXN_13142 CPD_14133_c --> CPD0_2474_c\n",
      "RXN_15121 CPD_15056_c --> CPD_16013_c\n",
      "RXN66_579 GLC_6_P_c --> mi3p__D_c\n",
      "MALEYLACETOACETATE_ISOMERASE_RXN 4mlacac_c --> 4fumacac_c\n",
      "PPENTOMUT_RXN r1p_c --> RIBOSE_5P_c\n",
      "FCLEPIM_RXN gdpddman_c --> gdpofuc_c\n",
      "TCM0210 occoa_c --> occoa_m\n",
      "TCM0170 4mop_c --> 4mop_m\n",
      "TCM0177 CPD_466_m --> CPD_466_c\n",
      "TCM0169 fe2_c --> fe2_m\n",
      "TCM1283 crn_m --> crn_c\n",
      "TCM1288 glyc3p_c --> glyc3p_m\n",
      "TCM5058 2obut_m --> 2obut_c\n",
      "TCM1073 2oxoadp_m --> 2oxoadp_c\n",
      "TCM0141 gln__L_c --> gln__L_m\n",
      "TCM5060 mthgxl_c --> mthgxl_m\n",
      "TCM5018 thmpp_c --> thmpp_m\n",
      "TCM5001 CPD_419_c --> CPD_419_m\n",
      "TCM5030 ala__L_c --> ala__L_m\n",
      "TCM1278 acrn_c --> acrn_m\n",
      "TCM5027 cys__L_c --> cys__L_m\n",
      "TCM5111 L_1_PHOSPHATIDYL_SERINE_m --> L_1_PHOSPHATIDYL_SERINE_c\n",
      "TCM1077 dhap_m --> dhap_c\n",
      "TCM5059 2obut_c --> 2obut_m\n",
      "METHYLMALONYL_COA_MUT_RXN_m mmcoa__R_m --> succoa_m\n",
      "METHYLMALONYL_COA_EPIM_RXN_m mmcoa__S_m --> mmcoa__R_m\n"
     ]
    }
   ],
   "source": [
    "for r in model.reactions:\n",
    "    if len(r.metabolites) == 2:\n",
    "        coeff = list(r.metabolites.values())\n",
    "        if coeff[0] == -coeff[1] and r.lower_bound == 0 or r.upper_bound == 0:\n",
    "            print(r.id, r.build_reaction_string())"
   ]
  },
  {
   "cell_type": "code",
   "execution_count": 163,
   "metadata": {},
   "outputs": [],
   "source": [
    "# make some isomerases reversible (which they actually are in MetaCyc)\n",
    "model.reactions.METHYLMALONYL_COA_MUT_RXN_m.lower_bound = -3000\n",
    "model.reactions.METHYLMALONYL_COA_EPIM_RXN_m.lower_bound = -3000"
   ]
  },
  {
   "cell_type": "code",
   "execution_count": 164,
   "metadata": {},
   "outputs": [],
   "source": [
    "if species == 'lumbricus_rubellus':\n",
    "    cobra.io.write_sbml_model(model, os.path.join(species, \"metabolic_model\", \"LRU1.sbml\"))\n",
    "elif species == 'lumbricus_terrestris':\n",
    "    cobra.io.write_sbml_model(model, os.path.join(species, \"metabolic_model\", \"LRT1.sbml\"))\n",
    "else:\n",
    "    raise ValueError(\"Unsupported species.\")"
   ]
  }
 ],
 "metadata": {
  "kernelspec": {
   "display_name": "cnapy3",
   "language": "python",
   "name": "python3"
  },
  "language_info": {
   "codemirror_mode": {
    "name": "ipython",
    "version": 3
   },
   "file_extension": ".py",
   "mimetype": "text/x-python",
   "name": "python",
   "nbconvert_exporter": "python",
   "pygments_lexer": "ipython3",
   "version": "3.8.18"
  },
  "orig_nbformat": 4,
  "vscode": {
   "interpreter": {
    "hash": "a61662bcb8a099dad95f67c6cfda55e0c4eddaf5106edf2b4624587b196f80f3"
   }
  }
 },
 "nbformat": 4,
 "nbformat_minor": 2
}
