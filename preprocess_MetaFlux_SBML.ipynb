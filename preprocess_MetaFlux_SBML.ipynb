{
 "cells": [
  {
   "cell_type": "markdown",
   "metadata": {},
   "source": [
    "Integrate MetaNetX and BioCyc annotations into the MetaFlux SBML export."
   ]
  },
  {
   "cell_type": "code",
   "execution_count": 1,
   "metadata": {},
   "outputs": [
    {
     "data": {
      "text/plain": [
       "['|GCF_004798725|', '|LRT|', '|LRU|', '|META|', '|ECOLI|']"
      ]
     },
     "execution_count": 1,
     "metadata": {},
     "output_type": "execute_result"
    }
   ],
   "source": [
    "# use -python-local-only-non-strict when calling PathwayTools\n",
    "import pythoncyc\n",
    "from pythoncyc.PToolsFrame import Symbol, PFrame\n",
    "from pythoncyc.PTools import sendQueryToPTools, PToolsError\n",
    "from IPython.display import display, HTML\n",
    "import json\n",
    "import urllib\n",
    "import time\n",
    "pythoncyc.all_orgids()"
   ]
  },
  {
   "cell_type": "code",
   "execution_count": 2,
   "metadata": {},
   "outputs": [],
   "source": [
    "import cobra\n",
    "import os\n",
    "cobra.Configuration.solver = 'glpk'\n",
    "\n",
    "def get_biocyc_id(met: cobra.Metabolite):\n",
    "    biocyc_id = met.annotation.get('biocyc')\n",
    "    if biocyc_id:\n",
    "        biocyc_id = biocyc_id[biocyc_id.index(':')+1:]\n",
    "    return biocyc_id"
   ]
  },
  {
   "cell_type": "code",
   "execution_count": 3,
   "metadata": {},
   "outputs": [],
   "source": [
    "with open(\"metanetx_annotations.json\") as fp:\n",
    "    metanetx_annotations = json.load(fp)"
   ]
  },
  {
   "cell_type": "code",
   "execution_count": 4,
   "metadata": {},
   "outputs": [],
   "source": [
    "species = 'lumbricus_terrestris'"
   ]
  },
  {
   "cell_type": "code",
   "execution_count": 5,
   "metadata": {},
   "outputs": [],
   "source": [
    "if species == 'lumbricus_terrestris':\n",
    "    pgdb = pythoncyc.select_organism('lrt')\n",
    "else:\n",
    "    pgdb = pythoncyc.select_organism('lru')\n",
    "metacyc = pythoncyc.select_organism('meta')"
   ]
  },
  {
   "cell_type": "code",
   "execution_count": 6,
   "metadata": {},
   "outputs": [],
   "source": [
    "model = cobra.io.read_sbml_model(os.path.join(species, \"MetaFlux/SBML_export.xml\"))"
   ]
  },
  {
   "cell_type": "code",
   "execution_count": 7,
   "metadata": {},
   "outputs": [],
   "source": [
    "import pandas as pd\n",
    "bigg_metabolites = pd.read_csv(\"/scratch/vonkamp/gwdg_owncloud/cnapy-projects/a_woodii/Models_Acetogens/functions/bigg_models_metabolites.txt\", sep='\\t')"
   ]
  },
  {
   "cell_type": "code",
   "execution_count": 8,
   "metadata": {},
   "outputs": [
    {
     "name": "stdout",
     "output_type": "stream",
     "text": [
      "Cannot resolve 5-PHOSPHONOOXY-L-LYSINE\n",
      "CPD-25508 []\n",
      "CPD-25450 []\n",
      "Cannot resolve PHYTOSPINGOSINE\n",
      "Cannot resolve CPD-9720\n",
      "CPD-26479 []\n",
      "Cannot resolve CPD-14276\n",
      "Cannot resolve CPD-8343\n",
      "Cannot resolve CPD-8609\n",
      "Cannot resolve CPD-10505\n",
      "CPD-24938 []\n",
      "Cannot resolve CPD-9871\n",
      "CPD-24959 []\n",
      "Oxidized-CymA-Proteins []\n",
      "CPD-24553 []\n",
      "Alpha-Tubulin-L-Lysine []\n",
      "Cannot resolve CPD-547\n",
      "CPD-24844 []\n",
      "Cannot resolve CPD-17368\n",
      "CPD-26676 []\n",
      "CPD-24554 []\n",
      "Cannot resolve ALPHA-GLUCOSE-16-BISPHOSPHATE\n",
      "CPD-27098 []\n",
      "Cannot resolve CPD-19740\n",
      "CPD-24926 []\n",
      "CPD-25877 []\n",
      "Cannot resolve ARACHIDONYL-COA\n",
      "Cannot resolve 2-OXOSUCCINAMATE\n",
      "CPD-26482 []\n",
      "Cannot resolve GLC\n",
      "Cannot resolve CPD-14018\n",
      "Cannot resolve CPD-13534\n",
      "Cannot resolve CPD-9406\n",
      "Cannot resolve OXALO-SUCCINATE\n",
      "MOCS3-Cysteine []\n",
      "Ditrans-polycis-polyprenals []\n",
      "Globotriosylceramides []\n",
      "Cannot resolve 2-KETO-GLUTARAMATE\n",
      "Cannot resolve CPD-19741\n",
      "LIPOIC-ACID ['lipt', 'lipoate']\n",
      "Cannot resolve PENTANOYLCOA-CPD\n",
      "Cannot resolve PENTANOYLCOA-CPD\n",
      "Cannot resolve CPD-14283\n",
      "CPD-26481 []\n",
      "Cannot resolve CPD-14766\n",
      "Protein-S3-hydroxy-L-histidine []\n",
      "Cannot resolve GLUTACONYL-COA\n",
      "Cannot resolve GLUTACONYL-COA\n",
      "AMMONIA ['nh4', 'nh3']\n",
      "MOCS3-Cysteine-Persulfide []\n",
      "Cannot resolve CPD-19743\n",
      "Cannot resolve CPD-19743\n",
      "CPD-170 ['stchs', 'stys']\n",
      "Cannot resolve PHTYOSPHINGOSINE-1-P\n",
      "CPD-25448 []\n",
      "Alpha-Tubulin-acetyl-L-lysine []\n",
      "Cannot resolve CPD66-28\n",
      "A-DNA-CONTAINING-AN-AP-SITE-ALDEHYDE-FORM []\n",
      "Cannot resolve CPD-14420\n",
      "Cannot resolve CPD-497\n",
      "Cannot resolve CPD-14053\n",
      "Cannot resolve CPD-20685\n",
      "ALPHA-GLUCOSE ['glc__aD', 'Glc_aD']\n",
      "Cannot resolve CPD-9873\n",
      "Cannot resolve CPD-12647\n",
      "Reduced-CymA-Proteins []\n",
      "Dolichals []\n",
      "Ubiquitin-C-Terminal-Glycine-AMP []\n",
      "Cannot resolve CPD-12173\n",
      "Cannot resolve COPROPORPHYRIN_III\n",
      "Cannot resolve CH3-MALONATE-S-ALD\n",
      "CPD-27164 []\n",
      "Cannot resolve 4-METHYL-824-CHOLESTADIENOL\n",
      "Cannot resolve MEVALONATE\n",
      "mev_R appears obsolete\n",
      "CPD-24961 []\n",
      "Cannot resolve CPD-24318\n",
      "Cannot resolve OLEOYL-COA\n",
      "Cannot resolve OLEOYL-COA\n",
      "Cannot resolve OLEOYL-COA\n",
      "glc appears obsolete\n",
      "Cannot resolve CPD-4581\n",
      "CPD-24843 []\n",
      "Cannot resolve CPD-14278\n",
      "CPD-27445 []\n",
      "L-Ribulofuranose []\n"
     ]
    },
    {
     "data": {
      "text/plain": [
       "316"
      ]
     },
     "execution_count": 8,
     "metadata": {},
     "output_type": "execute_result"
    }
   ],
   "source": [
    "# validate MetaNetX mapping and create BiGG mapping\n",
    "biocyc2bigg = dict()\n",
    "native = 0\n",
    "bigg_met = cobra.Metabolite(\"B\")\n",
    "bigg_results = dict()\n",
    "#with open(\"/scratch/vonkamp/gwdg_owncloud/lumbricus_integrate_koala/bigg_results.json\") as fp:\n",
    "#    bigg_results = json.load(fp)\n",
    "for m,v in metanetx_annotations.items():\n",
    "    try:\n",
    "        b = [metacyc.get_slot_values(m, \"DBLINKS\").get(\"|BIGG|\")[0]]\n",
    "    except:\n",
    "        b = None\n",
    "    if b:\n",
    "        biocyc2bigg[m] = b\n",
    "        native += 1\n",
    "        continue\n",
    "    b = [a for a in v if a.startswith('https://biocyc.org/compound')]\n",
    "    if len(b) > 0:\n",
    "        b = [a[a.index('=')+1:] for a in b] # many have multiple mappings back to MetaCyc\n",
    "        if m not in b:\n",
    "            print(m, b)\n",
    "    else:\n",
    "        print(m, b)\n",
    "    b = {a[43:].replace('M_', '').replace('-', '__') for a in v if a.startswith('http://bigg.ucsd.edu/universal/metabolites/')}\n",
    "    valid = []\n",
    "    for a in b:\n",
    "        if a in bigg_results:\n",
    "            result = bigg_results[a]\n",
    "            db_links = result['database_links']\n",
    "            if 'BioCyc' not in db_links:\n",
    "                print(a, \"does not link back to BioCyc\")\n",
    "            else:\n",
    "                db_links = db_links.get('BioCyc', [])\n",
    "                if len(db_links) == 1 and db_links[0]['id'][5:] == m: # unique link back to BioCyc\n",
    "                    valid.append(a)\n",
    "                else: # check if a variant with matching formula and charge exists\n",
    "                    for formula,charge in zip(result['formulae'], result['charges']):\n",
    "                        try:\n",
    "                            biocyc_charge = sum(c for _,c in metacyc.get_slot_values(m, 'ATOM-CHARGES'))\n",
    "                            if charge == biocyc_charge:\n",
    "                                biocyc_elements = {e[1] if len(e) == 3 else e[1]+e[2].lower(): int(c[0]) for e,c in metacyc.get_slot_values(m, 'CHEMICAL-FORMULA').items()}\n",
    "                                bigg_met.formula = formula\n",
    "                                if bigg_met.elements == biocyc_elements:\n",
    "                                    valid.append(a)\n",
    "                        except:\n",
    "                            pass\n",
    "            continue\n",
    "        result = bigg_metabolites[bigg_metabolites.universal_bigg_id == a][\"database_links\"]\n",
    "        if len(result) == 0:\n",
    "            print(a, \"appears obsolete\")\n",
    "        else:\n",
    "            try:\n",
    "                result = [s.split(\"META:\")[1] for s in result.iloc[0].split(';') if \"META:\" in s]\n",
    "                if m in result:\n",
    "                    valid.append(a)\n",
    "                #if len(result) == 1 and result[0] == m: # unique link back to BioCyc\n",
    "                #    valid.append(a)\n",
    "                #else:\n",
    "                #    print(m, \"has candidates\", result)\n",
    "            except:\n",
    "                print(\"Cannot resolve\", m)\n",
    "        # try:\n",
    "        #     if a in bigg_results:\n",
    "        #         result = bigg_results[a]\n",
    "        #     else:\n",
    "        #         result = urllib.request.urlopen('http://bigg.ucsd.edu/api/v2/models/universal/metabolites/'+a)\n",
    "        #         data = result.read()\n",
    "        #         result = json.loads(data.decode(result.info().get_content_charset('utf-8')))\n",
    "        #         bigg_results[a] = result\n",
    "        #         time.sleep(0.1)\n",
    "        #     db_links = result['database_links']\n",
    "        #     # if 'BioCyc' not in db_links:\n",
    "        #     #     print(a, \"does not link back to BioCyc\")\n",
    "        #     # else:\n",
    "        #     db_links = db_links.get('BioCyc', [])\n",
    "        #     if len(db_links) == 1 and db_links[0]['id'][5:] == m: # unique link back to BioCyc\n",
    "        #         valid.append(a)\n",
    "        #     else: # check if a variant with matching formula and charge exists\n",
    "        #         for formula,charge in zip(result['formulae'], result['charges']):\n",
    "        #             biocyc_charge = sum(c for _,c in meta.get_slot_values(m, 'ATOM-CHARGES'))\n",
    "        #             if charge == biocyc_charge:\n",
    "        #                 biocyc_elements = {e[1] if len(e) == 3 else e[1]+e[2].lower(): int(c[0]) for e,c in meta.get_slot_values(m, 'CHEMICAL-FORMULA').items()}\n",
    "        #                 bigg_met.formula = formula\n",
    "        #                 if bigg_met.elements == biocyc_elements:\n",
    "        #                     valid.append(a)\n",
    "        #         # if len(db_links) > 1:\n",
    "        #         #     print(a, \"does not link back uniquely to\", m)\n",
    "        #         # else:\n",
    "        #         #     if db_links[0]['id'][5:] == m:\n",
    "        #         #         valid.append(a)\n",
    "        #         #     else:\n",
    "        #         #         print(a, \"does not link back to\", m, \"but\", db_links[0])\n",
    "        # except:\n",
    "        #     print(a, \"appears obsolete\")\n",
    "    biocyc2bigg[m] = valid\n",
    "    if len(valid) > 1:\n",
    "        print(m, valid)\n",
    "native\n"
   ]
  },
  {
   "cell_type": "code",
   "execution_count": 9,
   "metadata": {},
   "outputs": [
    {
     "name": "stdout",
     "output_type": "stream",
     "text": [
      "1250 489\n"
     ]
    }
   ],
   "source": [
    "print(len(biocyc2bigg), sum(1 for v in biocyc2bigg.values() if v))"
   ]
  },
  {
   "cell_type": "code",
   "execution_count": 10,
   "metadata": {},
   "outputs": [
    {
     "name": "stdout",
     "output_type": "stream",
     "text": [
      "ALPHA_GLUCOSE_c ['glc__aD', 'Glc_aD']\n",
      "AMMONIA_c ['nh4', 'nh3']\n",
      "CPD_170_c ['stchs', 'stys']\n",
      "LIPOIC_ACID_c ['lipt', 'lipoate']\n"
     ]
    }
   ],
   "source": [
    "for m in model.metabolites:\n",
    "    biocyc_id = get_biocyc_id(m)\n",
    "    if biocyc_id:\n",
    "        a = biocyc2bigg.get(biocyc_id, None)\n",
    "        if a:\n",
    "            m.annotation['bigg.metabolite'] = a\n",
    "            if len(a) > 1:\n",
    "                print(m.id, a)"
   ]
  },
  {
   "cell_type": "code",
   "execution_count": 11,
   "metadata": {},
   "outputs": [],
   "source": [
    "# # resolve ambiguous mappings so that they refer to the same metabolite in iCEL1314 (must have one of the BiGG IDs and same KEGG ID)\n",
    "# model.metabolites.get_by_id('2_KETO_GLUTARAMATE_c').annotation['iCEL1314'] = 'akgm_c' # not in BiGG\n",
    "# model.metabolites.OLEOYL_COA_c.annotation['bigg.metabolite'] = 'odecoa' # C00510"
   ]
  },
  {
   "cell_type": "code",
   "execution_count": 12,
   "metadata": {},
   "outputs": [],
   "source": [
    "for m in model.metabolites:\n",
    "    biocyc_id = get_biocyc_id(m)\n",
    "    if biocyc_id:\n",
    "        try:\n",
    "            pf = PFrame(biocyc_id, metacyc, getFrameData=True)\n",
    "            if pf.synonyms is None:\n",
    "                m.annotation['metacyc.synonyms'] = []\n",
    "            else:\n",
    "                m.annotation['metacyc.synonyms'] = pf.synonyms\n",
    "        except:\n",
    "            try:\n",
    "                m.annotation['metacyc.synonyms'] = sendQueryToPTools(\n",
    "                    f'(get-slot-values (nth 0 (with-organism (:org-id \\'meta) (get-frame-labeled \"{biocyc_id}\"))) \\'synonyms)')\n",
    "            except:\n",
    "                m.annotation['metacyc.synonyms'] = []\n",
    "    else:\n",
    "        m.annotation['metacyc.synonyms'] = []"
   ]
  },
  {
   "cell_type": "code",
   "execution_count": 13,
   "metadata": {},
   "outputs": [
    {
     "name": "stdout",
     "output_type": "stream",
     "text": [
      "BIOMASS-EQUATION An internal error occurred in the running Pathway Tools application: :error Object \"BIOMASS-EQUATION\" is not coercible to a frame for KB LRTBASE\n",
      "RXN-13451[CCO An internal error occurred in the running Pathway Tools application: :error Object \"RXN-13451[CCO\" is not coercible to a frame for KB LRTBASE\n",
      "RXN66-1[CCO An internal error occurred in the running Pathway Tools application: :error Object \"RXN66-1[CCO\" is not coercible to a frame for KB LRTBASE\n",
      "RXN-13451[CCO An internal error occurred in the running Pathway Tools application: :error Object \"RXN-13451[CCO\" is not coercible to a frame for KB LRTBASE\n",
      "RXN-13451[CCO An internal error occurred in the running Pathway Tools application: :error Object \"RXN-13451[CCO\" is not coercible to a frame for KB LRTBASE\n",
      "RXN-13451[CCO An internal error occurred in the running Pathway Tools application: :error Object \"RXN-13451[CCO\" is not coercible to a frame for KB LRTBASE\n",
      "RXN-13451[CCO An internal error occurred in the running Pathway Tools application: :error Object \"RXN-13451[CCO\" is not coercible to a frame for KB LRTBASE\n",
      "RXN-13451[CCO An internal error occurred in the running Pathway Tools application: :error Object \"RXN-13451[CCO\" is not coercible to a frame for KB LRTBASE\n",
      "RXN-13037[CCO An internal error occurred in the running Pathway Tools application: :error Object \"RXN-13037[CCO\" is not coercible to a frame for KB LRTBASE\n",
      "RXN-13451[CCO An internal error occurred in the running Pathway Tools application: :error Object \"RXN-13451[CCO\" is not coercible to a frame for KB LRTBASE\n",
      "RXN-13037[CCO An internal error occurred in the running Pathway Tools application: :error Object \"RXN-13037[CCO\" is not coercible to a frame for KB LRTBASE\n",
      "RXN-13451[CCO An internal error occurred in the running Pathway Tools application: :error Object \"RXN-13451[CCO\" is not coercible to a frame for KB LRTBASE\n",
      "RXN-13451[CCO An internal error occurred in the running Pathway Tools application: :error Object \"RXN-13451[CCO\" is not coercible to a frame for KB LRTBASE\n",
      "RXN-13451[CCO An internal error occurred in the running Pathway Tools application: :error Object \"RXN-13451[CCO\" is not coercible to a frame for KB LRTBASE\n",
      "RXN-13451[CCO An internal error occurred in the running Pathway Tools application: :error Object \"RXN-13451[CCO\" is not coercible to a frame for KB LRTBASE\n",
      "RXN-13451[CCO An internal error occurred in the running Pathway Tools application: :error Object \"RXN-13451[CCO\" is not coercible to a frame for KB LRTBASE\n",
      "RXN-13451[CCO An internal error occurred in the running Pathway Tools application: :error Object \"RXN-13451[CCO\" is not coercible to a frame for KB LRTBASE\n",
      "RXN-13451[CCO An internal error occurred in the running Pathway Tools application: :error Object \"RXN-13451[CCO\" is not coercible to a frame for KB LRTBASE\n"
     ]
    }
   ],
   "source": [
    "# add BioCyc pathways to reaction annotation\n",
    "for r in model.reactions:\n",
    "    if not r.boundary:\n",
    "        try:\n",
    "            if '/' in r.name:\n",
    "                idx = r.name.find('RXN')\n",
    "                if idx == 0:\n",
    "                    idx = r.name.find('-', r.name.find('-') + 1) # find second dash\n",
    "                    biocyc_id = r.name[:idx]\n",
    "                else:\n",
    "                    biocyc_id = r.name[:idx + 3]\n",
    "            else:\n",
    "                biocyc_id = r.name\n",
    "            ps = [p[1:-1] for p in pgdb.get_slot_values(biocyc_id, 'IN-PATHWAY')]\n",
    "            if ps:\n",
    "                r.annotation['biocyc.pathway'] = ps\n",
    "                ps = [pgdb.get_slot_value(p, 'COMMON-NAME') for p in ps]\n",
    "                r.annotation['biocyc.pathway-name'] = [(p if p else 'n/a') for p in ps] # replace None where no common name was defined\n",
    "        except PToolsError as e:\n",
    "            print(biocyc_id, e)"
   ]
  },
  {
   "cell_type": "code",
   "execution_count": 14,
   "metadata": {},
   "outputs": [],
   "source": [
    "cobra.io.write_sbml_model(model, os.path.join(species, \"MetaFlux/SBML_export_augmented.sbml\"))"
   ]
  }
 ],
 "metadata": {
  "kernelspec": {
   "display_name": "cnapy2git",
   "language": "python",
   "name": "python3"
  },
  "language_info": {
   "codemirror_mode": {
    "name": "ipython",
    "version": 3
   },
   "file_extension": ".py",
   "mimetype": "text/x-python",
   "name": "python",
   "nbconvert_exporter": "python",
   "pygments_lexer": "ipython3",
   "version": "3.7.10"
  }
 },
 "nbformat": 4,
 "nbformat_minor": 2
}
