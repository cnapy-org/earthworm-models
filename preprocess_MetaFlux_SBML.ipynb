{
 "cells": [
  {
   "cell_type": "markdown",
   "metadata": {},
   "source": [
    "Integrate MetaNetX and BioCyc annotations into the MetaFlux SBML export."
   ]
  },
  {
   "cell_type": "code",
   "execution_count": 15,
   "metadata": {},
   "outputs": [],
   "source": [
    "species = 'lumbricus_rubellus' # either 'lumbricus_rubellus' or 'lumbricus_terrestris'"
   ]
  },
  {
   "cell_type": "code",
   "execution_count": 16,
   "metadata": {},
   "outputs": [
    {
     "data": {
      "text/plain": [
       "['|GCF_004798725|', '|LRU|', '|LRT|', '|META|', '|ECOLI|']"
      ]
     },
     "execution_count": 16,
     "metadata": {},
     "output_type": "execute_result"
    }
   ],
   "source": [
    "# use -python-local-only-non-strict when calling PathwayTools\n",
    "import pythoncyc\n",
    "from pythoncyc.PToolsFrame import PFrame\n",
    "from pythoncyc.PTools import sendQueryToPTools, PToolsError\n",
    "import json\n",
    "pythoncyc.all_orgids()"
   ]
  },
  {
   "cell_type": "code",
   "execution_count": 17,
   "metadata": {},
   "outputs": [],
   "source": [
    "import cobra\n",
    "import os\n",
    "cobra.Configuration.solver = 'glpk'\n",
    "\n",
    "def get_biocyc_id(met: cobra.Metabolite):\n",
    "    biocyc_id = met.annotation.get('biocyc')\n",
    "    if biocyc_id:\n",
    "        biocyc_id = biocyc_id[biocyc_id.index(':')+1:]\n",
    "    return biocyc_id"
   ]
  },
  {
   "cell_type": "code",
   "execution_count": 18,
   "metadata": {},
   "outputs": [],
   "source": [
    "with open(\"metanetx_annotations.json\") as fp:\n",
    "    metanetx_annotations = json.load(fp)"
   ]
  },
  {
   "cell_type": "code",
   "execution_count": 19,
   "metadata": {},
   "outputs": [],
   "source": [
    "if species == 'lumbricus_terrestris':\n",
    "    pgdb = pythoncyc.select_organism('lrt')\n",
    "else:\n",
    "    pgdb = pythoncyc.select_organism('lru')\n",
    "metacyc = pythoncyc.select_organism('meta')"
   ]
  },
  {
   "cell_type": "code",
   "execution_count": 20,
   "metadata": {},
   "outputs": [],
   "source": [
    "model = cobra.io.read_sbml_model(os.path.join(species, \"MetaFlux/SBML_export.xml\"))"
   ]
  },
  {
   "cell_type": "code",
   "execution_count": 21,
   "metadata": {},
   "outputs": [],
   "source": [
    "import pandas as pd\n",
    "bigg_metabolites = pd.read_csv(\"/scratch/vonkamp/gwdg_owncloud/cnapy-projects/a_woodii/Models_Acetogens/functions/bigg_models_metabolites.txt\", sep='\\t')"
   ]
  },
  {
   "cell_type": "code",
   "execution_count": 22,
   "metadata": {},
   "outputs": [
    {
     "name": "stdout",
     "output_type": "stream",
     "text": [
      "Cannot resolve 5-PHOSPHONOOXY-L-LYSINE\n",
      "CPD-170 ['stchs', 'stys']\n",
      "Cannot resolve ARACHIDONYL-COA\n",
      "Cannot resolve CPD66-28\n",
      "Cannot resolve CPD-8609\n",
      "Cannot resolve CPD-12173\n",
      "Cannot resolve CPD-14276\n",
      "Cannot resolve CPD-13534\n",
      "Cannot resolve CPD-8343\n",
      "LIPOIC-ACID ['lipoate', 'lipt']\n",
      "Cannot resolve CPD-12647\n",
      "Cannot resolve CPD-10505\n",
      "Cannot resolve PENTANOYLCOA-CPD\n",
      "Cannot resolve PENTANOYLCOA-CPD\n",
      "Cannot resolve CPD-9720\n",
      "Cannot resolve CPD-497\n",
      "Cannot resolve CPD-9871\n",
      "Cannot resolve CPD-17368\n",
      "Cannot resolve PHYTOSPINGOSINE\n",
      "Cannot resolve CPD-14283\n",
      "Cannot resolve CPD-14018\n",
      "glc appears obsolete\n",
      "Cannot resolve PHTYOSPHINGOSINE-1-P\n",
      "Cannot resolve CPD-14420\n",
      "Cannot resolve CPD-4581\n",
      "ALPHA-GLUCOSE ['Glc_aD', 'glc__aD']\n",
      "Cannot resolve CH3-MALONATE-S-ALD\n",
      "Cannot resolve CPD-547\n",
      "Cannot resolve MEVALONATE\n",
      "mev_R appears obsolete\n",
      "Cannot resolve CPD-9406\n",
      "Cannot resolve CPD-9873\n",
      "Cannot resolve CPD-19741\n",
      "Cannot resolve GLUTACONYL-COA\n",
      "Cannot resolve GLUTACONYL-COA\n",
      "Cannot resolve CPD-24318\n",
      "Cannot resolve OLEOYL-COA\n",
      "Cannot resolve OLEOYL-COA\n",
      "Cannot resolve OLEOYL-COA\n",
      "Cannot resolve OXALO-SUCCINATE\n",
      "AMMONIA ['nh4', 'nh3']\n",
      "Cannot resolve 4-METHYL-824-CHOLESTADIENOL\n",
      "Cannot resolve CPD-20685\n",
      "Cannot resolve 2-KETO-GLUTARAMATE\n",
      "Cannot resolve COPROPORPHYRIN_III\n",
      "Cannot resolve CPD-19743\n",
      "Cannot resolve CPD-19743\n",
      "Cannot resolve CPD-14053\n",
      "Cannot resolve CPD-14766\n",
      "Cannot resolve CPD-19740\n",
      "Cannot resolve ALPHA-GLUCOSE-16-BISPHOSPHATE\n",
      "Cannot resolve GLC\n",
      "Cannot resolve CPD-14278\n",
      "Cannot resolve 2-OXOSUCCINAMATE\n",
      "322 1256\n"
     ]
    }
   ],
   "source": [
    "# validate MetaNetX mapping and create BiGG mapping\n",
    "biocyc2bigg = dict()\n",
    "native = 0\n",
    "bigg_met = cobra.Metabolite(\"B\")\n",
    "for m,v in metanetx_annotations.items():\n",
    "    try:\n",
    "        biggID = [metacyc.get_slot_values(m, \"DBLINKS\").get(\"|BIGG|\")[0]]\n",
    "    except:\n",
    "        biggID = None\n",
    "    if biggID:\n",
    "        biocyc2bigg[m] = biggID\n",
    "        native += 1\n",
    "        continue\n",
    "    biggID = {a[43:].replace('M_', '').replace('-', '__') for a in v if a.startswith('http://bigg.ucsd.edu/universal/metabolites/')}\n",
    "    valid = []\n",
    "    for a in biggID:\n",
    "        result = bigg_metabolites[bigg_metabolites.universal_bigg_id == a][\"database_links\"]\n",
    "        if len(result) == 0:\n",
    "            print(a, \"appears obsolete\")\n",
    "        else:\n",
    "            try:\n",
    "                result = [s.split(\"META:\")[1] for s in result.iloc[0].split(';') if \"META:\" in s]\n",
    "                if m in result:\n",
    "                    valid.append(a)\n",
    "            except:\n",
    "                print(\"Cannot resolve\", m)\n",
    "    biocyc2bigg[m] = valid\n",
    "    if len(valid) > 1:\n",
    "        print(m, valid)\n",
    "print(native, len(biocyc2bigg))\n"
   ]
  },
  {
   "cell_type": "code",
   "execution_count": 23,
   "metadata": {},
   "outputs": [
    {
     "name": "stdout",
     "output_type": "stream",
     "text": [
      "1256 495\n"
     ]
    }
   ],
   "source": [
    "print(len(biocyc2bigg), sum(1 for v in biocyc2bigg.values() if v))"
   ]
  },
  {
   "cell_type": "code",
   "execution_count": 24,
   "metadata": {},
   "outputs": [
    {
     "name": "stdout",
     "output_type": "stream",
     "text": [
      "ALPHA_GLUCOSE_c ['Glc_aD', 'glc__aD']\n",
      "AMMONIA_c ['nh4', 'nh3']\n",
      "CPD_170_c ['stchs', 'stys']\n",
      "LIPOIC_ACID_c ['lipoate', 'lipt']\n"
     ]
    }
   ],
   "source": [
    "for m in model.metabolites:\n",
    "    biocyc_id = get_biocyc_id(m)\n",
    "    if biocyc_id:\n",
    "        a = biocyc2bigg.get(biocyc_id, None)\n",
    "        if a:\n",
    "            m.annotation['bigg.metabolite'] = a\n",
    "            if len(a) > 1:\n",
    "                print(m.id, a)"
   ]
  },
  {
   "cell_type": "code",
   "execution_count": 26,
   "metadata": {},
   "outputs": [],
   "source": [
    "for m in model.metabolites:\n",
    "    biocyc_id = get_biocyc_id(m)\n",
    "    if biocyc_id:\n",
    "        try:\n",
    "            pf = PFrame(biocyc_id, metacyc, getFrameData=True)\n",
    "            if pf.synonyms is None:\n",
    "                m.annotation['metacyc.synonyms'] = []\n",
    "            else:\n",
    "                m.annotation['metacyc.synonyms'] = pf.synonyms\n",
    "        except:\n",
    "            try:\n",
    "                m.annotation['metacyc.synonyms'] = sendQueryToPTools(\n",
    "                    f'(get-slot-values (nth 0 (with-organism (:org-id \\'meta) (get-frame-labeled \"{biocyc_id}\"))) \\'synonyms)')\n",
    "            except:\n",
    "                m.annotation['metacyc.synonyms'] = []\n",
    "    else:\n",
    "        m.annotation['metacyc.synonyms'] = []"
   ]
  },
  {
   "cell_type": "code",
   "execution_count": 27,
   "metadata": {},
   "outputs": [
    {
     "name": "stdout",
     "output_type": "stream",
     "text": [
      "BIOMASS-EQUATION An internal error occurred in the running Pathway Tools application: :error Object \"BIOMASS-EQUATION\" is not coercible to a frame for KB LRUBASE\n",
      "RXN66-1[CCO An internal error occurred in the running Pathway Tools application: :error Object \"RXN66-1[CCO\" is not coercible to a frame for KB LRUBASE\n",
      "RXN-13451[CCO An internal error occurred in the running Pathway Tools application: :error Object \"RXN-13451[CCO\" is not coercible to a frame for KB LRUBASE\n",
      "RXN-13451[CCO An internal error occurred in the running Pathway Tools application: :error Object \"RXN-13451[CCO\" is not coercible to a frame for KB LRUBASE\n",
      "RXN-13451[CCO An internal error occurred in the running Pathway Tools application: :error Object \"RXN-13451[CCO\" is not coercible to a frame for KB LRUBASE\n",
      "RXN-13451[CCO An internal error occurred in the running Pathway Tools application: :error Object \"RXN-13451[CCO\" is not coercible to a frame for KB LRUBASE\n",
      "RXN-13451[CCO An internal error occurred in the running Pathway Tools application: :error Object \"RXN-13451[CCO\" is not coercible to a frame for KB LRUBASE\n",
      "RXN-13037[CCO An internal error occurred in the running Pathway Tools application: :error Object \"RXN-13037[CCO\" is not coercible to a frame for KB LRUBASE\n",
      "RXN-13037[CCO An internal error occurred in the running Pathway Tools application: :error Object \"RXN-13037[CCO\" is not coercible to a frame for KB LRUBASE\n",
      "RXN-13451[CCO An internal error occurred in the running Pathway Tools application: :error Object \"RXN-13451[CCO\" is not coercible to a frame for KB LRUBASE\n",
      "RXN-13451[CCO An internal error occurred in the running Pathway Tools application: :error Object \"RXN-13451[CCO\" is not coercible to a frame for KB LRUBASE\n",
      "RXN-13451[CCO An internal error occurred in the running Pathway Tools application: :error Object \"RXN-13451[CCO\" is not coercible to a frame for KB LRUBASE\n",
      "RXN-13451[CCO An internal error occurred in the running Pathway Tools application: :error Object \"RXN-13451[CCO\" is not coercible to a frame for KB LRUBASE\n",
      "RXN-13451[CCO An internal error occurred in the running Pathway Tools application: :error Object \"RXN-13451[CCO\" is not coercible to a frame for KB LRUBASE\n",
      "RXN-13451[CCO An internal error occurred in the running Pathway Tools application: :error Object \"RXN-13451[CCO\" is not coercible to a frame for KB LRUBASE\n",
      "RXN-13451[CCO An internal error occurred in the running Pathway Tools application: :error Object \"RXN-13451[CCO\" is not coercible to a frame for KB LRUBASE\n",
      "RXN-13451[CCO An internal error occurred in the running Pathway Tools application: :error Object \"RXN-13451[CCO\" is not coercible to a frame for KB LRUBASE\n",
      "RXN-13451[CCO An internal error occurred in the running Pathway Tools application: :error Object \"RXN-13451[CCO\" is not coercible to a frame for KB LRUBASE\n"
     ]
    }
   ],
   "source": [
    "# add BioCyc pathways to reaction annotation\n",
    "for r in model.reactions:\n",
    "    if not r.boundary:\n",
    "        try:\n",
    "            if '/' in r.name:\n",
    "                idx = r.name.find('RXN')\n",
    "                if idx == 0:\n",
    "                    idx = r.name.find('-', r.name.find('-') + 1) # find second dash\n",
    "                    biocyc_id = r.name[:idx]\n",
    "                else:\n",
    "                    biocyc_id = r.name[:idx + 3]\n",
    "            else:\n",
    "                biocyc_id = r.name\n",
    "            ps = [p[1:-1] for p in pgdb.get_slot_values(biocyc_id, 'IN-PATHWAY')]\n",
    "            if ps:\n",
    "                r.annotation['biocyc.pathway'] = ps\n",
    "                ps = [pgdb.get_slot_value(p, 'COMMON-NAME') for p in ps]\n",
    "                r.annotation['biocyc.pathway-name'] = [(p if p else 'n/a') for p in ps] # replace None where no common name was defined\n",
    "        except PToolsError as e:\n",
    "            print(biocyc_id, e)"
   ]
  },
  {
   "cell_type": "code",
   "execution_count": 28,
   "metadata": {},
   "outputs": [],
   "source": [
    "cobra.io.write_sbml_model(model, os.path.join(species, \"MetaFlux/SBML_export_augmented.sbml\"))"
   ]
  }
 ],
 "metadata": {
  "kernelspec": {
   "display_name": "cnapy2git",
   "language": "python",
   "name": "python3"
  },
  "language_info": {
   "codemirror_mode": {
    "name": "ipython",
    "version": 3
   },
   "file_extension": ".py",
   "mimetype": "text/x-python",
   "name": "python",
   "nbconvert_exporter": "python",
   "pygments_lexer": "ipython3",
   "version": "3.7.10"
  }
 },
 "nbformat": 4,
 "nbformat_minor": 2
}
