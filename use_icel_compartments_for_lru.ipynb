{
 "cells": [
  {
   "cell_type": "code",
   "execution_count": 1,
   "metadata": {},
   "outputs": [],
   "source": [
    "import cobra\n",
    "import difflib\n",
    "from functools import reduce\n",
    "import os\n",
    "import warnings\n",
    "cobra.Configuration.solver = 'glpk'\n",
    "warnings.simplefilter(\"ignore\", category=UserWarning)\n",
    "\n",
    "def get_biocyc_id(met: cobra.Metabolite):\n",
    "    biocyc_id = met.annotation.get('biocyc')\n",
    "    if biocyc_id:\n",
    "        biocyc_id = biocyc_id[biocyc_id.index(':')+1:]\n",
    "    return biocyc_id\n",
    "\n",
    "def replace_metabolite(reac: cobra.Reaction, old: cobra.Metabolite, new: cobra.Metabolite):\n",
    "    coeff = reac.metabolites[old]\n",
    "    reac.add_metabolites({old: -coeff, new: coeff})\n",
    "\n",
    "def move_metabolite_compartments(model, source, target):\n",
    "    obsolete_mets = []\n",
    "    for m in model.metabolites:\n",
    "        if m.id.endswith('_' + source):\n",
    "            new = m.id[:-len(source)] + target\n",
    "            print(m.id, '->', new)\n",
    "            if new not in model.metabolites:\n",
    "                m.id = new\n",
    "                m.compartment = target\n",
    "            else:\n",
    "                for r in m.reactions:\n",
    "                    replace_metabolite(r, m, new)\n",
    "                obsolete_mets.append(m)\n",
    "    model.remove_metabolites(obsolete_mets)\n",
    "\n",
    "def metabolite_id_for_compartment(met: cobra.Metabolite, compartment: str) -> str:\n",
    "    if met.id.endswith('_'+met.compartment): # this is the regular case\n",
    "        return(met.id[:-len(m.compartment)] + compartment)\n",
    "    else:\n",
    "        idx = met.id.rfind('_')\n",
    "        if idx < 0:\n",
    "            raise ValueError\n",
    "        else:\n",
    "            return(met.id[:idx+1] + compartment)"
   ]
  },
  {
   "cell_type": "code",
   "execution_count": 2,
   "metadata": {},
   "outputs": [],
   "source": [
    "species = 'lumbricus_terrestris'"
   ]
  },
  {
   "cell_type": "code",
   "execution_count": 3,
   "metadata": {},
   "outputs": [],
   "source": [
    "icel = cobra.io.read_sbml_model(\"wormflux_iCEL1314/iCEL1314.xml.gz\")"
   ]
  },
  {
   "cell_type": "code",
   "execution_count": 4,
   "metadata": {},
   "outputs": [],
   "source": [
    "lru = cobra.io.read_sbml_model(os.path.join(species, \"MetaFlux/LRU.sbml.gz\"))"
   ]
  },
  {
   "cell_type": "code",
   "execution_count": 5,
   "metadata": {},
   "outputs": [
    {
     "name": "stdout",
     "output_type": "stream",
     "text": [
      "8.241250050548985\n"
     ]
    },
    {
     "data": {
      "text/plain": [
       "0.9653119288522743"
      ]
     },
     "execution_count": 5,
     "metadata": {},
     "output_type": "execute_result"
    }
   ],
   "source": [
    "model = cobra.io.read_sbml_model(\"lumbricus_rubellus/MetaFlux/SBML_export.xml\")\n",
    "print(model.slim_optimize())\n",
    "# prevent free ATP generation (check via ATPASE_RXN)\n",
    "model.reactions.RXN_10862.lower_bound = 0\n",
    "model.reactions.RXN_14218.lower_bound = 0\n",
    "model.slim_optimize()"
   ]
  },
  {
   "cell_type": "markdown",
   "metadata": {},
   "source": [
    "Validate the BiGG mapping (for uniqe IDs only) between LRU and iCEL1314 so far."
   ]
  },
  {
   "cell_type": "code",
   "execution_count": 333,
   "metadata": {},
   "outputs": [],
   "source": [
    "from collections import defaultdict\n",
    "def annotation_map(items: cobra.DictList, key: str) -> defaultdict:\n",
    "    anno_map = defaultdict(list)\n",
    "    for it in items:\n",
    "        a = it.annotation.get(key)\n",
    "        if a and isinstance(a, str):\n",
    "            anno_map[a].append(it.id)\n",
    "        # else:\n",
    "        #     print(it.id, a)\n",
    "    return anno_map"
   ]
  },
  {
   "cell_type": "code",
   "execution_count": 334,
   "metadata": {},
   "outputs": [],
   "source": [
    "# update some annotations\n",
    "icel.metabolites.get_by_id('g6p-A_c').annotation['bigg.metabolite'] = 'g6p_A'\n",
    "icel.metabolites.get_by_id('g6p-B_c').annotation['bigg.metabolite'] = 'g6p_B'"
   ]
  },
  {
   "cell_type": "code",
   "execution_count": 335,
   "metadata": {},
   "outputs": [],
   "source": [
    "icel_bigg_compounds = annotation_map(icel.metabolites, 'bigg.metabolite')"
   ]
  },
  {
   "cell_type": "code",
   "execution_count": 336,
   "metadata": {},
   "outputs": [],
   "source": [
    "# add ETF (basically an equivalent of FAD) annotations\n",
    "# in the LRU model FAD is only a metabolite in its synthesis pathway while ETF are the electron carriers\n",
    "lru.metabolites.ETF_Reduced_c.annotation['bigg.metabolite'] = 'etfrd'\n",
    "#lru.metabolites.get_by_id('ETF_Reduced_CCO-IN').annotation['bigg.metabolite'] = 'etfrd'\n",
    "lru.metabolites.get_by_id('ETF_Reduced_c').annotation['bigg.metabolite'] = 'etfrd'\n",
    "lru.metabolites.ETF_Oxidized_c.annotation['bigg.metabolite'] = 'etfox'\n",
    "#lru.metabolites.get_by_id('ETF_Oxidized_CCO-IN').annotation['bigg.metabolite'] = 'etfox'\n",
    "lru.metabolites.get_by_id('ETF_Oxidized_c').annotation['bigg.metabolite'] = 'etfox'"
   ]
  },
  {
   "cell_type": "code",
   "execution_count": 337,
   "metadata": {},
   "outputs": [],
   "source": [
    "metabolite_compartments = defaultdict(set)\n",
    "lru2icel = defaultdict(set) # maping form BioCyc ID to iCEL1314 metabolites\n",
    "#icel2lru = dict() # mapping from LRU metabolite to iCEL1314 metabolite"
   ]
  },
  {
   "cell_type": "code",
   "execution_count": 338,
   "metadata": {},
   "outputs": [
    {
     "name": "stdout",
     "output_type": "stream",
     "text": [
      "3_HYDROXY_ANTHRANILATE_c 3hanthrn 3hanthrn_c -1\n",
      "3_HYDROXY_ANTHRANILATE_c 3hanthrn 3hanthrn_e -1\n",
      "3_SULFINOALANINE_c 3sala 3sala_m 1\n",
      "3_SULFINOALANINE_c 3sala 3sala_c 1\n",
      "5_PHOSPHORIBOSYL_5_AMINOIMIDAZOLE_c air air_c 1\n",
      "ALA_tRNAs_c trnaala trnaala_c\n",
      "ALA_tRNAs_c trnaala trnaala_m\n",
      "ASP_tRNAs_c trnaasp trnaasp_c\n",
      "ASP_tRNAs_c trnaasp trnaasp_m\n",
      "CO3_c hco3 hco3_e\n",
      "CO3_c hco3 hco3_c\n",
      "CO3_c hco3 hco3_m\n",
      "CPD_13612_c sphgn sphgn_ce_c C18H40NO2 C19H42NO2\n",
      "CPD_13612_c sphgn sphgn_ce_e C18H40NO2 C19H42NO2\n",
      "CPD_16459_c pi pi_e 1\n",
      "CPD_16459_c pi pi_c 1\n",
      "CPD_16459_c pi pi_m 1\n",
      "CPD_649_c sph1p sph1p_ce_c C18H39NO5P C19H41NO5P\n",
      "CPD_649_c sph1p sph1p_ce_e C18H39NO5P C19H41NO5P\n",
      "CPD_678_c seln seln_c 1\n",
      "CPD_846_c h2s h2s_m -1\n",
      "CPD_846_c h2s h2s_c -1\n",
      "DEHYDROSPHINGANINE_c 3dsphgn 3dsphgn_ce_c C18H38NO2 C19H40NO2\n",
      "ETF_Oxidized_c etfox etfox_m\n",
      "ETF_Reduced_c etfrd etfrd_m C13H13N4O2Wm RH2\n",
      "FAD_c fad fad_e -1\n",
      "FAD_c fad fad_c -1\n",
      "FAD_c fad fad_m -1\n",
      "FMN_c fmn fmn_e -1\n",
      "FMN_c fmn fmn_c -1\n",
      "FMN_c fmn fmn_m -1\n",
      "H2CO3_c hco3 hco3_e 1\n",
      "H2CO3_c hco3 hco3_c 1\n",
      "H2CO3_c hco3 hco3_m 1\n",
      "HSO3_c so3 so3_m 1\n",
      "HSO3_c so3 so3_e 1\n",
      "HSO3_c so3 so3_c 1\n",
      "N_FORMIMINO_L_GLUTAMATE_c forglu forglu_c 1\n",
      "N_FORMIMINO_L_GLUTAMATE_c forglu forglu_e 1\n",
      "RIBOFLAVIN_c ribflv ribflv_e -1\n",
      "RIBOFLAVIN_c ribflv ribflv_c -1\n",
      "RIBOFLAVIN_c ribflv ribflv_m -1\n",
      "S2O3_c tsul tsul_c 1\n",
      "S2O3_c tsul tsul_m 1\n",
      "S2O3_c tsul tsul_e 1\n",
      "TRP_tRNAs_c trnatrp trnatrp_c\n",
      "TRP_tRNAs_c trnatrp trnatrp_m\n",
      "TYR_tRNAs_c trnatyr trnatyr_m\n",
      "TYR_tRNAs_c trnatyr trnatyr_c\n"
     ]
    }
   ],
   "source": [
    "for m in lru.metabolites:\n",
    "    biocyc_id = m.annotation.get('biocyc')\n",
    "    if biocyc_id:\n",
    "        biocyc_id = biocyc_id[biocyc_id.index(':')+1:]\n",
    "    else:\n",
    "        continue\n",
    "    bigg_id = m.annotation.get('bigg.metabolite', None)\n",
    "    if bigg_id and isinstance(bigg_id, str):\n",
    "        bigg_id = bigg_id.replace('__', '-') # BioCyc uses e.g. glc__D, iCEL1314 glc-D\n",
    "        for icel_met in icel.metabolites.get_by_any(icel_bigg_compounds.get(bigg_id, [])):\n",
    "            if m.charge != icel_met.charge:\n",
    "                d = m.charge - icel_met.charge\n",
    "                el = defaultdict(int)\n",
    "                el.update(icel_met.elements)\n",
    "                el['H'] += d\n",
    "                if el == m.elements: # protonation difference only\n",
    "                    print(m.id, bigg_id, icel_met.id, d)\n",
    "                else:\n",
    "                    print(m.id, bigg_id, icel_met.id)\n",
    "            elif m.elements != icel_met.elements:\n",
    "                print(m.id, bigg_id, icel_met.id, m.formula, icel_met.formula)\n",
    "            metabolite_compartments[biocyc_id].add(icel_met.compartment)\n",
    "            lru2icel[biocyc_id].add(icel_met)"
   ]
  },
  {
   "cell_type": "code",
   "execution_count": 339,
   "metadata": {},
   "outputs": [
    {
     "data": {
      "text/plain": [
       "{<Metabolite glc-D-A_c at 0x7fb861ed1b10>,\n",
       " <Metabolite glc-D-B_c at 0x7fb86122d590>,\n",
       " <Metabolite glc-D_c at 0x7fb861a70a50>,\n",
       " <Metabolite glc-D_e at 0x7fb86121bad0>}"
      ]
     },
     "execution_count": 339,
     "metadata": {},
     "output_type": "execute_result"
    }
   ],
   "source": [
    "lru2icel['Glucopyranose']"
   ]
  },
  {
   "cell_type": "code",
   "execution_count": 340,
   "metadata": {},
   "outputs": [],
   "source": [
    "lru2icel['Glucopyranose'] = set(icel.metabolites.get_by_any(['glc-D_e', 'glc-D_e'])) # do not map to the alpha/beta instances"
   ]
  },
  {
   "cell_type": "markdown",
   "metadata": {},
   "source": [
    "Next step: use KEGG mappings to find additional relations between LRU and iCEL1314"
   ]
  },
  {
   "cell_type": "code",
   "execution_count": 341,
   "metadata": {},
   "outputs": [],
   "source": [
    "icel_kegg_compounds = annotation_map(icel.metabolites, 'kegg.compound')"
   ]
  },
  {
   "cell_type": "code",
   "execution_count": 342,
   "metadata": {},
   "outputs": [
    {
     "name": "stdout",
     "output_type": "stream",
     "text": [
      "LRT:1-PHOSPHATIDYL-1D-MYO-INOSITOL-34-BISPH C11554 pail34p_c C11H14O19RRP3 C46.1308H77.1556O19.0P3.0\n",
      "LRT:1-PHOSPHATIDYL-1D-MYO-INOSITOL-35-BISPH C11556 pail35p_c C11H14O19RRP3 C46.1308H77.1556O19.0P3.0\n",
      "LRT:1-PHOSPHATIDYL-1D-MYO-INOSITOL-5-PHOSPHA C11557 pail5p_c C11H15O16RRP2 C46.1308H78.1556O16.0P2.0\n",
      "3_HYDROXY_ANTHRANILATE_c C00632 3hanthrn_c -1\n",
      "3_HYDROXY_ANTHRANILATE_c C00632 3hanthrn_e -1\n",
      "3_SULFINOALANINE_c C00606 3sala_m 1\n",
      "3_SULFINOALANINE_c C00606 3sala_c 1\n",
      "5_PHOSPHORIBOSYL_5_AMINOIMIDAZOLE_c C03373 air_c 1\n",
      "LRT:ACYL-COA C00040 Rtotalcoa_c C22H31N7O17RP3S C39.5654H62.5778N7.0O17.0P3.0S1.0\n",
      "ALA_tRNAs_c C01635 trnaala_c\n",
      "ALA_tRNAs_c C01635 trnaala_m\n",
      "AMMONIA_c C00014 nh4_e -1\n",
      "AMMONIA_c C00014 nh4_c -1\n",
      "AMMONIA_c C00014 nh4_m -1\n",
      "ASP_tRNAs_c C01638 trnaasp_c\n",
      "ASP_tRNAs_c C01638 trnaasp_m\n",
      "LRT:CARDIOLIPIN C05980 clpn_c C13H16O17RRRRP2 C83.2616H142.3112O17.0P2.0\n",
      "LRT:CDPDIACYLGLYCEROL C00269 cdpdag_c C14H17N3O15RRP2 C49.1308H80.1556N3.0O15.0P2.0\n",
      "LRT:CDPDIACYLGLYCEROL C00269 cdpdag_m C14H17N3O15RRP2 C49.1308H80.1556N3.0O15.0P2.0\n",
      "LRT:CPD-1108 C01277 pail4p_c C11H15O16RRP2 C46.1308H78.1556O16.0P2.0\n",
      "LRT:CPD-177 C04549 pail3p_c C11H15O16RRP2 C46.1308H78.1556O16.0P2.0\n",
      "CPD_4_c C05924 molybd_c 1\n",
      "LRT:CPD-452 C01288 acgpail_c C19H29NO18RRP C54.1308H92.1556N1.0O18.0P1.0\n",
      "CPD_678_c C01528 seln_c 1\n",
      "LRT:DIACYLGLYCEROL C00641 dag_pl_c C5H6O5RR C40.1308H69.1556O5.0\n",
      "LRT:DOLICHOL C00381 dolichol_c C29H50OR C110H180O\n",
      "FAD_c C00016 fad_e -1\n",
      "FAD_c C00016 fad_c -1\n",
      "FAD_c C00016 fad_m -1\n",
      "FMN_c C00061 fmn_e -1\n",
      "FMN_c C00061 fmn_c -1\n",
      "FMN_c C00061 fmn_m -1\n",
      "LRT:Histone-L-lysine C02415 Nlys_c C6H13N2OWa2 XC6H13N2O\n",
      "LRT:Histone-L-lysine C02415 Nlys_e C6H13N2OWa2 XC6H13N2O\n",
      "LRT:L-1-PHOSPHATIDYL-ETHANOLAMINE C00350 pe_e C7H12NO8RRP C42.1308H75.1556N1.0O8.0P1.0\n",
      "LRT:L-1-PHOSPHATIDYL-ETHANOLAMINE C00350 pe_m C7H12NO8RRP C42.1308H75.1556N1.0O8.0P1.0\n",
      "LRT:L-1-PHOSPHATIDYL-ETHANOLAMINE C00350 pe_c C7H12NO8RRP C42.1308H75.1556N1.0O8.0P1.0\n",
      "LRT:L-1-PHOSPHATIDYL-GLYCEROL C00344 pglyc_e C8H12O10RRP C43.1308H75.1556O10.0P1.0\n",
      "LRT:L-1-PHOSPHATIDYL-GLYCEROL C00344 pglyc_c C8H12O10RRP C43.1308H75.1556O10.0P1.0\n",
      "LRT:L-1-PHOSPHATIDYL-GLYCEROL-P C03892 pgp_c C8H11O13RRP2 C43.1308H74.1556O13.0P2.0\n",
      "LRT:L-1-PHOSPHATIDYL-SERINE C02737 ps_e C8H11NO10RRP C43.1308H74.1556N1.0O10.0P1.0\n",
      "LRT:L-1-PHOSPHATIDYL-SERINE C02737 ps_m C8H11NO10RRP C43.1308H74.1556N1.0O10.0P1.0\n",
      "LRT:L-1-PHOSPHATIDYL-SERINE C02737 ps_c C8H11NO10RRP C43.1308H74.1556N1.0O10.0P1.0\n",
      "LRT:L-1-phosphatidyl-inositols C01194 pail_e C11H16O13RRP C46.1308H79.1556O13.0P1.0\n",
      "LRT:L-1-phosphatidyl-inositols C01194 pail_c C11H16O13RRP C46.1308H79.1556O13.0P1.0\n",
      "LRT:L-PHOSPHATIDATE C00416 pa_pl_c C5H5O8RRP C40.1308H68.1556O8.0P1.0\n",
      "LRT:Long-chain-alcohols C00339 alkylR1oh_c C13H27OR C18.0H38.0O1.0\n",
      "N_FORMIMINO_L_GLUTAMATE_c C00439 forglu_c 1\n",
      "N_FORMIMINO_L_GLUTAMATE_c C00439 forglu_e 1\n",
      "LRT:PHOSPHATIDYL-MYO-INOSITOL-45-BISPHOSPHA C04637 pail45p_c C11H14O19RRP3 C46.1308H77.1556O19.0P3.0\n",
      "LRT:PHOSPHATIDYLCHOLINE C00157 pchol_m C10H18NO8RRP C45.1308H81.1556N1.0O8.0P1.0\n",
      "LRT:PHOSPHATIDYLCHOLINE C00157 pchol_e C10H18NO8RRP C45.1308H81.1556N1.0O8.0P1.0\n",
      "LRT:PHOSPHATIDYLCHOLINE C00157 pchol_c C10H18NO8RRP C45.1308H81.1556N1.0O8.0P1.0\n",
      "LRT:PHOSPHATIDYLINOSITOL-345-TRIPHOSPHATE C05981 pail345p_c C11H13O22RRP4 C46.1308H76.1556O22.0P4.0\n",
      "LRT:Protein-L-lysine C02188 peplys_e C6H13N2OWp2 XC6H13N2O\n",
      "LRT:Protein-L-lysine C02188 peplys_c C6H13N2OWp2 XC6H13N2O\n",
      "RIBOFLAVIN_c C00255 ribflv_e -1\n",
      "RIBOFLAVIN_c C00255 ribflv_c -1\n",
      "RIBOFLAVIN_c C00255 ribflv_m -1\n",
      "LRT:Red-Thioredoxin C00342 trdrd_m C10H14N4O4RRS2Vu2 XH2\n",
      "LRT:Red-Thioredoxin C00342 trdrd_c C10H14N4O4RRS2Vu2 XH2\n",
      "S2O3_c C00320 tsul_c 1\n",
      "S2O3_c C00320 tsul_m 1\n",
      "S2O3_c C00320 tsul_e 1\n",
      "TRP_tRNAs_c C01652 trnatrp_c\n",
      "TRP_tRNAs_c C01652 trnatrp_m\n",
      "TYR_tRNAs_c C00787 trnatyr_m\n",
      "TYR_tRNAs_c C00787 trnatyr_c\n"
     ]
    }
   ],
   "source": [
    "for m in lru.metabolites:\n",
    "    biocyc_id = m.annotation.get('biocyc')\n",
    "    if biocyc_id:\n",
    "        biocyc_id = biocyc_id[biocyc_id.index(':')+1:]\n",
    "    else:\n",
    "        continue\n",
    "    kegg_id = m.annotation.get('kegg.compound', None)\n",
    "    if kegg_id and isinstance(kegg_id, str):\n",
    "        for icel_met in icel.metabolites.get_by_any(icel_kegg_compounds.get(kegg_id, [])):\n",
    "            if m.charge != icel_met.charge:\n",
    "                d = m.charge - icel_met.charge\n",
    "                el = defaultdict(int)\n",
    "                el.update(icel_met.elements)\n",
    "                el['H'] += d\n",
    "                if el == m.elements: # protonation difference only\n",
    "                    print(m.id, kegg_id, icel_met.id, d)\n",
    "                else:\n",
    "                    print(m.id, kegg_id, icel_met.id)\n",
    "            elif m.elements != icel_met.elements:\n",
    "                print(m.annotation.get('biocyc', m.id), kegg_id, icel_met.id, m.formula, icel_met.formula)\n",
    "            lru2icel[biocyc_id].add(icel_met)\n",
    "            metabolite_compartments[biocyc_id].add(icel_met.compartment)\n",
    "            lru2icel[biocyc_id].add(icel_met)"
   ]
  },
  {
   "cell_type": "code",
   "execution_count": 343,
   "metadata": {},
   "outputs": [
    {
     "data": {
      "text/plain": [
       "449"
      ]
     },
     "execution_count": 343,
     "metadata": {},
     "output_type": "execute_result"
    }
   ],
   "source": [
    "len(lru2icel)"
   ]
  },
  {
   "cell_type": "code",
   "execution_count": 344,
   "metadata": {},
   "outputs": [
    {
     "name": "stdout",
     "output_type": "stream",
     "text": [
      "{<Metabolite glc-D_e at 0x7fb86121bad0>, <Metabolite glc-D_c at 0x7fb861a70a50>}\n",
      "{<Metabolite glc-D-A_c at 0x7fb861ed1b10>}\n",
      "{<Metabolite glc-D-B_c at 0x7fb86122d590>}\n"
     ]
    },
    {
     "data": {
      "text/plain": [
       "{<Metabolite g6p-B_c at 0x7fb86138cc10>}"
      ]
     },
     "execution_count": 344,
     "metadata": {},
     "output_type": "execute_result"
    }
   ],
   "source": [
    "print(lru2icel['Glucopyranose'])\n",
    "print(lru2icel['ALPHA-GLUCOSE'])\n",
    "print(lru2icel['GLC'])\n",
    "lru2icel['GLC-6-P'] # should be beta-glucose"
   ]
  },
  {
   "cell_type": "code",
   "execution_count": 345,
   "metadata": {},
   "outputs": [
    {
     "name": "stdout",
     "output_type": "stream",
     "text": [
      "2-AMINO-MUCONATE (2Z,4E)-2-aminomuconate  |  2-Aminomuconate 0.74 ['(2Z,4E)-2-aminomuconate', '2-aminomuconic acid', '(2Z,4E)-2-aminohexa-2,4-dienedioate']\n",
      "ADENYLOSUCC <i>N<sup>6</sup></i>-(1,2-dicarboxyethyl)AMP  |  \"N6-(1,2-Dicarboxyethyl)-AMP\" 0.68 ['adenylosuccinate', '<i>N<sup>6</sup></i>-(1,2-dicarboxyethyl)AMP', 'adenylosuccinic acid']\n",
      "ALA-tRNAs a tRNAAla  |  tRNA(Ala) 0.78 ['a tRNAAla', 'TRNA(ALA)']\n",
      "ALPHA-D-GALACTOSE &alpha;-D-galactose  |  D-Galactose 0.67 ['alpha-D-galactopyranose', '6-(hydroxymethyl)tetrahydropyran-2,3,4,5-tetraol', '&alpha;-D-galactose', '&alpha;-D-Gal']\n",
      "ASP-tRNAs tRNAasp  |  tRNA(Asp) 0.75 ['tRNAasp', 'TRNA(ASP)']\n",
      "BETAINE_ALDEHYDE betaine aldehyde hydrate  |  Betaine aldehyde 0.75 ['betaine aldehyde hydrate', 'choline gem-diol', 'glycine betaine aldehyde hydrate']\n",
      "CPD-10267 decanoyl-CoA  |  Decanoyl-CoA (n-C10:0CoA) 0.59 ['decanoyl-CoA']\n",
      "CPD-15159 (6R)-L-erythro-6,7-dihydrobiopterin  |  \"6,7-Dihydrobiopterin\" 0.67 ['(6R)-L-erythro-6,7-dihydrobiopterin', '<i>erythro</i>-quinonoid dihydro-(6H)-biopterin', '<i>erythro</i>-quinoid dihydrobiopterin', '(6R)-<i>erythro</i>-6,7-dihydrobiopterin']\n",
      "CPD-15699 aldehydo-L-arabinose  |  L-Arabinose 0.65 ['aldehydo-L-arabinose']\n",
      "CPD-16459 dihydrogen phosphate  |  Phosphate 0.55 ['dihydrogen phosphate', 'H<sub>2</sub>PO<sub>4</sub><sup>-</sup>']\n",
      "CPD-18 linoleoyl-CoA  |  linoleic coenzyme A 0.56 ['linoleoyl-CoA', '<i>cis</i>,<i>cis</i>-octadeca-9,12-dienoyl-CoA', '(9Z,12Z)-octadeca-9,12-dienoyl-CoA', '18:2(n-6)']\n",
      "CPD-25028 &alpha;-D-xylose  |  D-Xylose 0.58 ['alpha-D-xylopyranose', '&alpha;-D-xylose']\n",
      "CPD-678 selane  |  Selenide 0.57 ['hydrogen selenide', 'dihydridoselenium', 'H<sub>2</sub>Se', 'selane', 'dihydrogen selenide', '[SeH<sub>2</sub>]']\n",
      "CPD-8259 nicotinate riboside  |  Nicotinate D-ribonucleoside 0.78 ['beta-D-ribosylnicotinate', 'nicotinic acid riboside', 'ribosylnicotinate', 'nicotinic acid ribose', 'nicotinate riboside']\n",
      "D-Glucopyranuronate D-glucopyranuronate  |  D-Glucuronate 0.75 ['D-glucopyranuronate', 'D-glucopyranuronic acid']\n",
      "D-Ribofuranose D-ribofuranose  |  D-Ribose 0.64 ['D-ribofuranose']\n",
      "D-mannopyranose D-mannopyranose  |  D-Mannose 0.67 ['D-mannopyranose', 'carubinose', 'seminose']\n",
      "ETF-Oxidized an oxidized electron-transfer flavoprotein  |  Electron transfer flavoprotein oxidized 0.69 ['an oxidized electron-transfer flavoprotein', 'an oxidized ETF', 'an oxidized electron-transferring flavoprotein']\n",
      "ETF-Reduced a reduced electron-transfer flavoprotein  |  Electron transfer flavoprotein reduced 0.72 ['a reduced electron-transfer flavoprotein', 'ETFH<sub>2</sub>', 'a reduced ETF', 'a reduced electron-transferring flavoprotein']\n",
      "GLYCERATE D-glycerate  |  (R)-Glycerate 0.75 ['D-glycerate', '(<i>R</i>)-glycerate', 'glycerate', 'D-glyceric acid']\n",
      "Glucopyranose D-glucopyranose  |  D-Glucose 0.67 ['D-glucopyranose', '6-(hydroxymethyl)tetrahydropyran-2,3,4,5-tetraol']\n",
      "H2CO3 carbonic acid  |  Bicarbonate 0.58 ['carbonic acid', 'H<SUB>2</SUB>CO<SUB>3</SUB>']\n",
      "HEXANOYL-COA hexanoyl-CoA  |  Hexanoyl-CoA (n-C6:0CoA) 0.61 ['hexanoyl-CoA', 'hexanoyl-coenzyme A']\n",
      "HSO3 bisulfite  |  Sulfite 0.75 ['hydrogensulfite', 'bisulfite', 'HSO<SUB>3</SUB><SUP>-</SUP>', 'HSO<SUB>3</SUB>']\n",
      "LINOLEIC_ACID linoleic acid  |  linoleic acid (all cis C18:2) n-6 0.57 ['linoleate', 'cis,cis-9,12-octadecadienoate', '9-cis,12-cis-octadecadienoate', 'linoleic acid', '9,12-linoleic acid', '(9Z,12Z)-octadeca-9,12-dienoate', 'cis,cis-9,12-octadecadienoic acid', '9-cis,12-cis-octadecadienoic acid', '(9Z,12Z)-octadeca-9,12-dienoic acid', '9,12-octadecadienoic acid (ambiguous)']\n",
      "NICOTINAMIDE_NUCLEOTIDE beta-nicotinamide D-ribonucleotide  |  NMN 0.0 ['beta-nicotinamide D-ribonucleotide', '&beta;-nicotinamide mononucleotide', '&beta;-nicotinamide ribonucleotide', '&beta;-nicotinamide nucleotide']\n",
      "OXYGEN-MOLECULE oxygen molecule  |  O2 0.0 ['dioxygen', 'oxygen molecule', 'molecular oxygen', 'oxygen']\n",
      "PROPIONATE propionate  |  Propionate (n-C3:0) 0.62 ['propanoate', 'propionic acid', 'ethylformic acid', 'methylacetic acid', 'propionate']\n",
      "STEARIC_ACID octadecanoate  |  octadecanoate (n-C18:0) 0.72 ['stearate', 'octadecanoate', 'stearic acid', 'octadecanoic acid', 'n-C18:0']\n",
      "STEAROYL-COA stearoyl-CoA  |  Stearoyl-CoA (n-C18:0CoA) 0.59 ['stearoyl-CoA', 'n-C18:0CoA', 'stearyl-CoA', 'stearyl coenzyme A', 'octadecanoyl-CoA']\n",
      "TETRADECANOYL-COA tetradecanoyl-CoA  |  Tetradecanoyl-CoA (n-C14:0CoA) 0.68 ['myristoyl-CoA', 'n-C14:0CoA', 'tetradecanoyl-CoA']\n",
      "UREA urea  |  Urea 0.75 ['urea', 'bromisovalum', 'carmol', 'basodexan', 'carbamide']\n",
      "2-KETO-GLUTARAMATE 2-keto-glutaramate  |  alpha-Ketoglutaramate 0.77 ['2-oxoglutaramate', '2-keto-glutaramate']\n",
      "ACYL-COA acyl-Coenzyme A  |  R total Coenzyme A 0.73 ['an acyl-CoA', 'fatty acyl thioester-CoA', 'RCH2CH2CO-CoA', 'acyl-Coenzyme A', 'acyl<sub>n+2</sub>-CoA', 'acyl<sub>n-2</sub>-CoA']\n",
      "AMMONIA ammonia  |  Ammonium 0.67 ['ammonia', 'NH<SUB>3</SUB>']\n",
      "ARACHIDONYL-COA arachidonyl-CoA  |  C20:4-CoA 0.33 ['arachidonoyl-CoA', 'arachidonyl-CoA', '(5Z,8Z,11Z,14Z)-icosatetraenoyl-CoA']\n",
      "CH3-MALONATE-S-ALD (<i>S</i>)-2-methyl-3-oxopropanoate  |  2-Methyl-3-oxopropanoate 0.78 ['(S)-methylmalonate-semialdehyde', '(<i>S</i>)-2-methyl-3-oxopropanoate', '(<i>S</i>)-ch3-malonate-semialdehyde']\n",
      "CHOCOLA_A retinol-palmitate  |  Retinyl palminate 0.76 ['all-trans-retinyl palmitate', 'chocola A', 'aquasol A', 'vitamin A palmitate', 'retinol-palmitate']\n",
      "CPD-14018 icosapentaenoyl-CoA  |  timnodonyl coenzyme A 0.35 ['(5Z,8Z,11Z,14Z,17Z)-icosapentaenoyl-CoA', 'icosapentaenoyl-CoA', '(5Z,8Z,11Z,14Z,17Z)-eicosapentaenoyl-CoA', '(5Z,8Z,11Z,14Z,17Z)-eicosa-5,8,11,14,17-pentaenoyl-CoA', '(5Z,8Z,11Z,14Z,17Z)-icosa-5,8,11,14,17-pentaenoyl-CoA', 'eicosapentaenoyl-CoA']\n",
      "CPD-14392 stearidonoyl-CoA  |  stearidonyl coenzyme A 0.68 ['stearidonoyl-CoA', '(6Z,9Z,12Z,15Z)-octadeca-6,9,12,15-tetraenoyl-coA']\n",
      "CPD-14394 (8Z,11Z,14Z,17Z)-eicosatetraenoyl-CoA  |  eicosatetranoyl coenzyme A 0.54 ['(8Z,11Z,14Z,17Z)-icosatetraenoyl-CoA', '(8Z,11Z,14Z,17Z)-icosa-8,11,14,17-tetraenoyl-CoA', '(8Z,11Z,14Z,17Z)-eicosatetraenoyl-CoA']\n",
      "CPD-14407 dihomo gamma-linolenoyl-CoA  |  dihomo-gamma-linolenyl coenzyme A 0.77 ['dihomo gamma-linolenoyl-CoA', '(8Z,11Z,14Z)-icosatrienoyl-CoA', '(8Z,11Z,14Z)-icosa-8,11,14-trienoyl-CoA', '(8Z,11Z,14Z)-eicosa-8,11,14-trienoyl-CoA']\n",
      "CPD-5881 (6R)-4a-hydroxy-tetrahydrobiopterin  |  Tetrahydrobiopterin-4a-carbinolamine 0.51 ['4a-hydroxy-L-erythro-5,6,7,8-tetrahydrobiopterin', '4a-hydroxy-5,6,7,8-tetrahydrobiopterin', '4a-hydroxy-tetrahydropterin', '(6<i>R</i>)-6-(L-<i>erythro</i>-1,2-dihydroxypropyl)-5,6,7,8-tetrahydro-4a-hydroxypterin', '(6R)-4a-hydroxy-tetrahydrobiopterin']\n",
      "CPD-882 11-cis-retinol  |  cis-11-retinol 0.79 ['11-cis-retinol']\n",
      "D-galactopyranose D-galactopyranose  |  D-Galactose 0.71 ['D-galactopyranose', 'D-Gal']\n",
      "DIACYLGLYCEROL a 1,2-diacylglycerol  |  diacylglycerol (phospholipids) 0.56 ['a 1,2-diacyl-sn-glycerol', 'a D-1,2-diglyceride', 'a 1,2-diacylglycerol', 'a D-1,2-diacylglycerol', 'DAG']\n",
      "DODECANOATE dodecanoate  |  Dodecanoate (n-C12:0) 0.62 ['dodecanoate', '<i>n</i>-dodecanoic acid', 'dodecanoic acid', 'n-dodecanoic acid', 'lauric acid', 'tin II 2-ethylhexanoate', 'laurate']\n",
      "DOLICHOL a dolichol  |  Dolichol 0.78 ['a dolichol', 'a <i>ditrans,polycis</i>-dolichol', '4-{alpha-[(2<i>E</i>,6<i>E</i>)-3,7,11-trimethyldodeca-2,6,10-trien-1-yl]poly[(2<i>Z</i>)-2-methylbut-2-ene-1,4-diyl]}-3-methylbutan-1-ol']\n",
      "L-Fucopyranoses L-fucopyranose  |  L-Fucose 0.64 ['L-fucopyranose', '6-deoxy-L-galactose', 'L-galactomethylose']\n",
      "L-PHOSPHATIDATE a phosphatidic acid  |  Phosphatidic acid (phospholipids) 0.62 ['a phosphatidate', 'A 3-SN-phosphatidate', 'DGP', 'diacylglycerol phosphate', 'a 3-<i>sn</i>-phosphatidate', 'a diacyl-glycerol-3P', 'a diacylglycerol-3-phosphate', 'a phosphatidic acid', 'an L-phosphatidate', 'a 1,2-diacyl-<i>sn</i>-glycerol 3-phosphate', 'a 1,2-diacylglycerol 3-phosphate']\n",
      "L-arabinopyranose L-arabinopyranose  |  L-Arabinose 0.71 ['L-arabinopyranose']\n",
      "Long-chain-alcohols a fatty alcohol  |  hydroxy alkyl chain 0.35 ['a long-chain fatty alcohol', 'a fatty alcohol']\n",
      "OLEOYL-COA (9Z)-octadec-9-enoyl-CoA  |  Octadecenoyl-CoA (n-C18:1CoA) 0.57 ['oleoyl-CoA', 'oloeyl-CoA (<i>cis</i>)', '<i>cis</i>-octadec-9-enoyl-CoA', '(9Z)-octadec-9-enoyl-CoA', '18:1 <i>cis</i>-9', '18:1(n-9)']\n",
      "Protein-L-lysine a [protein]-L-lysine  |  Peptidyl-L-lysine 0.65 ['a [protein]-L-lysine', 'an [enzyme]-lysine']\n"
     ]
    }
   ],
   "source": [
    "import re\n",
    "for k,v in lru2icel.items():\n",
    "    lru_met = lru.metabolites.query(re.compile(\"^\"+k.replace('-', '_').replace('+', '\\+')+\"_.*\"), \"id\")[0]\n",
    "    lru_name = lru_met.name\n",
    "    icel_name = {m.name for m in v}\n",
    "    if len(icel_name) != 1:\n",
    "        print(k, lru_name, v)\n",
    "        continue\n",
    "    icel_name = icel_name.pop()\n",
    "    synonyms = lru_met.annotation.get('metacyc.synonyms')\n",
    "    if not synonyms:\n",
    "        synonyms = []\n",
    "    elif not isinstance(synonyms, list):\n",
    "        synonyms = [synonyms]\n",
    "    best_lru_match = difflib.get_close_matches(icel_name, [lru_name] + synonyms, cutoff=0, n=1)[0]\n",
    "    similarity = difflib.SequenceMatcher(a=best_lru_match, b=icel_name).ratio()\n",
    "    if similarity < 0.8:\n",
    "        print(k, best_lru_match, \" | \", icel_name, round(similarity, 2), [lru_name] + synonyms)"
   ]
  },
  {
   "cell_type": "markdown",
   "metadata": {},
   "source": [
    "lru2icel mappings at this stage appear to be correct"
   ]
  },
  {
   "cell_type": "code",
   "execution_count": 346,
   "metadata": {},
   "outputs": [],
   "source": [
    "def canonical_formula_charge(met: cobra.Metabolite) -> frozenset:\n",
    "    canonical = {('charge', met.charge)}\n",
    "    met_elements = met.elements\n",
    "    if met_elements is None: # can also happen with formulas like C20H33N2O3SR(C2H2NOR)n\n",
    "        canonical.add(met.formula)\n",
    "    else:\n",
    "        canonical.update((e, c) for e,c in met_elements.items())\n",
    "    return frozenset(canonical)"
   ]
  },
  {
   "cell_type": "code",
   "execution_count": 86,
   "metadata": {},
   "outputs": [],
   "source": [
    "# icel_mets = defaultdict(set) # dictionary from formula and charge to iCEL1314 metabolites\n",
    "# for m in icel.metabolites:\n",
    "#     if not m.id.endswith('_' + m.compartment):\n",
    "#         raise\n",
    "#     icel_mets[canonical_formula_charge(m)].add(m.id[:-2])"
   ]
  },
  {
   "cell_type": "code",
   "execution_count": 87,
   "metadata": {},
   "outputs": [],
   "source": [
    "# for m in lru.metabolites:\n",
    "#     biocyc_id = get_biocyc_id(m)\n",
    "#     if biocyc_id is None or biocyc_id in lru2icel:\n",
    "#         continue\n",
    "#     candidates = icel_mets[canonical_formula_charge(m)]\n",
    "#     if len(candidates) > 0:\n",
    "#         # if len(candidates) == 1:\n",
    "#         #     candidates = candidates.pop()\n",
    "#         #     print(biocyc_id, candidates)\n",
    "#         # else:\n",
    "#             synonyms = [m.name] + m.annotation['metacyc.synonyms']\n",
    "#             # try:\n",
    "#             #     pf = PFrame(biocyc_id, meta, getFrameData=True)\n",
    "#             #     synonyms.extend(pf.synonyms)\n",
    "#             # except:\n",
    "#             #     try:\n",
    "#             #         synonyms.extend(sendQueryToPTools(\n",
    "#             #             f'(get-slot-values (nth 0 (with-organism (:org-id \\'meta) (get-frame-labeled \"{biocyc_id}\"))) \\'synonyms)'))\n",
    "#             #     except:\n",
    "#             #         pass\n",
    "#             for c in candidates:\n",
    "#                 icel_id = c + '_c'\n",
    "#                 if icel_id not in icel.metabolites:\n",
    "#                     icel_id = c + '_m' # try only with metabolites that (also) occur in mitochondrion?\n",
    "#                 mi = icel.metabolites.get_by_id(icel_id)\n",
    "#                 close_matches = difflib.get_close_matches(mi.name, synonyms, cutoff=0.75, n=1)\n",
    "#                 if len(close_matches) > 0:\n",
    "#                     print(biocyc_id, mi.name, close_matches, mi.id, synonyms) # check manually if mi.name could be a close match"
   ]
  },
  {
   "cell_type": "code",
   "execution_count": 347,
   "metadata": {},
   "outputs": [],
   "source": [
    "icel_mets = defaultdict(set) # dictionary from formula and charge to iCEL1314 metabolites\n",
    "for m in icel.metabolites:\n",
    "    if not m.id.endswith('_' + m.compartment):\n",
    "        raise\n",
    "    icel_mets[canonical_formula_charge(m)].add(m)"
   ]
  },
  {
   "cell_type": "code",
   "execution_count": 348,
   "metadata": {},
   "outputs": [],
   "source": [
    "# could also manually add BiGG mapping\n",
    "lru2icel['Pi'] = set(icel.metabolites.get_by_any(['pi_c', 'pi_m', 'pi_e']))\n",
    "metabolite_compartments['Pi'] = {'c', 'm', 'e'}\n",
    "\n",
    "# # iCEL1314 distinguishes between FAD and ETF in the mitochondrion but they should be unified\n",
    "# lru2icel['FAD'].add(icel.metabolites.get_by_id('etfox_m'))\n",
    "# lru2icel['ETF-Oxidized'] = lru2icel['FAD'] # !! ETF_ has formula with residual group, needs to be updated later !!\n",
    "# lru2icel['ETF-Reduced'] = set(icel.metabolites.get_by_any(['fadh2_m', 'etfrd_m']))\n",
    "# metabolite_compartments['FAD'] = {'c', 'm'}\n",
    "# metabolite_compartments['ETF-Oxidized'] = {'c', 'm'}\n",
    "# metabolite_compartments['ETF-Reduced'] = {'m'}\n",
    "\n",
    "mapped_icel_mets = reduce(set.union, lru2icel.values())"
   ]
  },
  {
   "cell_type": "markdown",
   "metadata": {},
   "source": [
    "Show potential further metabolite mappings."
   ]
  },
  {
   "cell_type": "code",
   "execution_count": 90,
   "metadata": {},
   "outputs": [],
   "source": [
    "# tags = re.compile('<.*?>')\n",
    "# for ml in lru.metabolites:\n",
    "#     biocyc_id = get_biocyc_id(ml)\n",
    "#     if biocyc_id is None or biocyc_id in lru2icel:\n",
    "#         continue\n",
    "#     candidates = set()\n",
    "#     mi_names = set()\n",
    "#     for mi in (icel_mets[canonical_formula_charge(ml)] - mapped_icel_mets):\n",
    "#         try:\n",
    "#             mi_name = mi.name.replace('\"', '') # quotes can mess up the LISP expression\n",
    "#             mi_names.add(mi_name)\n",
    "#             frames = sendQueryToPTools(\n",
    "#                 f'(get-slot-values (nth 0 (with-organism (:org-id \\'meta) (get-frame-labeled \"{mi_name}\"))) \\'synonyms)')\n",
    "#             if frames:\n",
    "#                 candidates.update({tags.sub('', f) for f in frames} - lru2icel.keys())\n",
    "#         except PToolsError:\n",
    "#             continue\n",
    "#     if len(candidates):\n",
    "#         print(biocyc_id, mi_names, candidates)"
   ]
  },
  {
   "attachments": {},
   "cell_type": "markdown",
   "metadata": {},
   "source": [
    "D-Ribopyranose might be mapped but is not important as it is only cytosolic"
   ]
  },
  {
   "cell_type": "code",
   "execution_count": 349,
   "metadata": {},
   "outputs": [
    {
     "data": {
      "text/plain": [
       "34"
      ]
     },
     "execution_count": 349,
     "metadata": {},
     "output_type": "execute_result"
    }
   ],
   "source": [
    "# metabolites only in mitochondrion according to iCEL1314\n",
    "only_mitochondrial_metabolites = [k for k,v in lru2icel.items() if not any(m.compartment == 'c' for m in v) and any(m.compartment == 'm' for m in v)]\n",
    "len(only_mitochondrial_metabolites)"
   ]
  },
  {
   "cell_type": "code",
   "execution_count": 350,
   "metadata": {},
   "outputs": [],
   "source": [
    "only_mitochondrial_metabolites = set(only_mitochondrial_metabolites)\n",
    "only_mitochondrial_metabolites.update(\n",
    "    [m.id for m in lru.metabolites if m.compartment == 'm' and metabolite_id_for_compartment(m, 'c') not in lru.metabolites])"
   ]
  },
  {
   "cell_type": "code",
   "execution_count": 351,
   "metadata": {},
   "outputs": [
    {
     "data": {
      "text/plain": [
       "591"
      ]
     },
     "execution_count": 351,
     "metadata": {},
     "output_type": "execute_result"
    }
   ],
   "source": [
    "fully_mapped_reactions = [r for r in lru.reactions if all(get_biocyc_id(m) in lru2icel for m in r.metabolites)]\n",
    "len(fully_mapped_reactions)"
   ]
  },
  {
   "cell_type": "code",
   "execution_count": 352,
   "metadata": {},
   "outputs": [
    {
     "data": {
      "text/plain": [
       "192"
      ]
     },
     "execution_count": 352,
     "metadata": {},
     "output_type": "execute_result"
    }
   ],
   "source": [
    "mitochondrial = [r for r in fully_mapped_reactions if not r.boundary and all('m' in metabolite_compartments[get_biocyc_id(m)] for m in r.metabolites)]\n",
    "len(mitochondrial) # acutally possibly mitochondrial only, a corresponding mitochondrial reaction should also be in iCEL1314"
   ]
  },
  {
   "cell_type": "code",
   "execution_count": 353,
   "metadata": {},
   "outputs": [
    {
     "name": "stdout",
     "output_type": "stream",
     "text": [
      "207 415\n"
     ]
    }
   ],
   "source": [
    "lru2icel_mit = dict()\n",
    "lru2icel_cyt = dict()\n",
    "for ml, mi in lru2icel.items():\n",
    "    mi_mit = [m for m in mi if m.compartment == 'm']\n",
    "    if len(mi_mit):\n",
    "        lru2icel_mit[ml] = mi_mit[0]\n",
    "    mi_cyt = [m for m in mi if m.compartment == 'c']\n",
    "    if len(mi_cyt):\n",
    "        lru2icel_cyt[ml] = mi_cyt[0]\n",
    "print(len(lru2icel_mit), len(lru2icel_cyt))"
   ]
  },
  {
   "cell_type": "code",
   "execution_count": 354,
   "metadata": {},
   "outputs": [
    {
     "name": "stdout",
     "output_type": "stream",
     "text": [
      "C0097 {'o2', 'h2o2'} {'fadh2', 'fad'}\n",
      "C0089 {'o2', 'h2o2'} {'fadh2', 'fad'}\n",
      "C0098 {'o2', 'h2o2'} {'fadh2', 'fad'}\n",
      "C0103 {'o2', 'h2o2'} {'fadh2', 'fad'}\n",
      "C0107 {'o2', 'h2o2'} {'fadh2', 'fad'}\n",
      "C0106 {'o2', 'h2o2'} {'fadh2', 'fad'}\n",
      "C0094 {'o2', 'h2o2'} {'fadh2', 'fad'}\n",
      "C0093 {'o2', 'h2o2'} {'fadh2', 'fad'}\n",
      "C0088 {'o2', 'h2o2'} {'fadh2', 'fad'}\n",
      "C0091 {'o2', 'h2o2'} {'fadh2', 'fad'}\n",
      "C0126 {'o2', 'h2o2'} {'fadh2', 'fad'}\n",
      "C0104 {'o2', 'h2o2'} {'fadh2', 'fad'}\n",
      "C0090 {'o2', 'h2o2'} {'fadh2', 'fad'}\n",
      "C0095 {'o2', 'h2o2'} {'fadh2', 'fad'}\n",
      "C0096 {'o2', 'h2o2'} {'fadh2', 'fad'}\n",
      "C0092 {'o2', 'h2o2'} {'fadh2', 'fad'}\n"
     ]
    }
   ],
   "source": [
    "icel_cyto_and_mito_rxns = {r.id[2:] for r in icel.reactions if r.id.startswith('RM') and ('RC' + r.id[2:]) in icel.reactions}\n",
    "for r in icel_cyto_and_mito_rxns:\n",
    "    rc = icel.reactions.get_by_id('RC' + r)\n",
    "    rm = icel.reactions.get_by_id('RM' + r)\n",
    "    mc = {m.id[:-2] for m in rc.metabolites}\n",
    "    mm = {m.id[:-2] for m in rm.metabolites}\n",
    "    if mc != mm:\n",
    "        print(r, mc - mm, mm - mc)"
   ]
  },
  {
   "cell_type": "markdown",
   "metadata": {},
   "source": [
    "It appears that the differences affect only cytosolic (or rather peroximsomal) and mitochondrial beta-oxidation."
   ]
  },
  {
   "cell_type": "code",
   "execution_count": 355,
   "metadata": {},
   "outputs": [
    {
     "name": "stdout",
     "output_type": "stream",
     "text": [
      "* PYRROLINECARBREDUCT_RXN_PRO/NADP//L_DELTA1_PYRROLINE_5_CARBOXYLATE/NADPH/PROTON.56. L_DELTA1_PYRROLINE_5_CARBOXYLATE_c + NADPH_c + 2.0 PROTON_c --> NADP_c + PRO_c RM01251 1pyr5c_m + 2.0 h_m + nadph_m --> nadp_m + pro-L_m\n",
      "* ACYLCOADEHYDROG_RXN_PALMITYL_COA/ETF_Oxidized/PROTON//CPD0_2117/ETF_Reduced.56. ETF_Oxidized_c + PALMITYL_COA_c + PROTON_c --> CPD0_2117_c + ETF_Reduced_c RM01282 etfox_m + pmtcoa_m <=> etfrd_m + hdd2coa_m\n",
      "* PANTEPADENYLYLTRAN_RXN ATP_c + PANTETHEINE_P_c + PROTON_c --> DEPHOSPHO_COA_c + PPI_c RM03035 atp_m + h_m + pan4p_m <=> dpcoa_m + ppi_m\n",
      "* RXN_14116 L_GLUTAMATE_GAMMA_SEMIALDEHYDE_c + NAD_c + WATER_c --> GLT_c + NADH_c + 2.0 PROTON_c RM00245 glu5sa_m + h2o_m + nad_m --> glu-L_m + 2.0 h_m + nadh_m\n",
      "* RXN0_2301 ETF_Oxidized_c + ISOVALERYL_COA_c + PROTON_c --> 3_METHYL_CROTONYL_COA_c + ETF_Reduced_c RM04096 etfox_m + ivcoa_m --> 3mb2coa_m + etfrd_m\n",
      "4_HYDROXYGLUTAMATE_AMINOTRANSFERASE_RXN 2_KETOGLUTARATE_c + L_ERYTHRO_4_HYDROXY_GLUTAMATE_c <=> D_4_HYDROXY_2_KETO_GLUTARATE_c + GLT_c RM05052 akg_m + e4hglu_m --> 4h2oglt_m + glu-L_m\n",
      "* SUCCINATE__COA_LIGASE_GDP_FORMING_RXN[CCO_MIT_LUM]_SUC/GTP/CO_A//SUC_COA/GDP/Pi.42. CO_A_m + GTP_m + SUC_m <=> GDP_m + Pi_m + SUC_COA_m RM00432 coa_m + gtp_m + succ_m <=> gdp_m + pi_m + succoa_m\n",
      "* RXN_7790 2_OXOBUTANOATE_c + CO_A_c + NAD_c --> CARBON_DIOXIDE_c + NADH_c + PROPIONYL_COA_c RMC0133 2obut_m + coa_m + nad_m --> co2_m + nadh_m + ppcoa_m\n",
      "* 3_HYDROXYPROPIONATE_DEHYDROGENASE_RXN 3_HYDROXY_PROPIONATE_c + NAD_c <=> MALONATE_S_ALD_c + NADH_c + PROTON_c RM01608 3hpp_m + nad_m <=> h_m + msa_m + nadh_m\n",
      "RXN_11662 NAD_c + S_3_HYDROXYBUTANOYL_COA_c <=> ACETOACETYL_COA_c + NADH_c + PROTON_c RM01975 aacoa_m + h_m + nadh_m <=> 3hbcoa_m + nad_m\n",
      "* BRANCHED_CHAINAMINOTRANSFERILEU_RXN 2_KETOGLUTARATE_c + ILE_c <=> 2_KETO_3_METHYL_VALERATE_c + GLT_c RM02199 akg_m + ile-L_m <=> 3mop_m + glu-L_m\n",
      "ASPAMINOTRANS_RXN 2_KETOGLUTARATE_c + L_ASPARTATE_c <=> GLT_c + OXALACETIC_ACID_c RM00355 akg_m + asp-L_m <=> glu-L_m + oaa_m\n",
      "* THREODEHYD_RXN NAD_c + THR_c --> AMINO_OXOBUT_c + NADH_c + PROTON_c RM01465 nad_m + thr-L_m <=> 2aobut_m + h_m + nadh_m\n",
      "* 2.6.1.22_RXN 2_KETOGLUTARATE_c + CPD_466_c <=> CH3_MALONATE_S_ALD_c + GLT_c RM04188 2mop_m + glu-L_m <=> 3aib_m + akg_m\n",
      "GLUTDECARBOX_RXN GLT_c + PROTON_c --> 4_AMINO_BUTYRATE_c + CARBON_DIOXIDE_c RM00261 glu-L_m + h_m --> 4abut_m + co2_m\n",
      "FADSYN_RXN ATP_c + FMN_c + PROTON_c <=> FAD_c + PPI_c RM00161 atp_m + fmn_m + h_m --> fad_m + ppi_m\n",
      "* 2_METHYLACYL_COA_DEHYDROGENASE_RXN 2_METHYL_BUTYRYL_COA_c + ETF_Oxidized_c + PROTON_c <=> CPD_1083_c + ETF_Reduced_c RM03172 2mbcoa_m + etfox_m <=> 2mb2coa_m + etfrd_m\n",
      "FUMHYDR_RXN[CCO_CYTOSOL]_MAL//FUM/WATER.28. MAL_c <=> FUM_c + WATER_c RM01082 mal-L_m <=> fum_m + h2o_m\n",
      "TYROSINE_AMINOTRANSFERASE_RXN 2_KETOGLUTARATE_c + TYR_c <=> GLT_c + P_HYDROXY_PHENYLPYRUVATE_c RM00734 akg_m + tyr-L_m <=> 34hpp_m + glu-L_m\n",
      "RXN2TEA_27 L_ASPARTATE_c + PROTON_c --> B_ALANINE_c + CARBON_DIOXIDE_c RM00489 asp-L_m + h_m --> ala-B_m + co2_m\n",
      "* DEPHOSPHOCOAKIN_RXN ATP_c + DEPHOSPHO_COA_c --> ADP_c + CO_A_c + PROTON_c RM00130 atp_m + dpcoa_m --> adp_m + coa_m + h_m\n",
      "* PYRUVATE_CARBOXYLASE_RXN ATP_c + HCO3_c + PYRUVATE_c --> ADP_c + OXALACETIC_ACID_c + PROTON_c + Pi_c RM00344 atp_m + hco3_m + pyr_m --> adp_m + h_m + oaa_m + pi_m\n",
      "FUMHYDR_RXN[CCO_MIT_LUM]_MAL//FUM/WATER.28. MAL_m <=> FUM_m + WATER_m RM01082 mal-L_m <=> fum_m + h2o_m\n",
      "* METHYLMALONYL_COA_EPIM_RXN D_METHYL_MALONYL_COA_c --> METHYL_MALONYL_COA_c RM02765 mmcoa-R_m <=> mmcoa-S_m\n",
      "RXN2TEA_23 L_ASPARTATE_c + PROTON_c --> B_ALANINE_c + CARBON_DIOXIDE_c RM00489 asp-L_m + h_m --> ala-B_m + co2_m\n",
      "* CITSYN_RXN[CCO_CYTOSOL]_ACETYL_COA/OXALACETIC_ACID/WATER//CIT/CO_A/PROTON.63. ACETYL_COA_c + OXALACETIC_ACID_c + WATER_c --> CIT_c + CO_A_c + PROTON_c RM00351 accoa_m + h2o_m + oaa_m --> cit_m + coa_m + h_m\n",
      "* GLUTKIN_RXN ATP_c + GLT_c --> ADP_c + L_GLUTAMATE_5_P_c RM00239 atp_m + glu-L_m --> adp_m + glu5p_m\n",
      "SUPEROX_DISMUT_RXN 2.0 PROTON_c + 2.0 SUPER_OXIDE_c --> HYDROGEN_PEROXIDE_c + OXYGEN_MOLECULE_c RM00275 2.0 h_m + 2.0 o2s_m --> h2o2_m + o2_m\n",
      "* SUCCINATE_SEMIALDEHYDE_DEHYDROGENASE_RXN NAD_c + SUCC_S_ALD_c + WATER_c --> NADH_c + 2.0 PROTON_c + SUC_c RM00713 h2o_m + nad_m + sucsal_m --> 2.0 h_m + nadh_m + succ_m\n",
      "CARNITINE_O_PALMITOYLTRANSFERASE_RXN[CCO_MIT_LUM]_PALMITYL_COA/CARNITINE//CPD_419/CO_A.50. CARNITINE_m + PALMITYL_COA_m <=> CO_A_m + CPD_419_m RM01923 coa_m + pmtcrn_m --> crn_m + pmtcoa_m\n",
      "MALATE_DEH_RXN[CCO_MIT_LUM]_MAL/NAD//OXALACETIC_ACID/NADH/PROTON.50. MAL_m + NAD_m <=> NADH_m + OXALACETIC_ACID_m + PROTON_m RM00342 mal-L_m + nad_m <=> h_m + nadh_m + oaa_m\n",
      "* BRANCHED_CHAINAMINOTRANSFERVAL_RXN 2_KETOGLUTARATE_c + VAL_c <=> 2_KETO_ISOVALERATE_c + GLT_c RM01214 akg_m + val-L_m <=> 3mob_m + glu-L_m\n",
      "* BRANCHED_CHAINAMINOTRANSFERLEU_RXN 2_KETOGLUTARATE_c + LEU_c <=> 2K_4CH3_PENTANOATE_c + GLT_c RM01090 akg_m + leu-L_m <=> 4mop_m + glu-L_m\n",
      "RXN66_3 ACETALD_c + NAD_c + WATER_c --> ACET_c + NADH_c + 2.0 PROTON_c RM00710 acald_m + h2o_m + nad_m --> ac_m + 2.0 h_m + nadh_m\n",
      "THREONINE_ALDOLASE_RXN THR_c <=> ACETALD_c + GLY_c RM00751 thr-L_m <=> acald_m + gly_m\n",
      "CYTIKIN_RXN ATP_c + CYTIDINE_c --> ADP_c + CMP_c + PROTON_c RM00513 atp_m + cytd_m --> adp_m + cmp_m + h_m\n",
      "CARNITINE_O_PALMITOYLTRANSFERASE_RXN[CCO_CYTOSOL]_PALMITYL_COA/CARNITINE//CPD_419/CO_A.50. CARNITINE_c + PALMITYL_COA_c <=> CO_A_c + CPD_419_c RM01923 coa_m + pmtcrn_m --> crn_m + pmtcoa_m\n",
      "* 3_HYDROXYISOBUTYRYL_COA_HYDROLASE_RXN CPD_12173_c + WATER_c --> CO_A_c + CPD_12175_c + PROTON_c RM05064 3hibutcoa_m + h2o_m --> 3hmp_m + coa_m + h_m\n",
      "* RXN_2902 CO_A_c + MALONATE_S_ALD_c + NAD_c --> ACETYL_COA_c + CARBON_DIOXIDE_c + NADH_c RM00705 coa_m + msa_m + nad_m --> accoa_m + co2_m + nadh_m\n",
      "* GLUTAMATE_DEHYDROGENASE_NADP+_RXN_GLT/NADP/WATER//2_KETOGLUTARATE/AMMONIUM/NADPH/PROTON.54. GLT_c + NADP_c + WATER_c <=> 2_KETOGLUTARATE_c + AMMONIUM_c + NADPH_c + PROTON_c RM00248 glu-L_m + h2o_m + nadp_m <=> akg_m + h_m + nadph_m + nh4_m\n",
      "* SUCCCOASYN_RXN[CCO_MIT_LUM]_SUC/CO_A/ATP//SUC_COA/ADP/Pi.42. ATP_m + CO_A_m + SUC_m <=> ADP_m + Pi_m + SUC_COA_m RM00405 atp_m + coa_m + succ_m <=> adp_m + pi_m + succoa_m\n",
      "* RXN_6384 3_HYDROXY_PROPIONYL_COA_c + WATER_c --> 3_HYDROXY_PROPIONATE_c + CO_A_c + PROTON_c RM03158 3hpcoa_m + h2o_m --> 3hpp_m + coa_m + h_m\n",
      "* ORNITHINE_GLU_AMINOTRANSFERASE_RXN 2_KETOGLUTARATE_c + L_ORNITHINE_c <=> GLT_c + L_GLUTAMATE_GAMMA_SEMIALDEHYDE_c RM00667 akg_m + orn_m <=> glu-L_m + glu5sa_m\n",
      "* HYDROXYMETHYLGLUTARYL_COA_LYASE_RXN 3_HYDROXY_3_METHYL_GLUTARYL_COA_c --> 3_KETOBUTYRATE_c + ACETYL_COA_c RM01360 hmgcoa_m --> acac_m + accoa_m\n",
      "* 2_KETO_ADIPATE_DEHYDROG_RXN 2K_ADIPATE_c + CO_A_c + NAD_c --> CARBON_DIOXIDE_c + GLUTARYL_COA_c + NADH_c RMC0014 2oxoadp_m + coa_m + nad_m --> co2_m + glutcoa_m + nadh_m\n",
      "* METHYLACETOACETYLCOATHIOL_RXN ACETYL_COA_c + PROPIONYL_COA_c <=> 2_METHYL_ACETO_ACETYL_COA_c + CO_A_c RM00927 2maacoa_m + coa_m <=> accoa_m + ppcoa_m\n",
      "SERINE__PYRUVATE_AMINOTRANSFERASE_RXN PYRUVATE_c + SER_c <=> L_ALPHA_ALANINE_c + OH_PYR_c RM00585 pyr_m + ser-L_m <=> ala-L_m + hpyr_m\n",
      "* SPONTPRO_RXN L_DELTA1_PYRROLINE_5_CARBOXYLATE_c + PROTON_c + WATER_c <=> L_GLUTAMATE_GAMMA_SEMIALDEHYDE_c RMC0015 glu5sa_m <=> 1pyr5c_m + h2o_m + h_m\n",
      "CARNITINE_O_PALMITOYLTRANSFERASE_RXN[CCO_MIT_IM_SPC]_PALMITYL_COA/CARNITINE//CPD_419/CO_A.53. CARNITINE_m + PALMITYL_COA_m <=> CO_A_m + CPD_419_m RM01923 coa_m + pmtcrn_m --> crn_m + pmtcoa_m\n",
      "* METHYLMALONYL_COA_DECARBOXYLASE_RXN D_METHYL_MALONYL_COA_c + PROTON_c --> CARBON_DIOXIDE_c + PROPIONYL_COA_c RM05373 h_m + mmcoa-S_m --> co2_m + ppcoa_m\n",
      "RXN2TEA_19 L_ASPARTATE_c + PROTON_c --> B_ALANINE_c + CARBON_DIOXIDE_c RM00489 asp-L_m + h_m --> ala-B_m + co2_m\n",
      "THIOESTER_RXN_PROPIONYL_COA/WATER//PROPIONATE/CO_A/PROTON.44. PROPIONYL_COA_c + WATER_c --> CO_A_c + PROPIONATE_c + PROTON_c RM00383 h2o_m + ppcoa_m --> coa_m + h_m + ppa_m\n",
      "* PROPCOASYN_RXN ETF_Oxidized_c + PROPIONYL_COA_c + PROTON_c --> ACRYLYL_COA_c + ETF_Reduced_c RM04432 etfox_m + ppcoa_m <=> etfrd_m + prpncoa_m\n",
      "* RXN_14278 ETF_Oxidized_c + HEXANOYL_COA_c + PROTON_c --> CPD0_2121_c + ETF_Reduced_c RM04751 etfox_m + hxcoa_m <=> etfrd_m + hx2coa_m\n",
      "RXN0_5462 GTP_c + WATER_c --> GDP_c + PROTON_c + Pi_c RM00335 gtp_m + h2o_m --> gdp_m + h_m + pi_m\n",
      "* 2.6.1.40_RXN CPD_471_c + PYRUVATE_c <=> CH3_MALONATE_S_ALD_c + L_ALPHA_ALANINE_c RM02050 3aib-D_m + pyr_m <=> 2mop_m + ala-L_m\n",
      "INORGPYROPHOSPHAT_RXN PPI_c + WATER_c --> PROTON_c + 2.0 Pi_c RM00004 h2o_m + ppi_m --> h_m + 2.0 pi_m\n",
      "GLUTATHIONE_REDUCT_NADPH_RXN NADPH_c + OXIDIZED_GLUTATHIONE_c + PROTON_c --> 2.0 GLUTATHIONE_c + NADP_c RM00115 gthox_m + h_m + nadph_m --> 2.0 gthrd_m + nadp_m\n",
      "RXN2TEA_13 L_ASPARTATE_c + PROTON_c --> B_ALANINE_c + CARBON_DIOXIDE_c RM00489 asp-L_m + h_m --> ala-B_m + co2_m\n",
      "* ALANINE_AMINOTRANSFERASE_RXN 2_KETOGLUTARATE_c + L_ALPHA_ALANINE_c <=> GLT_c + PYRUVATE_c RM00258 akg_m + ala-L_m <=> glu-L_m + pyr_m\n",
      "* PYRROLINECARBREDUCT_RXN_PRO/NAD//L_DELTA1_PYRROLINE_5_CARBOXYLATE/NADH/PROTON.54. L_DELTA1_PYRROLINE_5_CARBOXYLATE_c + NADH_c + 2.0 PROTON_c --> NAD_c + PRO_c RM01248 1pyr5c_m + 2.0 h_m + nadh_m --> nad_m + pro-L_m\n",
      "* GLUTAMATE_DEHYDROGENASE_RXN GLT_c + NAD_c + WATER_c <=> 2_KETOGLUTARATE_c + AMMONIUM_c + NADH_c + PROTON_c RM00243 glu-L_m + h2o_m + nad_m <=> akg_m + h_m + nadh_m + nh4_m\n",
      "RXN2TEA_17 L_ASPARTATE_c + PROTON_c --> B_ALANINE_c + CARBON_DIOXIDE_c RM00489 asp-L_m + h_m --> ala-B_m + co2_m\n",
      "* SUCCCOASYN_RXN[CCO_CYTOSOL]_SUC/CO_A/ATP//SUC_COA/ADP/Pi.42. ATP_c + CO_A_c + SUC_c <=> ADP_c + Pi_c + SUC_COA_c RM00405 atp_m + coa_m + succ_m <=> adp_m + pi_m + succoa_m\n",
      "* RXN_11737 2_KETOGLUTARATE_c + L_CYSTEATE_c <=> CPD_380_c + GLT_c RM02433 Lcyst_m + akg_m <=> 3spyr_m + glu-L_m\n",
      "* 3_HYDROXYISOBUTYRATE_DEHYDROGENASE_RXN CPD_12175_c + NAD_c --> CH3_MALONATE_S_ALD_c + NADH_c + PROTON_c RM05066 3hmp_m + nad_m <=> 2mop_m + h_m + nadh_m\n",
      "RXN0_5224 HCO3_c + PROTON_c <=> CARBON_DIOXIDE_c + WATER_c RM10092 co2_m + h2o_m <=> h_m + hco3_m\n",
      "4OH2OXOGLUTARALDOL_RXN D_4_HYDROXY_2_KETO_GLUTARATE_c <=> GLYOX_c + PYRUVATE_c RM00471 4h2oglt_m <=> glx_m + pyr_m\n",
      "* BADH_RXN BETAINE_ALDEHYDE_c + NAD_c + WATER_c --> BETAINE_c + NADH_c + 2.0 PROTON_c RM02565 betald_m + h2o_m + nad_m --> glyb_m + 2.0 h_m + nadh_m\n",
      "* PROPIONYL_COA_CARBOXY_RXN ATP_c + HCO3_c + PROPIONYL_COA_c <=> ADP_c + D_METHYL_MALONYL_COA_c + PROTON_c + Pi_c RM01859 atp_m + hco3_m + ppcoa_m --> adp_m + h_m + mmcoa-S_m + pi_m\n",
      "CARNITINE_O_ACETYLTRANSFERASE_RXN ACETYL_COA_c + CARNITINE_c <=> CO_A_c + O_ACETYLCARNITINE_c RM02396 acrn_m + coa_m --> accoa_m + crn_m\n",
      "* METHYLACYLYLCOA_HYDROXY_RXN CPD_12173_c <=> METHACRYLYL_COA_c + WATER_c RM04224 2mp2coa_m + h2o_m <=> 3hibutcoa_m\n",
      "* AKBLIG_RXN ACETYL_COA_c + GLY_c <=> AMINO_OXOBUT_c + CO_A_c RM00371 accoa_m + gly_m <=> 2aobut_m + coa_m\n",
      "ADENYL_KIN_RXN[CCO_CYTOSOL]_ATP/AMP//ADP.26. AMP_c + ATP_c <=> 2.0 ADP_c RM00127 amp_m + atp_m <=> 2.0 adp_m\n",
      "* RXNI_2 3_KETOBUTYRATE_c + SUC_COA_c <=> ACETOACETYL_COA_c + SUC_c RM00410 acac_m + succoa_m <=> aacoa_m + succ_m\n",
      "* METHYLMALONYL_COA_MUT_RXN METHYL_MALONYL_COA_c --> SUC_COA_c RM00833 mmcoa-R_m <=> succoa_m\n",
      "* RXN_14472 L_4_HYDROXYGLUTAMATE_SEMIALDEHYDE_c + NAD_c + WATER_c --> L_ERYTHRO_4_HYDROXY_GLUTAMATE_c + NADH_c + 2.0 PROTON_c RM05051 4hglusa_m + h2o_m + nad_m --> e4hglu_m + 2.0 h_m + nadh_m\n",
      "* SUCCINATE__COA_LIGASE_GDP_FORMING_RXN[CCO_CYTOSOL]_SUC/GTP/CO_A//SUC_COA/GDP/Pi.42. CO_A_c + GTP_c + SUC_c <=> GDP_c + Pi_c + SUC_COA_c RM00432 coa_m + gtp_m + succ_m <=> gdp_m + pi_m + succoa_m\n",
      "* TIGLYLCOA_HYDROXY_RXN 2_METHYL_3_HYDROXY_BUTYRYL_COA_c <=> CPD_1083_c + WATER_c RM04204 2mb2coa_m + h2o_m <=> 3hmbcoa_m\n",
      "* GLYOXII_RXN S_LACTOYL_GLUTATHIONE_c + WATER_c --> D_LACTATE_c + GLUTATHIONE_c + PROTON_c RM01736 h2o_m + lgt-S_m --> gthrd_m + h_m + lac-D_m\n",
      "RXN_13697 2_KETOGLUTARATE_c + L_ASPARTATE_c <=> GLT_c + OXALACETIC_ACID_c RM00355 akg_m + asp-L_m <=> glu-L_m + oaa_m\n",
      "* RXN_9958_MALONATE_S_ALD/CO_A/NADP//ACETYL_COA/CARBON_DIOXIDE/NADPH.58. CO_A_c + MALONATE_S_ALD_c + NADP_c <=> ACETYL_COA_c + CARBON_DIOXIDE_c + NADPH_c RM00706 coa_m + msa_m + nadp_m --> accoa_m + co2_m + nadph_m\n",
      "* BUTYRYL_COA_DEHYDROGENASE_RXN BUTYRYL_COA_c + ETF_Oxidized_c + PROTON_c <=> CROTONYL_COA_c + ETF_Reduced_c RM01175 btcoa_m + etfox_m <=> b2coa_m + etfrd_m\n",
      "RIBOFLAVINKIN_RXN ATP_c + RIBOFLAVIN_c --> ADP_c + FMN_c + PROTON_c RM00549 atp_m + ribflv_m --> adp_m + fmn_m + h_m\n",
      "* RXN_6383 3_HYDROXY_PROPIONYL_COA_c <=> ACRYLYL_COA_c + WATER_c RM03045 h2o_m + prpncoa_m <=> 3hpcoa_m\n",
      "PHOSPHASERDECARB_RXN L_1_PHOSPHATIDYL_SERINE_c + PROTON_c <=> CARBON_DIOXIDE_c + L_1_PHOSPHATIDYL_ETHANOLAMINE_c RM02055 h_m + ps_m --> co2_m + pe_m\n",
      "* GLUTSEMIALDEHYDROG_RXN L_GLUTAMATE_5_P_c + NADPH_c + PROTON_c --> L_GLUTAMATE_GAMMA_SEMIALDEHYDE_c + NADP_c + Pi_c RM03313 glu5p_m + h_m + nadph_m --> glu5sa_m + nadp_m + pi_m\n",
      "ADENYL_KIN_RXN[CCO_MIT_LUM]_ATP/AMP//ADP.26. AMP_m + ATP_m <=> 2.0 ADP_m RM00127 amp_m + atp_m <=> 2.0 adp_m\n",
      "* 1.1.1.178_RXN 2_METHYL_3_HYDROXY_BUTYRYL_COA_c + NAD_c <=> 2_METHYL_ACETO_ACETYL_COA_c + NADH_c + PROTON_c RM04203 3hmbcoa_m + nad_m <=> 2maacoa_m + h_m + nadh_m\n",
      "* RXN_11667 S_3_HYDROXYBUTANOYL_COA_c <=> CROTONYL_COA_c + WATER_c RM03026 3hbcoa_m <=> b2coa_m + h2o_m\n",
      "ALANINE__GLYOXYLATE_AMINOTRANSFERASE_RXN GLYOX_c + L_ALPHA_ALANINE_c <=> GLY_c + PYRUVATE_c RM00369 ala-L_m + glx_m <=> gly_m + pyr_m\n",
      "1.1.1.8_RXN DIHYDROXY_ACETONE_PHOSPHATE_c + NADH_c + PROTON_c --> GLYCEROL_3P_c + NAD_c RM00842 dhap_m + h_m + nadh_m <=> glyc3p_m + nad_m\n",
      "* METHYLCROTONYL_COA_CARBOXYLASE_RXN 3_METHYL_CROTONYL_COA_c + ATP_c + HCO3_c --> ADP_c + PROTON_c + Pi_c + TRANS_3_METHYL_GLUTACONYL_COA_c RM04138 3mb2coa_m + atp_m + hco3_m --> 3mgcoa_m + adp_m + h_m + pi_m\n",
      "* RXN_13698 GLT_c + PYRUVATE_c <=> 2_KETOGLUTARATE_c + L_ALPHA_ALANINE_c RM00258 akg_m + ala-L_m <=> glu-L_m + pyr_m\n",
      "* MEPROPCOA_FAD_RXN ETF_Oxidized_c + ISOBUTYRYL_COA_c + PROTON_c --> ETF_Reduced_c + METHACRYLYL_COA_c RM02661 etfox_m + ibcoa_m <=> 2mp2coa_m + etfrd_m\n",
      "* RXN_14471 PROTON_c + PYRROLINE_HYDROXY_CARBOXYLATE_c + WATER_c <=> L_4_HYDROXYGLUTAMATE_SEMIALDEHYDE_c RMC0016 1p3h5c_m + h2o_m + h_m <=> 4hglusa_m\n",
      "* 2_AMINOADIPATE_AMINOTRANSFERASE_RXN 2_KETOGLUTARATE_c + CPD_468_c <=> 2K_ADIPATE_c + GLT_c RM01939 L2aadp_m + akg_m <=> 2oxoadp_m + glu-L_m\n",
      "* RXN_14262 ETF_Oxidized_c + LAUROYLCOA_CPD_c + PROTON_c --> CPD_7222_c + ETF_Reduced_c RM03857 ddcacoa_m + etfox_m <=> dd2coa_m + etfrd_m\n",
      "* GABATRANSAM_RXN 2_KETOGLUTARATE_c + 4_AMINO_BUTYRATE_c --> GLT_c + SUCC_S_ALD_c RM01648 4abut_m + akg_m <=> glu-L_m + sucsal_m\n",
      "* RXN_14194 CPD0_2117_c + NADPH_c + PROTON_c --> NADP_c + PALMITYL_COA_c RM01278 h_m + hdd2coa_m + nadph_m --> nadp_m + pmtcoa_m\n",
      "* METHYLGLUTACONYL_COA_HYDRATASE_RXN TRANS_3_METHYL_GLUTACONYL_COA_c + WATER_c --> 3_HYDROXY_3_METHYL_GLUTARYL_COA_c RM02085 3mgcoa_m + h2o_m <=> hmgcoa_m\n",
      "MALATE_DEH_RXN[CCO_CYTOSOL]_MAL/NAD//OXALACETIC_ACID/NADH/PROTON.50. MAL_c + NAD_c <=> NADH_c + OXALACETIC_ACID_c + PROTON_c RM00342 mal-L_m + nad_m <=> h_m + nadh_m + oaa_m\n",
      "* RXN_13615 CPD_10267_c + ETF_Oxidized_c + PROTON_c --> ETF_Reduced_c + T2_DECENOYL_COA_c RM04754 dcacoa_m + etfox_m <=> dc2coa_m + etfrd_m\n",
      "* ISOCITRATE_DEHYDROGENASE_NAD+_RXN[CCO_CYTOSOL]_THREO_DS_ISO_CITRATE/NAD//2_KETOGLUTARATE/CARBON_DIOXIDE/NADH.75. NAD_c + THREO_DS_ISO_CITRATE_c --> 2_KETOGLUTARATE_c + CARBON_DIOXIDE_c + NADH_c RM00709 icit_m + nad_m --> akg_m + co2_m + nadh_m\n",
      "104 67\n"
     ]
    }
   ],
   "source": [
    "# these may or may not be exclusively mitochondrial\n",
    "# it is only checked that a reaction in iCEL1314 exists that has the same metabolites,\n",
    "# except for protons\n",
    "mito_rxns = set() # in case there are isozymes in iCEL1314\n",
    "only_mito_rxns = set()\n",
    "lru_rxn2icel_rxn = defaultdict(list)\n",
    "for r in lru.reactions:\n",
    "    if not r.boundary and all(get_biocyc_id(m) in lru2icel_mit for m in r.metabolites):\n",
    "        rxns = [{ri for ri in lru2icel_mit[get_biocyc_id(m)].reactions if ri.id.startswith(\"RM\")} for m in r.metabolites if m.name != 'H+']\n",
    "        if len(rxns):\n",
    "            rxns = reduce(set.intersection, rxns)\n",
    "            for ri in rxns:\n",
    "\n",
    "                mi = list(ri.metabolites)\n",
    "                for ml in r.metabolites:\n",
    "                    if ml.name != 'H+' and lru2icel_mit[get_biocyc_id(ml)] in mi:\n",
    "                        mi.remove(lru2icel_mit[get_biocyc_id(ml)])\n",
    "                if len(mi) == 0 or (len(mi) == 1 and mi[0].name == 'H+'):\n",
    "                    mito_rxns.add(r.id)\n",
    "                    lru_rxn2icel_rxn[r].append(ri.id)\n",
    "                    if ('RC' + ri.id[2:]) not in icel.reactions:\n",
    "                        only_mito_rxns.add(r.id)\n",
    "                        print(\"* \", end=\"\")\n",
    "                    print(r.id, r.build_reaction_string(), ri.id, ri.build_reaction_string())\n",
    "\n",
    "                # if len(r.metabolites) == len(ri.metabolites) and all(lru2icel_mit[get_biocyc_id(m)] in ri.metabolites for m in r.metabolites):\n",
    "                #     mito_rxns.add(r.id)\n",
    "                #     if ('RC' + ri.id[2:]) not in icel.reactions:\n",
    "                #         only_mito_rxns.add(r.id)\n",
    "                #         print(\"* \", end=\"\")\n",
    "                #     print(r.id, r.build_reaction_string(), ri.id, ri.build_reaction_string())\n",
    "\n",
    "print(len(mito_rxns), len(only_mito_rxns))                    "
   ]
  },
  {
   "cell_type": "code",
   "execution_count": 356,
   "metadata": {},
   "outputs": [],
   "source": [
    "for r in lru.reactions:\n",
    "    if not r.boundary and all(get_biocyc_id(m) in lru2icel_cyt for m in r.metabolites):\n",
    "        rxns = [{ri for ri in lru2icel_cyt[get_biocyc_id(m)].reactions if ri.id.startswith(\"RC\")} for m in r.metabolites if m.name != 'H+']\n",
    "        if len(rxns):\n",
    "            rxns = reduce(set.intersection, rxns)\n",
    "            for ri in rxns:\n",
    "\n",
    "                mi = list(ri.metabolites)\n",
    "                for ml in r.metabolites:\n",
    "                    if ml.name != 'H+' and lru2icel_cyt[get_biocyc_id(ml)] in mi:\n",
    "                        mi.remove(lru2icel_cyt[get_biocyc_id(ml)])\n",
    "                if len(mi) == 0 or (len(mi) == 1 and mi[0].name == 'H+'):\n",
    "                    lru_rxn2icel_rxn[r].append(ri.id)"
   ]
  },
  {
   "cell_type": "markdown",
   "metadata": {},
   "source": [
    "ATPSYN_RXN is not contained in mito_rxns"
   ]
  },
  {
   "cell_type": "code",
   "execution_count": 357,
   "metadata": {},
   "outputs": [
    {
     "data": {
      "text/plain": [
       "183"
      ]
     },
     "execution_count": 357,
     "metadata": {},
     "output_type": "execute_result"
    }
   ],
   "source": [
    "cyt_mit_trans = []\n",
    "for r in icel.reactions:\n",
    "    if r.id.startswith(\"TCM\"):\n",
    "        if all(m in mapped_icel_mets for m in r.metabolites):\n",
    "            cyt_mit_trans.append(r)\n",
    "            #print(r.build_reaction_string())\n",
    "len(cyt_mit_trans)"
   ]
  },
  {
   "cell_type": "code",
   "execution_count": 358,
   "metadata": {},
   "outputs": [],
   "source": [
    "lru = cobra.io.read_sbml_model(os.path.join(species, \"MetaFlux/LRU.sbml.gz\"))"
   ]
  },
  {
   "cell_type": "code",
   "execution_count": 359,
   "metadata": {},
   "outputs": [],
   "source": [
    "# add ETF (basically an equivalent of FAD) annotations\n",
    "# in the LRU model FAD is only a metabolite in its synthesis pathway while ETF are the electron carriers\n",
    "lru.metabolites.ETF_Reduced_c.annotation['bigg.metabolite'] = 'etfrd'\n",
    "#lru.metabolites.get_by_id('ETF_Reduced_CCO-IN').annotation['bigg.metabolite'] = 'etfrd'\n",
    "lru.metabolites.ETF_Oxidized_c.annotation['bigg.metabolite'] = 'etfox'\n",
    "#lru.metabolites.get_by_id('ETF_Oxidized_CCO-IN').annotation['bigg.metabolite'] = 'etfox'"
   ]
  },
  {
   "cell_type": "code",
   "execution_count": 208,
   "metadata": {},
   "outputs": [],
   "source": [
    "# # add BiGG annotations for ETF_Reduced\n",
    "# lru.metabolites.get_by_id('ETF_Reduced_c').annotation['bigg.metabolite'] = 'fadh2'\n",
    "# lru.metabolites.get_by_id('ETF_Reduced_CCO-IN').annotation['bigg.metabolite'] = 'fadh2'"
   ]
  },
  {
   "cell_type": "code",
   "execution_count": 209,
   "metadata": {},
   "outputs": [],
   "source": [
    "# # unify ETF-Oxidized and FAD\n",
    "# for r in lru.metabolites.get_by_id('ETF_Oxidized_c').reactions:\n",
    "#     replace_metabolite(r, lru.metabolites.get_by_id('ETF_Oxidized_c'), lru.metabolites.get_by_id('FAD_c'))\n",
    "# lru.remove_metabolites([lru.metabolites.get_by_id('ETF_Oxidized_c')])\n",
    "# lru.metabolites.get_by_id('ETF_Oxidized_CCO-IN').id = 'FAD_CCO-IN'\n",
    "# lru.metabolites.get_by_id('FAD_CCO-IN').name = lru.metabolites.FAD_c.name\n",
    "# # TODO: also copy formula, charge\n",
    "# lru.metabolites.get_by_id('FAD_CCO-IN').annotation = lru.metabolites.FAD_c.annotation"
   ]
  },
  {
   "cell_type": "code",
   "execution_count": 360,
   "metadata": {},
   "outputs": [
    {
     "data": {
      "text/plain": [
       "{'c': 'CCO-CYTOSOL',\n",
       " 'm': 'CCO-MIT-LUM',\n",
       " 'T': 'T',\n",
       " 'CCO__45__MIT__45__IMEM': 'CCO-MIT-IMEM',\n",
       " 'CCO__45__IN': 'CCO-IN',\n",
       " 'CCO__45__OUT': 'CCO-OUT',\n",
       " 'e': 'CCO-EXTRACELLULAR'}"
      ]
     },
     "execution_count": 360,
     "metadata": {},
     "output_type": "execute_result"
    }
   ],
   "source": [
    "lru.compartments"
   ]
  },
  {
   "cell_type": "code",
   "execution_count": 361,
   "metadata": {},
   "outputs": [],
   "source": [
    "additional_mito_rxns = [r for r in lru.reactions.list_attr('id') if 'CCO_MIT_LUM' in r]"
   ]
  },
  {
   "cell_type": "code",
   "execution_count": 362,
   "metadata": {},
   "outputs": [],
   "source": [
    "# TODO: are these only mitochondrial?\n",
    "additional_mito_rxns += [\n",
    "    '2OXOGLUTDECARB_RXN', 'RXN0_1147', 'RXN_7716', # 2-oxoglutarate dehydrogenase is split into three subreactions\n",
    "    'SUCCINATE_DEHYDROGENASE_UBIQUINONE_RXN_SUC/UBIQUINONE_8//FUM/CPD_9956.31.', # missing because of incomplete quinone mapping\n",
    "    'RXN_20154', 'RXN_20155' # subreactions of acetyl-CoA-acetyltransferase\n",
    "]\n",
    "# move beta-oxidation (reactions of pathway FAO-PWY) of regular FA\n",
    "# into mitochondrion (peroxisome, if present, is probably used for (very-) long chain FA)\n",
    "for r in lru.reactions:\n",
    "    if 'FAO-PWY' in r.annotation.get('biocyc.pathway', []):\n",
    "        additional_mito_rxns.append(r.id)\n",
    "        only_mito_rxns.add(r.id)"
   ]
  },
  {
   "cell_type": "markdown",
   "metadata": {},
   "source": [
    "iCEL1314 has lumped palmitate synthesis in cytsol (RCC0020) and beta-oxidation also in the cytosol. There are some FA-related reactions in the mitochondrion. ACP metabolites are not in this model."
   ]
  },
  {
   "cell_type": "code",
   "execution_count": 366,
   "metadata": {},
   "outputs": [],
   "source": [
    "# make decarboxylases irreversible (most already are)\n",
    "if species == 'lumbricus_rubellus':\n",
    "    for r in lru.reactions.get_by_any([\n",
    "        'ASPDECARBOX_RXN', 'PHOSPHASERDECARB_RXN', 'SULFINOALANINE_DECARBOXYLASE_RXN']):\n",
    "        r.lower_bound = 0"
   ]
  },
  {
   "cell_type": "code",
   "execution_count": 367,
   "metadata": {},
   "outputs": [],
   "source": [
    "# make some reactions from respiration irreversible in their physiological direction\n",
    "for r in lru.reactions.get_by_any([\n",
    "    'RXN_15829_CPD_9956/Oxidized_CycA1_cytochromes/PROTON//UBIQUINONE_8/Reduced_CycA1_cytochromes/PROTON.90.', 'NADH_DEHYDROG_A_RXN_NADH/UBIQUINONE_8/PROTON//NAD/CPD_9956/PROTON.46.']):\n",
    "    r.lower_bound = 0"
   ]
  },
  {
   "cell_type": "code",
   "execution_count": 368,
   "metadata": {},
   "outputs": [],
   "source": [
    "# properly name exchange reactions (with BiGG ID where possible)\n",
    "for r in lru.boundary:\n",
    "    m = list(r.metabolites.keys())[0]\n",
    "    r.id = 'EX_' + m.annotation.get('bigg.metabolite', m.id) + '_' + m.compartment"
   ]
  },
  {
   "cell_type": "markdown",
   "metadata": {},
   "source": [
    "Pyruvate is transported into the mitochondrion and PDC produces Acetyl-CoA there. A malate/aspartate shuttle transports NADH from the cytosol to the mitochondrion lumen.\n",
    "\n",
    "In iCEL1314 respiration and ATP synthase exchange protons between mitochondrion and cytosol, not the intermembrane space. 46 ATP per glucose are being produced which is too high."
   ]
  },
  {
   "cell_type": "code",
   "execution_count": 369,
   "metadata": {},
   "outputs": [],
   "source": [
    "for m in lru.metabolites:\n",
    "    biocyc_id = get_biocyc_id(m)\n",
    "    # if biocyc_id in only_mitochondrial_metabolites:\n",
    "    #     m.id = metabolite_id_for_compartment(m, 'm')\n",
    "    #     m.compartment = 'm'\n",
    "    # elif biocyc_id in lru2icel and any(mi.compartment == 'm' for mi in lru2icel[biocyc_id]):\n",
    "    if biocyc_id in lru2icel and any(mi.compartment == 'm' for mi in lru2icel[biocyc_id]): # always copy to prevent reactions with mixed metabolites\n",
    "        mm = m.copy()\n",
    "        mm.id = metabolite_id_for_compartment(mm, 'm')\n",
    "        mm.compartment = 'm'\n",
    "        lru.add_metabolites([mm])"
   ]
  },
  {
   "cell_type": "code",
   "execution_count": 370,
   "metadata": {},
   "outputs": [
    {
     "data": {
      "text/plain": [
       "['CPD_9956_T', 'UBIQUINONE_8_T']"
      ]
     },
     "execution_count": 370,
     "metadata": {},
     "output_type": "execute_result"
    }
   ],
   "source": [
    "[m.id for m in lru.metabolites if m.compartment == 'T']"
   ]
  },
  {
   "cell_type": "code",
   "execution_count": 371,
   "metadata": {},
   "outputs": [
    {
     "data": {
      "text/plain": [
       "['Oxidized_CycA1_cytochromes_CCO-OUT',\n",
       " 'PROTON_CCO-OUT',\n",
       " 'Reduced_CycA1_cytochromes_CCO-OUT']"
      ]
     },
     "execution_count": 371,
     "metadata": {},
     "output_type": "execute_result"
    }
   ],
   "source": [
    "[m.id for m in lru.metabolites if m.compartment == 'CCO__45__OUT']"
   ]
  },
  {
   "cell_type": "code",
   "execution_count": 372,
   "metadata": {},
   "outputs": [
    {
     "data": {
      "text/plain": [
       "['CPD_9956_CCO-MIT-IMEM', 'UBIQUINONE_8_CCO-MIT-IMEM']"
      ]
     },
     "execution_count": 372,
     "metadata": {},
     "output_type": "execute_result"
    }
   ],
   "source": [
    "[m.id for m in lru.metabolites if m.compartment == 'CCO__45__MIT__45__IMEM']"
   ]
  },
  {
   "cell_type": "markdown",
   "metadata": {},
   "source": [
    "compartment CCO-OUT-CCO-IN does not contain any metabolites"
   ]
  },
  {
   "cell_type": "code",
   "execution_count": 373,
   "metadata": {},
   "outputs": [
    {
     "name": "stdout",
     "output_type": "stream",
     "text": [
      "FUM_CCO-IN -> FUM_m\n",
      "PROTON_CCO-IN -> PROTON_m\n",
      "SUC_CCO-IN -> SUC_m\n",
      "CPD_9956_T -> CPD_9956_m\n",
      "UBIQUINONE_8_T -> UBIQUINONE_8_m\n"
     ]
    }
   ],
   "source": [
    "move_metabolite_compartments(lru, \"CCO-IN\", \"m\")\n",
    "move_metabolite_compartments(lru, \"T\", \"m\")"
   ]
  },
  {
   "cell_type": "markdown",
   "metadata": {},
   "source": [
    "rename both CCO-OUT and CCO-MIT-IMEM to CCO_MIT_IMEM, otherwise there will be an issue with loading/saving of the model"
   ]
  },
  {
   "cell_type": "code",
   "execution_count": 374,
   "metadata": {},
   "outputs": [
    {
     "name": "stdout",
     "output_type": "stream",
     "text": [
      "Oxidized_CycA1_cytochromes_CCO-OUT -> Oxidized_CycA1_cytochromes_CCO_MIT_IMEM\n",
      "PROTON_CCO-OUT -> PROTON_CCO_MIT_IMEM\n",
      "Reduced_CycA1_cytochromes_CCO-OUT -> Reduced_CycA1_cytochromes_CCO_MIT_IMEM\n"
     ]
    }
   ],
   "source": [
    "move_metabolite_compartments(lru, \"CCO-OUT\", \"CCO_MIT_IMEM\")"
   ]
  },
  {
   "cell_type": "code",
   "execution_count": 375,
   "metadata": {},
   "outputs": [
    {
     "name": "stdout",
     "output_type": "stream",
     "text": [
      "CPD_9956_CCO-MIT-IMEM -> CPD_9956_CCO_MIT_IMEM\n",
      "UBIQUINONE_8_CCO-MIT-IMEM -> UBIQUINONE_8_CCO_MIT_IMEM\n"
     ]
    }
   ],
   "source": [
    "move_metabolite_compartments(lru, \"CCO-MIT-IMEM\", \"CCO_MIT_IMEM\")"
   ]
  },
  {
   "cell_type": "code",
   "execution_count": 376,
   "metadata": {},
   "outputs": [],
   "source": [
    "# add additional mitochondrial metabolites where necessary\n",
    "for m in reduce(set.union, (set(r.metabolites) for r in lru.reactions.get_by_any(additional_mito_rxns))):\n",
    "    mm_id = metabolite_id_for_compartment(m, 'm')\n",
    "    if mm_id not in lru.metabolites:\n",
    "        mm = m.copy()\n",
    "        mm.id = mm_id\n",
    "        mm.compartment = 'm'\n",
    "        lru.add_metabolites([mm])"
   ]
  },
  {
   "cell_type": "code",
   "execution_count": 377,
   "metadata": {},
   "outputs": [],
   "source": [
    "icel2lru = dict() # mapping of metabolite ID stems\n",
    "for m in lru.metabolites:\n",
    "    biocyc_id = get_biocyc_id(m)\n",
    "    if biocyc_id in lru2icel:\n",
    "        stem = {mi.id[:-len(mi.compartment)-1] for mi in lru2icel[biocyc_id]}\n",
    "        if len(stem) != 1:\n",
    "            print(biocyc_id, stem)\n",
    "        for s in stem:\n",
    "            icel2lru[s] = m.id[:-len(m.compartment)-1]\n",
    "# icel2lru['fadh2'] = 'ETF_Reduced'"
   ]
  },
  {
   "cell_type": "code",
   "execution_count": 378,
   "metadata": {},
   "outputs": [
    {
     "name": "stdout",
     "output_type": "stream",
     "text": [
      "TCM0108 {'charge': 1.0, 'H': 1.0} ATP_c + PHOSPHATIDYLCHOLINE_m + WATER_c --> ADP_c + CPD_16459_c + PHOSPHATIDYLCHOLINE_c + PROTON_c\n",
      "TCM2002 {'charge': 1.0, 'H': 1.0} ATP_c + L_1_PHOSPHATIDYL_SERINE_c + WATER_c --> ADP_c + CPD_16459_c + L_1_PHOSPHATIDYL_SERINE_m + PROTON_c\n"
     ]
    }
   ],
   "source": [
    "for r in cyt_mit_trans:\n",
    "    rl = cobra.Reaction(r.id, name=r.name)\n",
    "    rl.bounds = r.bounds\n",
    "    lru.add_reactions([rl])\n",
    "    rl.add_metabolites({icel2lru[m.id[:-len(m.compartment)-1]]+'_'+m.compartment:c for m,c in r.metabolites.items()})\n",
    "    mb = rl.check_mass_balance()\n",
    "    if len(mb):\n",
    "        print(rl.id, mb, rl.build_reaction_string())"
   ]
  },
  {
   "cell_type": "markdown",
   "metadata": {},
   "source": [
    "above can be fixed by removing the proton on RHS"
   ]
  },
  {
   "cell_type": "code",
   "execution_count": 379,
   "metadata": {},
   "outputs": [],
   "source": [
    "for r in lru.reactions.get_by_any(list(mito_rxns.union(additional_mito_rxns))):\n",
    "    if any(m.id.endswith(\"_CCO-OUT\") for m in r.metabolites):\n",
    "        print(r.id, r.build_reaction_string())\n",
    "        continue\n",
    "    rm = r.copy() # for now make copies in all cases\n",
    "    rm.id = rm.id + '_m'\n",
    "    lru.add_reactions([rm])\n",
    "    for m in list(rm.metabolites.keys()): # make a list copy because rm.metabolites changes in this loop\n",
    "        replace_metabolite(rm, m, lru.metabolites.get_by_id(metabolite_id_for_compartment(m, 'm')))\n",
    "    "
   ]
  },
  {
   "cell_type": "code",
   "execution_count": 380,
   "metadata": {},
   "outputs": [],
   "source": [
    "lru.reactions.EX_co2_c.bounds = (-1, 1000)"
   ]
  },
  {
   "cell_type": "code",
   "execution_count": 297,
   "metadata": {},
   "outputs": [],
   "source": [
    "import os\n",
    "os.environ['JAVA_HOME'] = 'E:\\\\mpi\\\\cnapy-1.2.3\\\\cnapy-environment\\\\Library'"
   ]
  },
  {
   "cell_type": "code",
   "execution_count": 381,
   "metadata": {},
   "outputs": [
    {
     "name": "stdout",
     "output_type": "stream",
     "text": [
      "ACP_m remains unchanged\n",
      "ACP_c remains unchanged\n"
     ]
    }
   ],
   "source": [
    "from cnapy.core import replace_ids\n",
    "replace_ids(lru.metabolites, 'bigg.metabolite', unique_only=True)"
   ]
  },
  {
   "cell_type": "code",
   "execution_count": 299,
   "metadata": {},
   "outputs": [],
   "source": [
    "# # rename metabolites in reaction IDs of generic reactions\n",
    "# for r in lru.reactions:\n",
    "#     if r'/' in r.id:\n",
    "#         new_id = r.id\n",
    "#         for m in r.metabolites:\n",
    "#             biocyc_id = get_biocyc_id(m)\n",
    "#             if biocyc_id:\n",
    "#                 new_id = new_id.replace(biocyc_id.replace('-', '_'), m.id[:-2])\n",
    "#         r.id = new_id"
   ]
  },
  {
   "attachments": {},
   "cell_type": "markdown",
   "metadata": {},
   "source": [
    "ATP hydrolysis in the cytosol produces one proton while ATP synthesis in the mitochondrion takes up one proton. To ensure this is equibrilated the phospate transport between these compartments is modified (cf. Edmund RS Kunji, Alan J Robinson, Coupling of proton and substrate translocation in the transport cycle of mitochondrial carriers, Current Opinion in Structural Biology, 2010).\n",
    "\n",
    "In BiGG the typical eukaryotic mitochondrial phosphate transport is also a proton symport."
   ]
  },
  {
   "cell_type": "code",
   "execution_count": 382,
   "metadata": {},
   "outputs": [],
   "source": [
    "lru.reactions.TCM1292.id = 'PIt2m'\n",
    "lru.reactions.PIt2m.name = \"Phosphate transporter mitochondrial\"\n",
    "lru.reactions.PIt2m.build_reaction_from_string(\"Pi_c + h_c <=> Pi_m + h_m\")\n",
    "lru.reactions.PIt2m.annotation.clear()"
   ]
  },
  {
   "cell_type": "code",
   "execution_count": 383,
   "metadata": {},
   "outputs": [],
   "source": [
    "lru.remove_reactions(only_mito_rxns - {'ATPSYN_RXN'}, remove_orphans=True) # no copy of ATPSYN_RXN was made because of CCO-OUT metabolite"
   ]
  },
  {
   "cell_type": "code",
   "execution_count": 384,
   "metadata": {},
   "outputs": [],
   "source": [
    "# there is only mitochondrial NAD-dependent pyruvate dehydrogenase (RM00209) in the iCEL1314 model\n",
    "lru.reactions.get_by_id('PYRUVATE_DEHYDROGENASE_NADP+_RXN').id = 'PDHm'\n",
    "lru.reactions.PDHm.name = 'Pyruvate dehydrogenase'\n",
    "lru.reactions.PDHm.build_reaction_from_string(\"coa_m + nad_m + pyr_m --> accoa_m + co2_m + nadh_m\")\n",
    "lru.reactions.PDHm.annotation.clear()\n",
    "lru.reactions.PDHm.annotation['kegg.reaction'] = 'R00209'"
   ]
  },
  {
   "cell_type": "code",
   "execution_count": 385,
   "metadata": {},
   "outputs": [],
   "source": [
    "# In BiGG the typical eukaryotic pyruvate mitochondrial transport is via proton symport.\n",
    "# Without the proton symport the model uses weird ways to equilibrate the proton imbalance.\n",
    "lru.reactions.TCM1280.id = 'PYRt2m' \n",
    "lru.reactions.PYRt2m.name = \"Pyruvate mitochondrial transport via proton symport\"\n",
    "lru.reactions.PYRt2m.build_reaction_from_string(\"pyr_c + h_c <=> pyr_m + h_m\")\n",
    "lru.reactions.PYRt2m.annotation.clear()"
   ]
  },
  {
   "cell_type": "code",
   "execution_count": 386,
   "metadata": {},
   "outputs": [],
   "source": [
    "lru._compartments['CCO_MIT_IMEM'] = 'CCO-MIT-IMEM'"
   ]
  },
  {
   "cell_type": "code",
   "execution_count": 388,
   "metadata": {},
   "outputs": [],
   "source": [
    "cobra.io.write_sbml_model(lru, os.path.join(species, \"metabolic_model\", \"compartment_model.sbml.gz\"))"
   ]
  },
  {
   "cell_type": "code",
   "execution_count": 389,
   "metadata": {},
   "outputs": [],
   "source": [
    "lru = cobra.io.read_sbml_model(os.path.join(species, \"metabolic_model\", \"compartment_model.sbml.gz\"))"
   ]
  },
  {
   "cell_type": "code",
   "execution_count": 390,
   "metadata": {},
   "outputs": [
    {
     "data": {
      "text/plain": [
       "5.386608297091999"
      ]
     },
     "execution_count": 390,
     "metadata": {},
     "output_type": "execute_result"
    }
   ],
   "source": [
    "lru.slim_optimize()"
   ]
  },
  {
   "cell_type": "code",
   "execution_count": 391,
   "metadata": {},
   "outputs": [
    {
     "name": "stdout",
     "output_type": "stream",
     "text": [
      "RXN_14812_FRUCTOSE_6P//FRUCTOSE_6P.25.:  <=> \n"
     ]
    }
   ],
   "source": [
    "# reactions without metabolites\n",
    "for r in lru.reactions:\n",
    "    if len(r.metabolites) == 0:\n",
    "        print(r)"
   ]
  },
  {
   "cell_type": "code",
   "execution_count": 392,
   "metadata": {},
   "outputs": [],
   "source": [
    "lru.remove_reactions(['RXN_14812_FRUCTOSE_6P//FRUCTOSE_6P.25.'])"
   ]
  },
  {
   "cell_type": "code",
   "execution_count": 393,
   "metadata": {},
   "outputs": [
    {
     "name": "stdout",
     "output_type": "stream",
     "text": [
      "TRANS_2_ENOYL_COA_REDUCTASE_NAD+_RXN_STEAROYL_COA/NAD//CPD_10262/NADH/PROTON.40.: h_c + nadh_c + od2coa_c --> nad_c + stcoa_c []\n",
      "RXN_9673: atp_c + coa_c + lnlc_c --> amp_c + lnlccoa_c + ppi_c []\n",
      "TRANS_2_ENOYL_COA_REDUCTASE_NAD+_RXN_LAUROYLCOA_CPD/NAD//CPD_7222/NADH/PROTON.41.: dd2coa_c + h_c + nadh_c --> ddcacoa_c + nad_c []\n",
      "RXN_10811: coa_c + h2o_c --> 2.0 h_c + pan4p_c + pap_c []\n",
      "TRANS_2_ENOYL_COA_REDUCTASE_NAD+_RXN_PALMITYL_COA/NAD//CPD0_2117/NADH/PROTON.40.: h_c + hdd2coa_c + nadh_c --> nad_c + pmtcoa_c []\n",
      "NAD_KIN_RXN: atp_c + nad_c --> adp_c + h_c + nadp_c []\n",
      "ACETALD_DEHYDROG_RXN: acald_c + coa_c + nad_c --> accoa_c + h_c + nadh_c []\n",
      "2.7.4.10_RXN_ITP/AMP//IDP/ADP.17.: amp_c + itp_c <=> adp_c + idp_c []\n",
      "RXN_10745_NADH/PROTON/OXYGEN_MOLECULE//HYDROGEN_PEROXIDE/NAD.51.: h_c + nadh_c + o2_c --> h2o2_c + nad_c []\n",
      "RIBOSYLNICOTINAMIDE_KINASE_RXN: atp_c + rnam_c --> adp_c + h_c + nmn_c []\n",
      "RXN_7904_STEARIC_ACID/CO_A/ATP//STEAROYL_COA/AMP/PPI.44.: atp_c + coa_c + ocdca_c --> amp_c + ppi_c + stcoa_c []\n",
      "RXN_12545: adp_c + gam_c --> amp_c + gam6p_c + h_c []\n",
      "CYTIDINEKIN_RXN: cytd_c + gtp_c --> cmp_c + gdp_c + h_c []\n",
      "RXN_14117: gdp_c + h_c + pep_c --> gtp_c + pyr_c []\n",
      "2.7.4.10_RXN_DCTP/AMP//DCDP/ADP.19.: amp_c + dctp_c <=> adp_c + dcdp_c []\n",
      "2.7.4.10_RXN_CTP/AMP//CDP/ADP.17.: amp_c + ctp_c <=> adp_c + cdp_c []\n",
      "RXN_18356: 3sala_c + h2o_c + nad_c --> Lcyst_c + h_c + nadh_c []\n",
      "TRIOKINASE_RXN: atp_c + glyald_c <=> adp_c + g3p_c + h_c []\n",
      "2.4.2.12_RXN: h_c + ncam_c + prpp_c --> nmn_c + ppi_c []\n",
      "PYRIDOXINE_4_DEHYDROGENASE_RXN: nadp_c + pydxn_c <=> h_c + nadph_c + pydx_c []\n",
      "GLYCOLATE_REDUCTASE_RXN: glyclt_c + nad_c <=> glx_c + h_c + nadh_c []\n",
      "RXN_9614: cdpchol_c + h2o_c --> cholp_c + cmp_c + 2.0 h_c []\n",
      "GLYOXYLATE_REDUCTASE_NADP+_RXN: glx_c + h_c + nadph_c --> glyclt_c + nadp_c []\n",
      "GLYC3PDEHYDROGBIOSYN_RXN_GLYCEROL_3P/NADP//DIHYDROXY_ACETONE_PHOSPHATE/NADPH/PROTON.59.: dhap_c + h_c + nadph_c --> glyc3p_c + nadp_c []\n",
      "RXN_12481: itp_c + oaa_c <=> co2_c + idp_c + pep_c []\n",
      "RXN_19024: gthrd_c --> 5oxpro_c + cgly_c []\n",
      "PROPIONATE_COA_TRANSFERASE_RXN: accoa_c + ppa_c --> ac_c + ppcoa_c []\n",
      "2.7.4.10_RXN_DATP/AMP//DADP/ADP.19.: amp_c + datp_c <=> adp_c + dadp_c []\n",
      "RXN66_1[CCO_CYTOSOL]_ETOH/HYDROGEN_PEROXIDE//ACETALD/WATER.51.: etoh_c + h2o2_c --> acald_c + 2.0 h2o_c []\n",
      "OXALODECARB_RXN: h_c + oaa_c --> co2_c + pyr_c []\n",
      "RXN_14207: dgdp_c + h_c + pep_c --> dgtp_c + pyr_c []\n",
      "TRANS_2_ENOYL_COA_REDUCTASE_NAD+_RXN_CPD_10267/NAD//T2_DECENOYL_COA/NADH/PROTON.43.: dc2coa_c + h_c + nadh_c --> dcacoa_c + nad_c []\n",
      "DEOXYGUANOSINE_KINASE_RXN: atp_c + dgsn_c --> adp_c + dgmp_c + h_c []\n",
      "RXN_8443: atp_c + nicrns_c --> adp_c + h_c + nicrnt_c []\n",
      "2.7.4.10_RXN_DUTP/AMP//DUDP/ADP.19.: amp_c + dutp_c <=> adp_c + dudp_c []\n",
      "DCTP_PYROPHOSPHATASE_RXN: dctp_c + h2o_c --> dcmp_c + h_c + ppi_c []\n",
      "URKI_RXN: gtp_c + uri_c --> gdp_c + h_c + ump_c []\n",
      "RXN0_383: ctp_c + h2o_c --> cmp_c + h_c + ppi_c []\n",
      "TCM0105: dgdp_m + dtdp_c --> dgdp_c + dtdp_m ['TCM0105', 'TCM0172']\n",
      "TCM0101: dadp_c + dudp_m --> dadp_m + dudp_c ['TCM0175', 'TCM0101']\n",
      "TCM0172: dgdp_c + dtdp_m --> dgdp_m + dtdp_c ['TCM0105', 'TCM0172']\n",
      "TCM0171: dadp_c + dgdp_m --> dadp_m + dgdp_c ['TCM0171', 'TCM0066']\n",
      "TCM0175: dadp_m + dudp_c --> dadp_c + dudp_m ['TCM0175', 'TCM0101']\n",
      "TCM0163: dcdp_m + dtdp_c --> dcdp_c + dtdp_m ['TCM0163', 'TCM0128']\n",
      "TCM0156: dtdp_m + dudp_c --> dtdp_c + dudp_m ['TCM0156', 'TCM0208']\n",
      "TCM5058: 2obut_m --> 2obut_c ['TCM5059', 'TCM5058']\n",
      "TCM0066: dadp_m + dgdp_c --> dadp_c + dgdp_m ['TCM0171', 'TCM0066']\n",
      "TCM0208: dtdp_c + dudp_m --> dtdp_m + dudp_c ['TCM0208', 'TCM0156']\n",
      "TCM0076: dgdp_m + dudp_c --> dgdp_c + dudp_m ['TCM0114', 'TCM0076']\n",
      "TCM0083: dcdp_c + dgdp_m --> dcdp_m + dgdp_c ['TCM0099', 'TCM0083']\n",
      "TCM0081: dadp_c + dtdp_m --> dadp_m + dtdp_c ['TCM0206', 'TCM0081']\n",
      "TCM0099: dcdp_m + dgdp_c --> dcdp_c + dgdp_m ['TCM0099', 'TCM0083']\n",
      "TCM0222: dadp_c + dcdp_m --> dadp_m + dcdp_c ['TCM0121', 'TCM0222']\n",
      "TCM5059: 2obut_c --> 2obut_m ['TCM5059', 'TCM5058']\n",
      "TCM0125: dcdp_m + dudp_c --> dcdp_c + dudp_m ['TCM0110', 'TCM0125']\n",
      "TCM0121: dadp_m + dcdp_c --> dadp_c + dcdp_m ['TCM0121', 'TCM0222']\n",
      "TCM0128: dcdp_c + dtdp_m --> dcdp_m + dtdp_c ['TCM0163', 'TCM0128']\n",
      "TCM0206: dadp_m + dtdp_c --> dadp_c + dtdp_m ['TCM0206', 'TCM0081']\n",
      "TCM0110: dcdp_c + dudp_m --> dcdp_m + dudp_c ['TCM0110', 'TCM0125']\n",
      "TCM0114: dgdp_c + dudp_m --> dgdp_m + dudp_c ['TCM0114', 'TCM0076']\n"
     ]
    }
   ],
   "source": [
    "for r in lru.reactions:\n",
    "    if not r.boundary and all('bigg.metabolite' in m.annotation for m in r.metabolites) and all(m.id in icel.metabolites for m in r.metabolites if m.name != 'H+'):\n",
    "        rxns = reduce(set.intersection, (set(icel.metabolites.get_by_id(m.id).reactions) for m in r.metabolites if m.name != 'H+'))\n",
    "        lru_mets = {m.id for m in r.metabolites if m.name != 'H+'}\n",
    "        candidates = []\n",
    "        for ri in rxns:\n",
    "            if lru_mets == {m.id for m in ri.metabolites if m.name != 'H+'}:\n",
    "                candidates.append(ri.id)\n",
    "        if len(candidates) != 1:\n",
    "            print(r, candidates)\n",
    "        r.annotation['iCEL1314.reaction'] = candidates\n",
    "        if r.id == 'BUTYRYL_COA_DEHYDROGENASE_RXN_m':\n",
    "            break"
   ]
  },
  {
   "cell_type": "code",
   "execution_count": 394,
   "metadata": {},
   "outputs": [],
   "source": [
    "cobra.io.write_sbml_model(lru, os.path.join(species, \"metabolic_model\", \"compartment_model.sbml.gz\"))"
   ]
  },
  {
   "attachments": {},
   "cell_type": "markdown",
   "metadata": {},
   "source": [
    "ATPASE_RXN is present."
   ]
  },
  {
   "cell_type": "markdown",
   "metadata": {},
   "source": [
    "Some metabolites like ubiquinone are more specific in LRU compared to iCEL1314 and therefore not mapped, for these an 'iCEL1314.metabolite' annotation could be introduced."
   ]
  },
  {
   "cell_type": "markdown",
   "metadata": {},
   "source": [
    "PDH is not a complex in LRU because BioCyc models the three steps of the PDH complex separately as distinct reactions."
   ]
  },
  {
   "cell_type": "code",
   "execution_count": 396,
   "metadata": {},
   "outputs": [
    {
     "name": "stdout",
     "output_type": "stream",
     "text": [
      "BIOMASS_EQUATION {'charge': 0.8254660530000137, 'C': -6.564236705500065, 'H': -10.828701109000008, 'N': -2.076681466000011, 'O': -4.91405648600022, 'P': -0.6358068730000141, 'S': -0.078938609} 1e-05 CPD1G_277_c + 1e-05 CPD_22020_c + 0.070647635 ala__L_c + 0.011312218 amet_c + 0.040727146 arg__L_c + 0.033155132 asp__L_c + 20.03057 atp_c + 0.011312218 coa_c + 0.026018102 ctp_c + 0.012571015 cys__L_c + 0.010855213 datp_c + 0.01120361 dctp_c + 0.01120361 dgtp_c + 0.010855213 dttp_c + 0.011312218 fad_c + 0.036169235 gln__L_c + 0.036169235 glu__L_c + 0.084174335 gly_c + 0.03500503 gtp_c + 20.0 h2o_c + 1e-05 hdca_c + 0.013085618 his__L_c + 0.039918486 ile__L_c + 0.061972897 leu__L_c + 0.047122926 lys__L_c + 0.021098722 met__L_c + 0.011312218 nad_c + 0.011312218 nadp_c + 1e-05 ocdca_c + 0.025509601 phe__L_c + 0.030435089 pro__L_c + 0.011312218 pydx5p_c + 0.011312218 ribflv_c + 0.029626427 ser__L_c + 0.011312218 so4_c + 0.011312218 thmpp_c + 0.034845974 thr__L_c + 0.0077925585 trp__L_c + 0.018966794 tyr__L_c + 0.027185235 utp_c + 0.05815014 val__L_c --> 20.0 Pi_c + 20.0 adp_c + 20.0 h_c\n",
      "RXN_12555 {'Ux': 1.0} CPD_882_c + Retinaldehyde_binding_proteins_c --> 11C_Retinol_RALBPs_c\n",
      "RXN_12556 {'Ux': -1.0} 11C_Retinal_RALBPs_c --> Retinaldehyde_binding_proteins_c + retinal_11_cis_c\n",
      "RXN_12549 {'Vr': 1.0} Retinol_Binding_Proteins_c + retinol_c <=> RPB_Retinol_c\n",
      "TCM0108 {'charge': 1.0, 'H': 1.0} PHOSPHATIDYLCHOLINE_m + atp_c + h2o_c --> CPD_16459_c + PHOSPHATIDYLCHOLINE_c + adp_c + h_c\n",
      "TCM2002 {'charge': 1.0, 'H': 1.0} L_1_PHOSPHATIDYL_SERINE_c + atp_c + h2o_c --> CPD_16459_c + L_1_PHOSPHATIDYL_SERINE_m + adp_c + h_c\n",
      "SUCCINATE_DEHYDROGENASE_UBIQUINONE_RXN_SUC/UBIQUINONE_8//FUM/CPD_9956.31._m {'H': -2.0} q8_m + 2.0 succ_m --> 2.0 fum_m + q8h2_m\n"
     ]
    }
   ],
   "source": [
    "for r in lru.reactions:\n",
    "    if not r.boundary:\n",
    "        mb = r.check_mass_balance()\n",
    "        if len(mb):\n",
    "            print(r.id, mb, r.build_reaction_string())"
   ]
  },
  {
   "cell_type": "code",
   "execution_count": 397,
   "metadata": {},
   "outputs": [
    {
     "data": {
      "text/plain": [
       "[<Metabolite trnaala_m at 0x7fb7cb31e090>,\n",
       " <Metabolite L2aadp6sa_m at 0x7fb7cb340f50>,\n",
       " <Metabolite nh3_m at 0x7fb7cb31ef90>,\n",
       " <Metabolite ARACHIDONYL_COA_m at 0x7fb7cb348c10>,\n",
       " <Metabolite trnaasp_m at 0x7fb7cb34bd50>,\n",
       " <Metabolite CO3_m at 0x7fb8583a1dd0>,\n",
       " <Metabolite 2mop_m at 0x7fb85839b990>,\n",
       " <Metabolite CPD_14018_m at 0x7fb85839bd10>,\n",
       " <Metabolite CPD_14394_m at 0x7fb858397190>,\n",
       " <Metabolite CPD_14407_m at 0x7fb858397510>,\n",
       " <Metabolite lnlccoa_m at 0x7fb858397c10>,\n",
       " <Metabolite CPD_1843_m at 0x7fb858382050>,\n",
       " <Metabolite CPD_846_m at 0x7fb858381950>,\n",
       " <Metabolite H2CO3_m at 0x7fb8583b2cd0>,\n",
       " <Metabolite HSO3_m at 0x7fb8583b6c10>,\n",
       " <Metabolite OLEOYL_COA_m at 0x7fb85838bf90>,\n",
       " <Metabolite pppi_m at 0x7fb7cbf8d5d0>,\n",
       " <Metabolite Red_Thioredoxin_m at 0x7fb7cbf86050>,\n",
       " <Metabolite trnatrp_m at 0x7fb7cbf92650>,\n",
       " <Metabolite trnatyr_m at 0x7fb7cbf837d0>]"
      ]
     },
     "execution_count": 397,
     "metadata": {},
     "output_type": "execute_result"
    }
   ],
   "source": [
    "[m for m in lru.metabolites if len(m.reactions) == 0]"
   ]
  },
  {
   "cell_type": "code",
   "execution_count": 3,
   "metadata": {},
   "outputs": [],
   "source": [
    "lru = cobra.io.read_sbml_model(os.path.join(species, \"metabolic_model\", \"compartment_model.sbml.gz\"))"
   ]
  },
  {
   "cell_type": "markdown",
   "metadata": {},
   "source": [
    "correct missing mitochondrial intermembrane metabolites"
   ]
  },
  {
   "cell_type": "code",
   "execution_count": 4,
   "metadata": {},
   "outputs": [],
   "source": [
    "m = lru.metabolites.h_c.copy()\n",
    "m.id = 'h_i'\n",
    "m.compartment = 'i'\n",
    "lru.add_metabolites([m])\n",
    "lru._compartments['i'] = 'mitochondrial intermembrane space'"
   ]
  },
  {
   "cell_type": "code",
   "execution_count": 5,
   "metadata": {},
   "outputs": [],
   "source": [
    "lru.reactions.get_by_id('ATPSYN_RXN[CCO_MIT_IMEM]_ATP/WATER/PROTON//ADP/Pi/PROTON.46.').add_metabolites(\n",
    "    {lru.metabolites.h_m: 4, lru.metabolites.h_i: -4})"
   ]
  },
  {
   "cell_type": "code",
   "execution_count": 6,
   "metadata": {},
   "outputs": [
    {
     "name": "stdout",
     "output_type": "stream",
     "text": [
      "2.0 Cytochromes_C_Oxidized_m + 2.0 h_m + q8h2_CCO_MIT_IMEM --> 2.0 Cytochromes_C_Reduced_m + 4 h_i + q8_CCO_MIT_IMEM\n",
      "2.0 Oxidized_CycA1_cytochromes_m + 2.0 h_m + q8h2_CCO_MIT_IMEM --> 2.0 Reduced_CycA1_cytochromes_m + 4 h_i + q8_CCO_MIT_IMEM\n",
      "2.0 Oxidized_cytochromes_C4_m + 2.0 h_m + q8h2_CCO_MIT_IMEM --> 2.0 Reduced_cytochromes_C4_m + 4 h_i + q8_CCO_MIT_IMEM\n",
      "2.0 an_oxidized_NrfB_protein_m + 2.0 h_m + q8h2_CCO_MIT_IMEM --> 2.0 a_reduced_NrfB_protein_m + 4 h_i + q8_CCO_MIT_IMEM\n",
      "2.0 Oxidized_NapC_proteins_m + 2.0 h_m + q8h2_CCO_MIT_IMEM --> 2.0 Reduced_NapC_proteins_m + 4 h_i + q8_CCO_MIT_IMEM\n",
      "2.0 Oxidized_CymA_Proteins_m + 2.0 h_m + q8h2_CCO_MIT_IMEM --> 2.0 Reduced_CymA_Proteins_m + 4 h_i + q8_CCO_MIT_IMEM\n"
     ]
    }
   ],
   "source": [
    "for r in lru.reactions:\n",
    "    if r.id.startswith('1.10.2.2_RXN'):\n",
    "        r.add_metabolites({lru.metabolites.h_m: -4, lru.metabolites.h_i: 4})\n",
    "        print(r.build_reaction_string())"
   ]
  },
  {
   "cell_type": "code",
   "execution_count": 7,
   "metadata": {},
   "outputs": [
    {
     "name": "stdout",
     "output_type": "stream",
     "text": [
      "2.0 an_oxidized_NrfB_protein_m + 2.0 h_m + q8h2_CCO_MIT_IMEM --> 2.0 a_reduced_NrfB_protein_m + 4 h_i + q8_CCO_MIT_IMEM\n",
      "2.0 Oxidized_CymA_Proteins_m + 2.0 h_m + q8h2_CCO_MIT_IMEM --> 2.0 Reduced_CymA_Proteins_m + 4 h_i + q8_CCO_MIT_IMEM\n",
      "2.0 Oxidized_cytochromes_C4_m + 2.0 h_m + q8h2_CCO_MIT_IMEM --> 2.0 Reduced_cytochromes_C4_m + 4 h_i + q8_CCO_MIT_IMEM\n",
      "2.0 Oxidized_CycA1_cytochromes_m + 2.0 h_m + q8h2_CCO_MIT_IMEM --> 2.0 Reduced_CycA1_cytochromes_m + 4 h_i + q8_CCO_MIT_IMEM\n",
      "2.0 Oxidized_NapC_proteins_m + 2.0 h_m + q8h2_CCO_MIT_IMEM --> 2.0 Reduced_NapC_proteins_m + 4 h_i + q8_CCO_MIT_IMEM\n",
      "2.0 Cytochromes_C_Oxidized_m + 2.0 h_m + q8h2_CCO_MIT_IMEM --> 2.0 Cytochromes_C_Reduced_m + 4 h_i + q8_CCO_MIT_IMEM\n"
     ]
    }
   ],
   "source": [
    "for r in lru.reactions:\n",
    "    if r.id.startswith('RXN_15816'):\n",
    "        r.add_metabolites({lru.metabolites.h_m: -4, lru.metabolites.h_i: 4})\n",
    "        print(r.build_reaction_string())"
   ]
  },
  {
   "cell_type": "code",
   "execution_count": 8,
   "metadata": {},
   "outputs": [],
   "source": [
    "lru.reactions.get_by_id('NADH_DEHYDROG_A_RXN_NADH/UBIQUINONE_8/PROTON//NAD/CPD_9956/PROTON.46.').add_metabolites(\n",
    "    {lru.metabolites.h_m: -4, lru.metabolites.h_i: 4})"
   ]
  },
  {
   "cell_type": "code",
   "execution_count": 9,
   "metadata": {},
   "outputs": [],
   "source": [
    "lru.metabolites.Oxidized_CymA_Proteins_m.compartment = 'i'\n",
    "lru.metabolites.Oxidized_CymA_Proteins_m.id = 'Oxidized_CymA_Proteins_i'\n",
    "lru.metabolites.Reduced_CymA_Proteins_m.compartment = 'i'\n",
    "lru.metabolites.Reduced_CymA_Proteins_m.id = 'Reduced_CymA_Proteins_i'"
   ]
  },
  {
   "cell_type": "code",
   "execution_count": 10,
   "metadata": {},
   "outputs": [],
   "source": [
    "lru.remove_reactions(['ATPSYN_RXN[CCO_EXTRACELLULAR_CCO_CYTOSOL]_ATP/WATER/PROTON//ADP/Pi/PROTON.63.'])"
   ]
  },
  {
   "cell_type": "code",
   "execution_count": 11,
   "metadata": {},
   "outputs": [],
   "source": [
    "lru.objective = lru.reactions.get_by_id('ATPSYN_RXN[CCO_MIT_IMEM]_ATP/WATER/PROTON//ADP/Pi/PROTON.46.')"
   ]
  },
  {
   "cell_type": "code",
   "execution_count": 15,
   "metadata": {},
   "outputs": [],
   "source": [
    "# prevent unrealistic solutions that lead to a P O ratio of 1\n",
    "lru.reactions.get_by_id('FORMYLTETRAHYDROFOLATE_DEHYDROGENASE_RXN').lower_bound = 0"
   ]
  },
  {
   "cell_type": "code",
   "execution_count": 12,
   "metadata": {},
   "outputs": [
    {
     "data": {
      "text/plain": [
       "300.99999999985687"
      ]
     },
     "execution_count": 12,
     "metadata": {},
     "output_type": "execute_result"
    }
   ],
   "source": [
    "lru.slim_optimize()"
   ]
  },
  {
   "cell_type": "code",
   "execution_count": 16,
   "metadata": {},
   "outputs": [],
   "source": [
    "cobra.io.write_sbml_model(lru, os.path.join(species, \"metabolic_model\", \"compartment_model_mod.sbml.gz\"))"
   ]
  }
 ],
 "metadata": {
  "kernelspec": {
   "display_name": "cnapy3",
   "language": "python",
   "name": "python3"
  },
  "language_info": {
   "codemirror_mode": {
    "name": "ipython",
    "version": 3
   },
   "file_extension": ".py",
   "mimetype": "text/x-python",
   "name": "python",
   "nbconvert_exporter": "python",
   "pygments_lexer": "ipython3",
   "version": "3.10.14"
  },
  "orig_nbformat": 4,
  "vscode": {
   "interpreter": {
    "hash": "a61662bcb8a099dad95f67c6cfda55e0c4eddaf5106edf2b4624587b196f80f3"
   }
  }
 },
 "nbformat": 4,
 "nbformat_minor": 2
}
