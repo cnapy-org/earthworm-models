{
 "cells": [
  {
   "cell_type": "code",
   "execution_count": 7,
   "metadata": {},
   "outputs": [],
   "source": [
    "import os\n",
    "import tempfile\n",
    "import shutil\n",
    "from functools import reduce"
   ]
  },
  {
   "cell_type": "code",
   "execution_count": 2,
   "metadata": {},
   "outputs": [],
   "source": [
    "species = 'lumbricus_rubellus'\n",
    "assembly = 'wcLumRube1.1' # can be found on the Ensembl project page\n",
    "gff3_file = '/home/vonkamp/gwdg_owncloud/lumbricus_integrate_koala/Lumbricus_rubellus_-GCA_945859605.1-2023_03-genes.gff3'\n",
    "unmasked_genome = '/scratch/vonkamp/lumbricus_rubellus/ensembl_data/Lumbricus_rubellus-GCA_945859605.1-unmasked.fa'"
   ]
  },
  {
   "cell_type": "code",
   "execution_count": 12,
   "metadata": {},
   "outputs": [],
   "source": [
    "species = 'lumbricus_terrestris'\n",
    "assembly = 'wcLumTerr1.1' # can be found on the Ensembl project page\n",
    "gff3_file = '/scratch/vonkamp/lumbricus_terrestris/Lumbricus_terrestris-GCA_949752735.1-2023_11-genes.gff3'\n",
    "unmasked_genome = '/scratch/vonkamp/lumbricus_terrestris/Lumbricus_terrestris-GCA_949752735.1-unmasked.fa'"
   ]
  },
  {
   "cell_type": "code",
   "execution_count": 8,
   "metadata": {},
   "outputs": [
    {
     "name": "stdout",
     "output_type": "stream",
     "text": [
      "BioCyc input will be in: /tmp/lumbricus_terrestris_biocyc_pf_fa\n"
     ]
    }
   ],
   "source": [
    "biocyc_input = os.path.join(tempfile.tempdir, species+'_biocyc_pf_fa')\n",
    "if os.path.exists(biocyc_input):\n",
    "    shutil.rmtree(biocyc_input) # remove old files\n",
    "os.mkdir(biocyc_input)\n",
    "print(\"BioCyc input will be in:\", biocyc_input)"
   ]
  },
  {
   "cell_type": "code",
   "execution_count": 11,
   "metadata": {},
   "outputs": [
    {
     "name": "stdout",
     "output_type": "stream",
     "text": [
      "Chromosome wcLumTerr1.1:1\n",
      "Chromosome wcLumTerr1.1:2\n",
      "Chromosome wcLumTerr1.1:3\n",
      "Chromosome wcLumTerr1.1:4\n",
      "Chromosome wcLumTerr1.1:5\n",
      "Chromosome wcLumTerr1.1:6\n",
      "Chromosome wcLumTerr1.1:7\n",
      "Chromosome wcLumTerr1.1:8\n",
      "Chromosome wcLumTerr1.1:9\n",
      "Chromosome wcLumTerr1.1:10\n",
      "Chromosome wcLumTerr1.1:11\n",
      "Chromosome wcLumTerr1.1:12\n",
      "Chromosome wcLumTerr1.1:13\n",
      "Chromosome wcLumTerr1.1:14\n",
      "Chromosome wcLumTerr1.1:15\n",
      "Chromosome wcLumTerr1.1:16\n",
      "Chromosome wcLumTerr1.1:17\n",
      "Chromosome wcLumTerr1.1:18\n",
      "343 non-chromosomal contigs.\n"
     ]
    }
   ],
   "source": [
    "contig_count = 0\n",
    "contig_file = None\n",
    "with open(unmasked_genome) as fasta_file, \\\n",
    "     open(os.path.join(biocyc_input, 'genetic-elements.dat'), 'w') as ge_file:\n",
    "    for line in fasta_file:\n",
    "        idx = line.find(assembly)\n",
    "        if idx >= 0:\n",
    "            contig = line[idx:line.find(':', idx + len(assembly) + 1)]\n",
    "            ge_file.write(f\"ID\\t{contig.replace('.', '_').replace(':', '-')}\\nNAME\\t{contig}\\n\")\n",
    "            try:\n",
    "                int(contig.split(':')[1])\n",
    "            except ValueError:\n",
    "                ge_file.write(\"TYPE\\t:CONTIG\\n\")\n",
    "                contig_count += 1\n",
    "            else:\n",
    "                ge_file.write(\"TYPE\\t:CHRSM\\n\")\n",
    "                print(\"Chromosome\", contig)\n",
    "            ge_file.write(f\"CIRCULAR?\\tN\\nANNOT-FILE\\t{contig}.pf\\nSEQ-FILE\\t{contig}.fa\\n//\\n\")\n",
    "            if contig_file is not None:\n",
    "                contig_file.close()\n",
    "            contig_file = open(os.path.join(biocyc_input, contig+'.fa'), 'w')\n",
    "        contig_file.write(line)\n",
    "contig_file.close()\n",
    "print(contig_count, \"non-chromosomal contigs.\")"
   ]
  },
  {
   "cell_type": "markdown",
   "metadata": {},
   "source": [
    "The BlastKOALA service needs to be run via its web interface (https://www.kegg.jp/blastkoala/) with e.g. Lumbricus_rubellus_-GCA_945859605.1-2023_03-pep.fa as input (it is currently necessary to split this file into two because it exceeds to numer of allowed proteins). The (merged) result is then placed in BlastKOALA/user_ko_definition.txt."
   ]
  },
  {
   "cell_type": "code",
   "execution_count": 13,
   "metadata": {},
   "outputs": [
    {
     "name": "stdout",
     "output_type": "stream",
     "text": [
      "5269\n",
      "1232\n"
     ]
    }
   ],
   "source": [
    "import re\n",
    "def parse_user_ko_definition(filename: str, score=False) -> dict:\n",
    "    ec_pattern = re.compile(\"[\\s:][\\d-]+\\.[\\d-]+\\.[\\d-]+\\.[\\d-]+\") # match multiple and also partial EC numbers\n",
    "    id2kegg_ec = dict()\n",
    "    with open(filename) as file:\n",
    "        for line in file:\n",
    "            line = line.split(\"\\t\")\n",
    "            match = ec_pattern.findall(line[2])\n",
    "            if len(match) > 0:\n",
    "                name = line[2][0:line[2].find(\"[EC:\")].split(\";\")[1].strip()\n",
    "                ec_number = set([m[1:] for m in match])\n",
    "                if score:\n",
    "                    s = float(line[3])\n",
    "                    id2kegg_ec[line[0][:-2]] = (ec_number, name, s)\n",
    "                else:\n",
    "                    id2kegg_ec[line[0][:-2]] = (ec_number, name)\n",
    "    return id2kegg_ec\n",
    "ensembl_id2kegg_ec = parse_user_ko_definition(os.path.join(species, 'BlastKOALA', 'user_ko_definition.txt'))\n",
    "print(len(ensembl_id2kegg_ec)) # number of predicted proteins that have an EC number\n",
    "print(len(reduce(set.union, (ec[0] for ec in ensembl_id2kegg_ec.values())))) # number of distinct EC numbers found"
   ]
  },
  {
   "cell_type": "markdown",
   "metadata": {},
   "source": [
    "#!genome-build  wcLumRube1.1\n"
   ]
  },
  {
   "cell_type": "code",
   "execution_count": 13,
   "metadata": {},
   "outputs": [
    {
     "name": "stdout",
     "output_type": "stream",
     "text": [
      "26609\n"
     ]
    }
   ],
   "source": [
    "# this section relies particluarities of Ensembl GFF files\n",
    "section_begin = \"###\"\n",
    "gene_id_pattern = re.compile(\"ID=gene:(\\w+)\")\n",
    "gene_name_pattern = re.compile(\"Name=(\\w+)\")\n",
    "description_pattern = re.compile(\"description=.+\\]\")\n",
    "cds_id_pattern = re.compile(\"ID=CDS:\\w+\")\n",
    "region_pattern = re.compile(\"ID=region\")\n",
    "cds_id2function = dict()\n",
    "new_section = False\n",
    "in_gene_section = False\n",
    "gene_count = 0\n",
    "pf_file = None\n",
    "current_gene_id = ''\n",
    "current_gene_startbase = 0\n",
    "current_gene_endbase = 0\n",
    "current_cds_id = None\n",
    "cds_segments = []\n",
    "def write_transcript():\n",
    "    global current_cds_id\n",
    "    global cds_segments\n",
    "    global cds_id2function\n",
    "    if current_cds_id is not None:\n",
    "        # !! if a real gene exists this will be used as ID by PathwayTools and the ID ist not recorded in the DB !!\n",
    "        # pf_file.write(f\"ID\\t{current_gene_id}\\nNAME\\t{current_cds_id if current_gene_name is None else current_gene_name}\\nPRODUCT-TYPE\\tP\\n\") # LRULOC\n",
    "        pf_file.write(f\"ID\\t{current_gene_id}\\nNAME\\t{current_gene_id if current_gene_name is None else current_gene_name}\\nPRODUCT-TYPE\\tP\\nPRODUCT-ID\\t{current_cds_id}\\n\") # LRULOC\n",
    "        pf_file.write(f\"STARTBASE\\t{current_gene_startbase}\\nENDBASE\\t{current_gene_endbase}\\n\")\n",
    "        for (s,e) in cds_segments:\n",
    "            pf_file.write(f\"CODING-SEGMENT\\t{s}-{e}\\n\")\n",
    "\n",
    "        if current_gene_description and current_cds_id not in cds_id2function:\n",
    "            cds_id2function[current_cds_id] = current_gene_description # for later use\n",
    "        ec_number = ensembl_id2kegg_ec.get(current_cds_id, None) # KEGG EC gets precedent over ENSEMBL function\n",
    "        if ec_number:\n",
    "            if len(ec_number[1]) > 0:\n",
    "                for fn in ec_number[1].split(\" / \"):\n",
    "                    pf_file.write(f\"FUNCTION\\t{fn}\\n\")\n",
    "            elif current_gene_description: # in case only Architect identified an EC number...\n",
    "                pf_file.write(f\"FUNCTION\\t{current_gene_description}\\n\") # ...use ENSEMBL function prediction as product description\n",
    "            for ec in ec_number[0]:\n",
    "                pf_file.write(f\"EC\\t{ec}\\n\")\n",
    "        elif current_gene_description:\n",
    "            pf_file.write(f\"FUNCTION\\t{current_gene_description}\\n\")\n",
    "        pf_file.write(\"//\\n\")\n",
    "    current_cds_id = None\n",
    "    cds_segments.clear()\n",
    "\n",
    "with open(gff3_file) as file:\n",
    "    for line in file:\n",
    "        region = region_pattern.search(line)\n",
    "        if region:\n",
    "            contig = assembly+line[region.span()[1]:line.find(\";\", region.span()[1])]\n",
    "            if pf_file is not None:\n",
    "                pf_file.close()\n",
    "            pf_file = open(os.path.join(biocyc_input, contig+'.pf'), 'w')\n",
    "            continue\n",
    "        if line.startswith(section_begin):\n",
    "            write_transcript()\n",
    "            in_gene_section = False\n",
    "            new_section = True\n",
    "            current_gene_description = None\n",
    "        elif new_section:\n",
    "            new_section = False\n",
    "            columns = line.split(\"\\t\")\n",
    "            if columns[2] == \"gene\" and \"biotype=protein_coding\" in columns[8]:\n",
    "                in_gene_section = True\n",
    "                gene_count += 1\n",
    "                current_gene_id = gene_id_pattern.search(columns[8])\n",
    "                current_gene_id = current_gene_id.groups()[0]\n",
    "                current_gene_name = gene_name_pattern.search(columns[8])\n",
    "                if current_gene_name:\n",
    "                    current_gene_name = current_gene_name.groups()[0]\n",
    "                if columns[6] == '+':\n",
    "                    current_gene_startbase = columns[3]\n",
    "                    current_gene_endbase = columns[4]\n",
    "                elif columns[6] == '-':\n",
    "                    current_gene_startbase = columns[4]\n",
    "                    current_gene_endbase = columns[3]\n",
    "                else:\n",
    "                    raise\n",
    "                description = description_pattern.search(columns[8])\n",
    "                if description:\n",
    "                    current_gene_description = description.group(0)\n",
    "                    current_gene_description = current_gene_description[12:current_gene_description.index(\"[\")-1]\n",
    "        elif in_gene_section:\n",
    "            columns = line.split(\"\\t\")\n",
    "            cds_id = cds_id_pattern.search(columns[8])\n",
    "            if cds_id: # (part of) coding sequence\n",
    "                cds_id = cds_id.group(0)[7:]\n",
    "                if current_cds_id is None:\n",
    "                    current_cds_id = cds_id\n",
    "                elif cds_id != current_cds_id:\n",
    "                    write_transcript()\n",
    "                    current_cds_id = cds_id\n",
    "                if columns[6] == '+':\n",
    "                    cds_segments.append((columns[3], columns[4]))\n",
    "                elif columns[6] == '-':\n",
    "                    cds_segments.append((columns[4], columns[3]))\n",
    "                else:\n",
    "                    raise        \n",
    "pf_file.close()\n",
    "print(gene_count)"
   ]
  },
  {
   "cell_type": "markdown",
   "metadata": {},
   "source": [
    "NCBI Taxonomy IDs:\n",
    "Lumbricus rubellus: 35632\n",
    "Lumbricus terrestris: 6398"
   ]
  },
  {
   "cell_type": "markdown",
   "metadata": {},
   "source": [
    "With PathoLogic component of PathwayTools:\n",
    "1. Create new database, do not enter the replicon editor at the end of this step\n",
    "2. Copy genetic-elements.dat file from the BioCyc input directory to pathway_tools_config_data/vonkamp/ptools-local/pgdbs/user/lrucyc/1.0/input\n",
    "3. Run automated build"
   ]
  }
 ],
 "metadata": {
  "kernelspec": {
   "display_name": "cnapy3",
   "language": "python",
   "name": "python3"
  },
  "language_info": {
   "codemirror_mode": {
    "name": "ipython",
    "version": 3
   },
   "file_extension": ".py",
   "mimetype": "text/x-python",
   "name": "python",
   "nbconvert_exporter": "python",
   "pygments_lexer": "ipython3",
   "version": "3.10.14"
  },
  "orig_nbformat": 4,
  "vscode": {
   "interpreter": {
    "hash": "a61662bcb8a099dad95f67c6cfda55e0c4eddaf5106edf2b4624587b196f80f3"
   }
  }
 },
 "nbformat": 4,
 "nbformat_minor": 2
}
